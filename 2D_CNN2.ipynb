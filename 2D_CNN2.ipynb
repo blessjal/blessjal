{
  "nbformat": 4,
  "nbformat_minor": 0,
  "metadata": {
    "colab": {
      "name": "2D_CNN2.ipynb",
      "provenance": [],
      "collapsed_sections": [],
      "authorship_tag": "ABX9TyNx137UMirgQ8Y7O1F4EQNN",
      "include_colab_link": true
    },
    "kernelspec": {
      "name": "python3",
      "display_name": "Python 3"
    },
    "language_info": {
      "name": "python"
    }
  },
  "cells": [
    {
      "cell_type": "markdown",
      "metadata": {
        "id": "view-in-github",
        "colab_type": "text"
      },
      "source": [
        "<a href=\"https://colab.research.google.com/github/blessjal/blessjal/blob/main/2D_CNN2.ipynb\" target=\"_parent\"><img src=\"https://colab.research.google.com/assets/colab-badge.svg\" alt=\"Open In Colab\"/></a>"
      ]
    },
    {
      "cell_type": "code",
      "metadata": {
        "id": "4uzBTQpBYRFd"
      },
      "source": [
        "def convolve2D(image, kernel1, kernel2, strides, padding=0):\n",
        "  \n",
        "\n",
        "    # Gather Shapes of Kernel + Image + Padding\n",
        "    x1KernShape = kernel1.shape[0]\n",
        "    y1KernShape = kernel1.shape[1]\n",
        "    x2KernShape = kernel2.shape[0]\n",
        "    y2KernShape = kernel2.shape[1]\n",
        "    xImgShape = image.shape[0]\n",
        "    yImgShape = image.shape[1]\n",
        "\n",
        "    # Shape of Output Convolution\n",
        "    x1Output = int(((xImgShape - x1KernShape + 2 * padding) / strides) + 1)\n",
        "    y1Output = int(((yImgShape - y1KernShape + 2 * padding) / strides) + 1)\n",
        "    x2Output = int(((xImgShape - x2KernShape + 2 * padding) / strides) + 1)\n",
        "    y2Output = int(((yImgShape - y2KernShape + 2 * padding) / strides) + 1)\n",
        "    output1 = np.zeros((x1Output, y1Output))\n",
        "    output2 = np.zeros((x2Output, y2Output))\n",
        "\n",
        "\n",
        "    # Apply Equal Padding to All Sides\n",
        "    if padding != 0:\n",
        "        imagePadded = np.zeros((image.shape[0] + padding*2, image.shape[1] + padding*2))\n",
        "        imagePadded[int(padding):int(-1 * padding), int(padding):int(-1 * padding)] = image\n",
        "        print(imagePadded)\n",
        "    else:\n",
        "        imagePadded = image\n",
        "\n",
        "    # Iterate through image\n",
        "    for y in range(image.shape[1]):\n",
        "        # Exit Convolution\n",
        "        if y > image.shape[1] - y1KernShape:\n",
        "            break\n",
        "        # Only Convolve if y has gone down by the specified Strides\n",
        "        if y % strides == 0:\n",
        "            for x in range(image.shape[0]):\n",
        "                # Go to next row once kernel is out of bounds\n",
        "                if x > image.shape[0] - x1KernShape:\n",
        "                    break\n",
        "                try:\n",
        "                    # Only Convolve if x has moved by the specified Strides\n",
        "                    if x % strides == 0:\n",
        "                        output1[x, y] = (kernel1*imagePadded[x: x + x1KernShape, y: y + y1KernShape]).sum()\n",
        "                        output2[x, y] = (kernel2*imagePadded[x: x + x2KernShape, y: y + y2KernShape]).sum()\n",
        "                except:\n",
        "                    break\n",
        "\n",
        "    print('output1:\\n ',output1)\n",
        "    print('output2: \\n',output2)"
      ],
      "execution_count": 44,
      "outputs": []
    },
    {
      "cell_type": "code",
      "metadata": {
        "id": "m7J-fYwtcHp6"
      },
      "source": [
        "import numpy as np\n",
        "\n",
        "image = np.array([[1, 0, 0, 0, 0, 1], [0, 1, 0, 0, 1, 0], [0, 0, 1, 1, 0, 0], [1, 0, 0, 0, 1, 0], [0, 1, 0, 0, 1, 0], [0, 0, 1, 0, 1, 0]])\n",
        "\n",
        "kernel1 = np.array([[1, -1, -1], [-1, 1, -1], [-1, -1, 1]])\n",
        "kernel2 = np.array([[-1, 1, -1], [-1, 1, -1], [-1, 1, -1]])"
      ],
      "execution_count": 45,
      "outputs": []
    },
    {
      "cell_type": "code",
      "metadata": {
        "colab": {
          "base_uri": "https://localhost:8080/"
        },
        "id": "fHI0mA1Wcl-1",
        "outputId": "71eca273-fa84-4fc5-990e-5ecf73f16f58"
      },
      "source": [
        "result = convolve2D(image=image, kernel1=kernel1, kernel2=kernel2, strides=1, padding=0)\n",
        "result"
      ],
      "execution_count": 46,
      "outputs": [
        {
          "output_type": "stream",
          "text": [
            "output1:\n",
            "  [[ 3. -1. -3. -1.]\n",
            " [-3.  1.  0. -3.]\n",
            " [-3. -3.  0.  1.]\n",
            " [ 3. -2. -2. -1.]]\n",
            "output2: \n",
            " [[-1. -1. -1. -1.]\n",
            " [-1. -1. -2.  1.]\n",
            " [-1. -1. -2.  1.]\n",
            " [-1.  0. -4.  3.]]\n"
          ],
          "name": "stdout"
        }
      ]
    },
    {
      "cell_type": "code",
      "metadata": {
        "colab": {
          "base_uri": "https://localhost:8080/"
        },
        "id": "oWOqt4e1d1DO",
        "outputId": "3ffd9381-c2f0-4810-f133-078b8e17753c"
      },
      "source": [
        "result2 = convolve2D(image=image, kernel1=kernel1, kernel2=kernel2, strides=3, padding=0)\n",
        "result2"
      ],
      "execution_count": 40,
      "outputs": [
        {
          "output_type": "stream",
          "text": [
            "output1:\n",
            "  [[3. 0.]\n",
            " [0. 0.]]\n",
            "output2: \n",
            " [[-1.  0.]\n",
            " [ 0.  0.]]\n"
          ],
          "name": "stdout"
        }
      ]
    },
    {
      "cell_type": "code",
      "metadata": {
        "colab": {
          "base_uri": "https://localhost:8080/"
        },
        "id": "vi6RjkO6eoO9",
        "outputId": "b2cb27b1-c825-4a6e-97f9-798c6c31d5c5"
      },
      "source": [
        "y1 = np.zeros((2, 2))\n",
        "y2 = np.zeros((2, 2))\n",
        "\n",
        "y1[0,0]=np.sum(image[0:3, 0:3]*kernel1)\n",
        "y1[0,1]=np.sum(image[0:3, 3:6]*kernel1)\n",
        "y1[1,0]=np.sum(image[3:6, 0:3]*kernel1)\n",
        "y1[1,1]=np.sum(image[3:6,3:6]*kernel1)\n",
        "\n",
        "y2[0,0]=np.sum(image[0:3, 0:3]*kernel2)\n",
        "y2[0,1]=np.sum(image[0:3, 3:6]*kernel2)\n",
        "y2[1,0]=np.sum(image[3:6, 0:3]*kernel2)\n",
        "y2[1,1]=np.sum(image[3:6,3:6]*kernel2)\n",
        "print('output1: \\n', y1)\n",
        "print()\n",
        "print('ouput2: \\n', y2)"
      ],
      "execution_count": 41,
      "outputs": [
        {
          "output_type": "stream",
          "text": [
            "output1: \n",
            " [[ 3. -1.]\n",
            " [ 3. -1.]]\n",
            "\n",
            "ouput2: \n",
            " [[-1. -1.]\n",
            " [-1.  3.]]\n"
          ],
          "name": "stdout"
        }
      ]
    }
  ]
}