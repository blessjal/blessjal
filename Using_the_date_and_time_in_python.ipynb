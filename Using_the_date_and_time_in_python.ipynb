{
  "nbformat": 4,
  "nbformat_minor": 0,
  "metadata": {
    "colab": {
      "name": "Using the date and time in python.ipynb",
      "provenance": [],
      "collapsed_sections": [],
      "authorship_tag": "ABX9TyNNdWoZvenUXGYnC9wxH4Zg",
      "include_colab_link": true
    },
    "kernelspec": {
      "name": "python3",
      "display_name": "Python 3"
    },
    "language_info": {
      "name": "python"
    }
  },
  "cells": [
    {
      "cell_type": "markdown",
      "metadata": {
        "id": "view-in-github",
        "colab_type": "text"
      },
      "source": [
        "<a href=\"https://colab.research.google.com/github/blessjal/blessjal/blob/main/Using_the_date_and_time_in_python.ipynb\" target=\"_parent\"><img src=\"https://colab.research.google.com/assets/colab-badge.svg\" alt=\"Open In Colab\"/></a>"
      ]
    },
    {
      "cell_type": "code",
      "metadata": {
        "id": "ST00N7b1SuRy"
      },
      "source": [
        "import datetime as dt"
      ],
      "execution_count": 1,
      "outputs": []
    },
    {
      "cell_type": "code",
      "metadata": {
        "colab": {
          "base_uri": "https://localhost:8080/"
        },
        "id": "XwW4tzs3SxeH",
        "outputId": "1149b0ec-a468-42e5-d88b-8b66260e559e"
      },
      "source": [
        "now = dt.datetime.now()\n",
        "now"
      ],
      "execution_count": 3,
      "outputs": [
        {
          "output_type": "execute_result",
          "data": {
            "text/plain": [
              "datetime.datetime(2021, 6, 30, 19, 0, 39, 486297)"
            ]
          },
          "metadata": {
            "tags": []
          },
          "execution_count": 3
        }
      ]
    },
    {
      "cell_type": "markdown",
      "metadata": {
        "id": "A0VbJCHyW850"
      },
      "source": [
        "24-hour time format"
      ]
    },
    {
      "cell_type": "code",
      "metadata": {
        "colab": {
          "base_uri": "https://localhost:8080/",
          "height": 35
        },
        "id": "EcXtKiUvS0kN",
        "outputId": "ca5d8b0c-356b-46aa-eb62-a16de64cce35"
      },
      "source": [
        "t24 = now.strftime('%H:%M')\n",
        "t24"
      ],
      "execution_count": 5,
      "outputs": [
        {
          "output_type": "execute_result",
          "data": {
            "application/vnd.google.colaboratory.intrinsic+json": {
              "type": "string"
            },
            "text/plain": [
              "'19:00'"
            ]
          },
          "metadata": {
            "tags": []
          },
          "execution_count": 5
        }
      ]
    },
    {
      "cell_type": "markdown",
      "metadata": {
        "id": "LXEJF7tfXBek"
      },
      "source": [
        "12-hour time format"
      ]
    },
    {
      "cell_type": "code",
      "metadata": {
        "colab": {
          "base_uri": "https://localhost:8080/",
          "height": 35
        },
        "id": "7SOtutKkS9QM",
        "outputId": "bc42538d-8c60-4cc8-b48b-f9779fc7b4bc"
      },
      "source": [
        "t12 = now.strftime('%I:%M %p')\n",
        "t12"
      ],
      "execution_count": 7,
      "outputs": [
        {
          "output_type": "execute_result",
          "data": {
            "application/vnd.google.colaboratory.intrinsic+json": {
              "type": "string"
            },
            "text/plain": [
              "'07:00 PM'"
            ]
          },
          "metadata": {
            "tags": []
          },
          "execution_count": 7
        }
      ]
    },
    {
      "cell_type": "markdown",
      "metadata": {
        "id": "Y6Yzve-JW3Ds"
      },
      "source": [
        "Remove the leading 0"
      ]
    },
    {
      "cell_type": "code",
      "metadata": {
        "colab": {
          "base_uri": "https://localhost:8080/",
          "height": 35
        },
        "id": "sn_GNQ2qTJ7u",
        "outputId": "d1e70d15-b0d2-4284-a12a-c138a829e836"
      },
      "source": [
        "t12 = now.strftime('%-I:%M %p')\n",
        "t12"
      ],
      "execution_count": 9,
      "outputs": [
        {
          "output_type": "execute_result",
          "data": {
            "application/vnd.google.colaboratory.intrinsic+json": {
              "type": "string"
            },
            "text/plain": [
              "'7:00 PM'"
            ]
          },
          "metadata": {
            "tags": []
          },
          "execution_count": 9
        }
      ]
    },
    {
      "cell_type": "markdown",
      "metadata": {
        "id": "Mq95Yoh3W0Bk"
      },
      "source": [
        "30-06-2021"
      ]
    },
    {
      "cell_type": "code",
      "metadata": {
        "colab": {
          "base_uri": "https://localhost:8080/",
          "height": 35
        },
        "id": "EpLjnXh5Tior",
        "outputId": "07dff671-2b7e-4516-b772-b8e804ce45f1"
      },
      "source": [
        "d1 = now.strftime('%d-%m-%Y')\n",
        "d1"
      ],
      "execution_count": 10,
      "outputs": [
        {
          "output_type": "execute_result",
          "data": {
            "application/vnd.google.colaboratory.intrinsic+json": {
              "type": "string"
            },
            "text/plain": [
              "'30-06-2021'"
            ]
          },
          "metadata": {
            "tags": []
          },
          "execution_count": 10
        }
      ]
    },
    {
      "cell_type": "markdown",
      "metadata": {
        "id": "ACFz1ewtWvRu"
      },
      "source": [
        "06/30/2021"
      ]
    },
    {
      "cell_type": "code",
      "metadata": {
        "colab": {
          "base_uri": "https://localhost:8080/",
          "height": 35
        },
        "id": "N4KdHjdpT18i",
        "outputId": "9d22b63b-c824-40fe-a98f-85f426c1e09e"
      },
      "source": [
        "d2 = now.strftime('%m/%d/%Y')\n",
        "d2"
      ],
      "execution_count": 12,
      "outputs": [
        {
          "output_type": "execute_result",
          "data": {
            "application/vnd.google.colaboratory.intrinsic+json": {
              "type": "string"
            },
            "text/plain": [
              "'06/30/2021'"
            ]
          },
          "metadata": {
            "tags": []
          },
          "execution_count": 12
        }
      ]
    },
    {
      "cell_type": "markdown",
      "metadata": {
        "id": "iFAqDlKBWsUm"
      },
      "source": [
        "30-Jun-2021"
      ]
    },
    {
      "cell_type": "code",
      "metadata": {
        "colab": {
          "base_uri": "https://localhost:8080/",
          "height": 35
        },
        "id": "4-Fkt9vmT9ib",
        "outputId": "8a6da8ac-6c41-40e2-de09-f6e91086234d"
      },
      "source": [
        "d3 = now.strftime('%d-%b-%Y')\n",
        "d3"
      ],
      "execution_count": 14,
      "outputs": [
        {
          "output_type": "execute_result",
          "data": {
            "application/vnd.google.colaboratory.intrinsic+json": {
              "type": "string"
            },
            "text/plain": [
              "'30-Jun-2021'"
            ]
          },
          "metadata": {
            "tags": []
          },
          "execution_count": 14
        }
      ]
    },
    {
      "cell_type": "markdown",
      "metadata": {
        "id": "cmcJz3lyWowu"
      },
      "source": [
        "30 June 2021"
      ]
    },
    {
      "cell_type": "code",
      "metadata": {
        "colab": {
          "base_uri": "https://localhost:8080/",
          "height": 35
        },
        "id": "3CH81attUOXq",
        "outputId": "59a13312-3ab3-4973-a8c4-07439a5f60ec"
      },
      "source": [
        "d4 = now.strftime('%d %B %Y')\n",
        "d4"
      ],
      "execution_count": 15,
      "outputs": [
        {
          "output_type": "execute_result",
          "data": {
            "application/vnd.google.colaboratory.intrinsic+json": {
              "type": "string"
            },
            "text/plain": [
              "'30 June 2021'"
            ]
          },
          "metadata": {
            "tags": []
          },
          "execution_count": 15
        }
      ]
    },
    {
      "cell_type": "markdown",
      "metadata": {
        "id": "x0zg1z8lWj5e"
      },
      "source": [
        "Wednesday 30 June 2021"
      ]
    },
    {
      "cell_type": "code",
      "metadata": {
        "colab": {
          "base_uri": "https://localhost:8080/",
          "height": 35
        },
        "id": "VSHcl51AUVf1",
        "outputId": "a5b8fe40-5906-455c-f502-d52ba5c09b28"
      },
      "source": [
        "d5 = now.strftime('%A %d %B %Y')\n",
        "d5"
      ],
      "execution_count": 16,
      "outputs": [
        {
          "output_type": "execute_result",
          "data": {
            "application/vnd.google.colaboratory.intrinsic+json": {
              "type": "string"
            },
            "text/plain": [
              "'Wednesday 30 June 2021'"
            ]
          },
          "metadata": {
            "tags": []
          },
          "execution_count": 16
        }
      ]
    },
    {
      "cell_type": "markdown",
      "metadata": {
        "id": "MZBr0UNmUk_S"
      },
      "source": [
        "Wednesday the 30th of June 2021"
      ]
    },
    {
      "cell_type": "code",
      "metadata": {
        "colab": {
          "base_uri": "https://localhost:8080/",
          "height": 35
        },
        "id": "UkXdG54eUj0t",
        "outputId": "379139f4-432b-4036-d578-671d0378be74"
      },
      "source": [
        "day = now.strftime('%A')\n",
        "\n",
        "def suffix(d):\n",
        "    if 11 <= d <= 13: 'th'\n",
        "    return {1:'st', 2:'nd', 3:'rd'}.get(d%10, 'th')\n",
        "\n",
        "full = day + ' the ' + str(now.day) + suffix(now.day) + ' of ' + now.strftime('%B %Y')\n",
        "\n",
        "full"
      ],
      "execution_count": 23,
      "outputs": [
        {
          "output_type": "execute_result",
          "data": {
            "application/vnd.google.colaboratory.intrinsic+json": {
              "type": "string"
            },
            "text/plain": [
              "'Wednesday the 30th of June 2021'"
            ]
          },
          "metadata": {
            "tags": []
          },
          "execution_count": 23
        }
      ]
    },
    {
      "cell_type": "code",
      "metadata": {
        "colab": {
          "base_uri": "https://localhost:8080/",
          "height": 35
        },
        "id": "LZ95KY-lVtFR",
        "outputId": "9a0044e6-878a-445b-934d-90c32a0a259f"
      },
      "source": [
        "day = now.strftime('%A')\n",
        "\n",
        "def suffix(d):\n",
        "    if 11 <= d <= 13: \n",
        "        return'th'\n",
        "    else:\n",
        "        return {1:'st', 2:'nd', 3:'rd'}.get(d%10, 'th')\n",
        "\n",
        "full = day + ' the ' + str(now.day) + suffix(now.day) + ' of ' + now.strftime('%B %Y')\n",
        "\n",
        "full"
      ],
      "execution_count": 24,
      "outputs": [
        {
          "output_type": "execute_result",
          "data": {
            "application/vnd.google.colaboratory.intrinsic+json": {
              "type": "string"
            },
            "text/plain": [
              "'Wednesday the 30th of June 2021'"
            ]
          },
          "metadata": {
            "tags": []
          },
          "execution_count": 24
        }
      ]
    },
    {
      "cell_type": "markdown",
      "metadata": {
        "id": "jPe9kSDIZXFm"
      },
      "source": [
        "Reading a saved date from a file"
      ]
    },
    {
      "cell_type": "code",
      "metadata": {
        "colab": {
          "base_uri": "https://localhost:8080/",
          "height": 35
        },
        "id": "EgTijS1HXqyF",
        "outputId": "0ea99c4d-d3d8-4b12-e06f-a823b5b819d2"
      },
      "source": [
        "f = open('/content/time.txt', 'r')\n",
        "d = f.readline()\n",
        "d"
      ],
      "execution_count": 26,
      "outputs": [
        {
          "output_type": "execute_result",
          "data": {
            "application/vnd.google.colaboratory.intrinsic+json": {
              "type": "string"
            },
            "text/plain": [
              "'2021-06-30 14:22:00'"
            ]
          },
          "metadata": {
            "tags": []
          },
          "execution_count": 26
        }
      ]
    },
    {
      "cell_type": "code",
      "metadata": {
        "colab": {
          "base_uri": "https://localhost:8080/"
        },
        "id": "dH5KKigmXq3w",
        "outputId": "924017d0-8952-4d0d-fcf3-983c2ea34041"
      },
      "source": [
        "d_time = dt.datetime.strptime(d, '%Y-%m-%d %H:%M:%S')\n",
        "d_time"
      ],
      "execution_count": 28,
      "outputs": [
        {
          "output_type": "execute_result",
          "data": {
            "text/plain": [
              "datetime.datetime(2021, 6, 30, 14, 22)"
            ]
          },
          "metadata": {
            "tags": []
          },
          "execution_count": 28
        }
      ]
    },
    {
      "cell_type": "code",
      "metadata": {
        "colab": {
          "base_uri": "https://localhost:8080/",
          "height": 35
        },
        "id": "VKLOqAtZXrCk",
        "outputId": "36314f07-3469-497b-df3c-b2cbd9dab129"
      },
      "source": [
        "d_time.strftime('%Y')"
      ],
      "execution_count": 30,
      "outputs": [
        {
          "output_type": "execute_result",
          "data": {
            "application/vnd.google.colaboratory.intrinsic+json": {
              "type": "string"
            },
            "text/plain": [
              "'2021'"
            ]
          },
          "metadata": {
            "tags": []
          },
          "execution_count": 30
        }
      ]
    },
    {
      "cell_type": "code",
      "metadata": {
        "colab": {
          "base_uri": "https://localhost:8080/",
          "height": 35
        },
        "id": "sL26EHBVZE9N",
        "outputId": "2dfc81ae-6e0c-4047-8e9e-622739569677"
      },
      "source": [
        "d_time.strftime('%B')"
      ],
      "execution_count": 31,
      "outputs": [
        {
          "output_type": "execute_result",
          "data": {
            "application/vnd.google.colaboratory.intrinsic+json": {
              "type": "string"
            },
            "text/plain": [
              "'June'"
            ]
          },
          "metadata": {
            "tags": []
          },
          "execution_count": 31
        }
      ]
    },
    {
      "cell_type": "code",
      "metadata": {
        "colab": {
          "base_uri": "https://localhost:8080/",
          "height": 35
        },
        "id": "XtwBbtBjZOeT",
        "outputId": "b1204e24-75ed-44bc-f356-d74b5decb8a6"
      },
      "source": [
        "d_time.strftime('%A')"
      ],
      "execution_count": 32,
      "outputs": [
        {
          "output_type": "execute_result",
          "data": {
            "application/vnd.google.colaboratory.intrinsic+json": {
              "type": "string"
            },
            "text/plain": [
              "'Wednesday'"
            ]
          },
          "metadata": {
            "tags": []
          },
          "execution_count": 32
        }
      ]
    },
    {
      "cell_type": "markdown",
      "metadata": {
        "id": "wXH3zAI8ZdJ4"
      },
      "source": [
        "Finding the duration between two times"
      ]
    },
    {
      "cell_type": "code",
      "metadata": {
        "id": "5bXn196MZTMs"
      },
      "source": [
        "import time"
      ],
      "execution_count": 33,
      "outputs": []
    },
    {
      "cell_type": "code",
      "metadata": {
        "colab": {
          "base_uri": "https://localhost:8080/"
        },
        "id": "O1JmNISaZTQT",
        "outputId": "ff59bada-3636-477b-8deb-35ad927f8106"
      },
      "source": [
        "start = time.time() #number of seconds since 1/1/1970\n",
        "start"
      ],
      "execution_count": 34,
      "outputs": [
        {
          "output_type": "execute_result",
          "data": {
            "text/plain": [
              "1625081404.6220186"
            ]
          },
          "metadata": {
            "tags": []
          },
          "execution_count": 34
        }
      ]
    },
    {
      "cell_type": "code",
      "metadata": {
        "colab": {
          "base_uri": "https://localhost:8080/"
        },
        "id": "2n0JTB2qZTTy",
        "outputId": "54b41cfa-1706-4b94-a42a-3e57b2b2a0a5"
      },
      "source": [
        "finish = time.time()\n",
        "finish"
      ],
      "execution_count": 36,
      "outputs": [
        {
          "output_type": "execute_result",
          "data": {
            "text/plain": [
              "1625081445.2529783"
            ]
          },
          "metadata": {
            "tags": []
          },
          "execution_count": 36
        }
      ]
    },
    {
      "cell_type": "code",
      "metadata": {
        "colab": {
          "base_uri": "https://localhost:8080/"
        },
        "id": "s5YISJVvZTZO",
        "outputId": "d5e90ed6-5f05-45c5-af4c-3252cc27275b"
      },
      "source": [
        "duration = finish - start\n",
        "duration"
      ],
      "execution_count": 38,
      "outputs": [
        {
          "output_type": "execute_result",
          "data": {
            "text/plain": [
              "40.6309597492218"
            ]
          },
          "metadata": {
            "tags": []
          },
          "execution_count": 38
        }
      ]
    },
    {
      "cell_type": "markdown",
      "metadata": {
        "id": "gf2TTklFZ4qn"
      },
      "source": [
        "Finding the duration between two dates"
      ]
    },
    {
      "cell_type": "code",
      "metadata": {
        "colab": {
          "base_uri": "https://localhost:8080/"
        },
        "id": "cuNpmTEtZTdR",
        "outputId": "b03409aa-8587-4e86-8a52-d8713df15c76"
      },
      "source": [
        "birth = '6-8-1991'\n",
        "now = dt.datetime.now()\n",
        "now"
      ],
      "execution_count": 39,
      "outputs": [
        {
          "output_type": "execute_result",
          "data": {
            "text/plain": [
              "datetime.datetime(2021, 6, 30, 19, 32, 26, 534335)"
            ]
          },
          "metadata": {
            "tags": []
          },
          "execution_count": 39
        }
      ]
    },
    {
      "cell_type": "code",
      "metadata": {
        "colab": {
          "base_uri": "https://localhost:8080/"
        },
        "id": "_pLW0Yx0aIW7",
        "outputId": "01eefa2b-7c43-44b9-c2f2-14a67a99b0dd"
      },
      "source": [
        "then = dt.datetime.strptime(birth, '%d-%m-%Y')\n",
        "then"
      ],
      "execution_count": 42,
      "outputs": [
        {
          "output_type": "execute_result",
          "data": {
            "text/plain": [
              "datetime.datetime(1991, 8, 6, 0, 0)"
            ]
          },
          "metadata": {
            "tags": []
          },
          "execution_count": 42
        }
      ]
    },
    {
      "cell_type": "code",
      "metadata": {
        "colab": {
          "base_uri": "https://localhost:8080/"
        },
        "id": "5RKpeN7cad18",
        "outputId": "53dd079e-703e-4c49-e0c0-2edffa15cbd8"
      },
      "source": [
        "elapsed = now - then\n",
        "elapsed"
      ],
      "execution_count": 43,
      "outputs": [
        {
          "output_type": "execute_result",
          "data": {
            "text/plain": [
              "datetime.timedelta(days=10921, seconds=70346, microseconds=534335)"
            ]
          },
          "metadata": {
            "tags": []
          },
          "execution_count": 43
        }
      ]
    },
    {
      "cell_type": "code",
      "metadata": {
        "colab": {
          "base_uri": "https://localhost:8080/"
        },
        "id": "jyaGmPddan2V",
        "outputId": "74e7bae9-1b24-4840-8078-11779b44e445"
      },
      "source": [
        "elapsed.days/7"
      ],
      "execution_count": 44,
      "outputs": [
        {
          "output_type": "execute_result",
          "data": {
            "text/plain": [
              "1560.142857142857"
            ]
          },
          "metadata": {
            "tags": []
          },
          "execution_count": 44
        }
      ]
    },
    {
      "cell_type": "code",
      "metadata": {
        "colab": {
          "base_uri": "https://localhost:8080/"
        },
        "id": "G3nFX-6Ga2D-",
        "outputId": "49c505e2-b3ab-4acc-ba50-64e008b05e51"
      },
      "source": [
        "elapsed.days/365"
      ],
      "execution_count": 45,
      "outputs": [
        {
          "output_type": "execute_result",
          "data": {
            "text/plain": [
              "29.92054794520548"
            ]
          },
          "metadata": {
            "tags": []
          },
          "execution_count": 45
        }
      ]
    },
    {
      "cell_type": "code",
      "metadata": {
        "id": "RHWaddDCa65G"
      },
      "source": [
        ""
      ],
      "execution_count": null,
      "outputs": []
    }
  ]
}