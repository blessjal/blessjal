{
  "nbformat": 4,
  "nbformat_minor": 0,
  "metadata": {
    "colab": {
      "name": "class project.ipynb",
      "provenance": [],
      "authorship_tag": "ABX9TyMqpAYp8EV4u1gzJEufoTHV",
      "include_colab_link": true
    },
    "kernelspec": {
      "name": "python3",
      "display_name": "Python 3"
    },
    "language_info": {
      "name": "python"
    }
  },
  "cells": [
    {
      "cell_type": "markdown",
      "metadata": {
        "id": "view-in-github",
        "colab_type": "text"
      },
      "source": [
        "<a href=\"https://colab.research.google.com/github/blessjal/blessjal/blob/main/class_project.ipynb\" target=\"_parent\"><img src=\"https://colab.research.google.com/assets/colab-badge.svg\" alt=\"Open In Colab\"/></a>"
      ]
    },
    {
      "cell_type": "code",
      "metadata": {
        "id": "v849tohhbzT0"
      },
      "source": [
        "import matplotlib.pyplot as plt\n",
        "from sklearn import model_selection\n",
        "from sklearn.linear_model import LogisticRegression\n",
        "from sklearn.tree import DecisionTreeClassifier\n",
        "from sklearn.neighbors import KNeighborsClassifier\n",
        "from sklearn.discriminant_analysis import LinearDiscriminantAnalysis\n",
        "from sklearn.naive_bayes import GaussianNB\n",
        "from sklearn.ensemble import RandomForestClassifier\n",
        "from sklearn.svm import SVC\n",
        "from sklearn.model_selection import train_test_split, RepeatedStratifiedKFold\n",
        "from sklearn import datasets\n",
        "import matplotlib.pyplot as plt\n",
        "\n",
        "from xgboost.sklearn import XGBClassifier\n",
        "import pandas as pd\n",
        "import numpy as np\n",
        "\n",
        "import seaborn as sns\n",
        "\n",
        "\n",
        "plt.style.use('ggplot')"
      ],
      "execution_count": 2,
      "outputs": []
    },
    {
      "cell_type": "code",
      "metadata": {
        "id": "rAKB-UIcC91Z"
      },
      "source": [
        "import warnings\n",
        "\n",
        "warnings.filterwarnings('ignore')"
      ],
      "execution_count": 31,
      "outputs": []
    },
    {
      "cell_type": "code",
      "metadata": {
        "colab": {
          "base_uri": "https://localhost:8080/"
        },
        "id": "QjA6gXSTcb4M",
        "outputId": "03ce29d2-1f88-491e-e849-ca80307e524c"
      },
      "source": [
        "dataset = pd.read_csv('/content/sample_data/breast.csv')\n",
        "dataset.columns"
      ],
      "execution_count": 3,
      "outputs": [
        {
          "output_type": "execute_result",
          "data": {
            "text/plain": [
              "Index(['Unnamed: 0', 'Class', 'age', 'menopause', 'tumor-size', 'inv-nodes',\n",
              "       'node-caps', 'deg-malig', 'breast', 'breast-quad', 'irradiat'],\n",
              "      dtype='object')"
            ]
          },
          "metadata": {
            "tags": []
          },
          "execution_count": 3
        }
      ]
    },
    {
      "cell_type": "code",
      "metadata": {
        "colab": {
          "base_uri": "https://localhost:8080/",
          "height": 195
        },
        "id": "1zxeUPmhdASi",
        "outputId": "80eb6dc4-28c0-4218-ec19-4196aec76764"
      },
      "source": [
        "dataset = dataset[['age', 'menopause', 'tumor-size', 'inv-nodes',\n",
        "       'node-caps', 'deg-malig', 'breast', 'breast-quad', 'irradiat', 'Class']]\n",
        "\n",
        "dataset.head()"
      ],
      "execution_count": 4,
      "outputs": [
        {
          "output_type": "execute_result",
          "data": {
            "text/html": [
              "<div>\n",
              "<style scoped>\n",
              "    .dataframe tbody tr th:only-of-type {\n",
              "        vertical-align: middle;\n",
              "    }\n",
              "\n",
              "    .dataframe tbody tr th {\n",
              "        vertical-align: top;\n",
              "    }\n",
              "\n",
              "    .dataframe thead th {\n",
              "        text-align: right;\n",
              "    }\n",
              "</style>\n",
              "<table border=\"1\" class=\"dataframe\">\n",
              "  <thead>\n",
              "    <tr style=\"text-align: right;\">\n",
              "      <th></th>\n",
              "      <th>age</th>\n",
              "      <th>menopause</th>\n",
              "      <th>tumor-size</th>\n",
              "      <th>inv-nodes</th>\n",
              "      <th>node-caps</th>\n",
              "      <th>deg-malig</th>\n",
              "      <th>breast</th>\n",
              "      <th>breast-quad</th>\n",
              "      <th>irradiat</th>\n",
              "      <th>Class</th>\n",
              "    </tr>\n",
              "  </thead>\n",
              "  <tbody>\n",
              "    <tr>\n",
              "      <th>0</th>\n",
              "      <td>45.5</td>\n",
              "      <td>0</td>\n",
              "      <td>22.0</td>\n",
              "      <td>2</td>\n",
              "      <td>0.0</td>\n",
              "      <td>2</td>\n",
              "      <td>1</td>\n",
              "      <td>3</td>\n",
              "      <td>0</td>\n",
              "      <td>0</td>\n",
              "    </tr>\n",
              "    <tr>\n",
              "      <th>1</th>\n",
              "      <td>45.5</td>\n",
              "      <td>0</td>\n",
              "      <td>22.0</td>\n",
              "      <td>2</td>\n",
              "      <td>0.0</td>\n",
              "      <td>2</td>\n",
              "      <td>0</td>\n",
              "      <td>0</td>\n",
              "      <td>0</td>\n",
              "      <td>0</td>\n",
              "    </tr>\n",
              "    <tr>\n",
              "      <th>2</th>\n",
              "      <td>65.5</td>\n",
              "      <td>1</td>\n",
              "      <td>17.0</td>\n",
              "      <td>2</td>\n",
              "      <td>0.0</td>\n",
              "      <td>2</td>\n",
              "      <td>1</td>\n",
              "      <td>1</td>\n",
              "      <td>0</td>\n",
              "      <td>0</td>\n",
              "    </tr>\n",
              "    <tr>\n",
              "      <th>3</th>\n",
              "      <td>45.5</td>\n",
              "      <td>0</td>\n",
              "      <td>2.0</td>\n",
              "      <td>2</td>\n",
              "      <td>0.0</td>\n",
              "      <td>2</td>\n",
              "      <td>1</td>\n",
              "      <td>2</td>\n",
              "      <td>0</td>\n",
              "      <td>0</td>\n",
              "    </tr>\n",
              "    <tr>\n",
              "      <th>4</th>\n",
              "      <td>65.5</td>\n",
              "      <td>1</td>\n",
              "      <td>17.0</td>\n",
              "      <td>2</td>\n",
              "      <td>0.0</td>\n",
              "      <td>2</td>\n",
              "      <td>0</td>\n",
              "      <td>0</td>\n",
              "      <td>0</td>\n",
              "      <td>0</td>\n",
              "    </tr>\n",
              "  </tbody>\n",
              "</table>\n",
              "</div>"
            ],
            "text/plain": [
              "    age  menopause  tumor-size  inv-nodes  ...  breast  breast-quad  irradiat  Class\n",
              "0  45.5          0        22.0          2  ...       1            3         0      0\n",
              "1  45.5          0        22.0          2  ...       0            0         0      0\n",
              "2  65.5          1        17.0          2  ...       1            1         0      0\n",
              "3  45.5          0         2.0          2  ...       1            2         0      0\n",
              "4  65.5          1        17.0          2  ...       0            0         0      0\n",
              "\n",
              "[5 rows x 10 columns]"
            ]
          },
          "metadata": {
            "tags": []
          },
          "execution_count": 4
        }
      ]
    },
    {
      "cell_type": "code",
      "metadata": {
        "colab": {
          "base_uri": "https://localhost:8080/"
        },
        "id": "prxWydXRb1lC",
        "outputId": "db60ad5b-8770-48bf-f5ec-12abe43c2603"
      },
      "source": [
        "seed = 50\n",
        "\n",
        "X = dataset.drop('Class', axis=1); y = dataset['Class']\n",
        "X_train, X_test, y_train, y_test = train_test_split(X, y, test_size=0.30)\n",
        "kfold = model_selection.KFold(n_splits=10, random_state=seed)"
      ],
      "execution_count": 5,
      "outputs": [
        {
          "output_type": "stream",
          "text": [
            "/usr/local/lib/python3.7/dist-packages/sklearn/model_selection/_split.py:296: FutureWarning: Setting a random_state has no effect since shuffle is False. This will raise an error in 0.24. You should leave random_state to its default (None), or set shuffle=True.\n",
            "  FutureWarning\n"
          ],
          "name": "stderr"
        }
      ]
    },
    {
      "cell_type": "code",
      "metadata": {
        "id": "9u66QeJ0h-XJ"
      },
      "source": [
        "from imblearn.over_sampling import SMOTE\n",
        "sm = SMOTE(random_state=0)\n",
        "X_train_res, y_train_res = sm.fit_sample(X_train, np.ravel(y_train))\n",
        "X_test_res, y_test_res = sm.fit_sample(X_test, np.ravel(y_test))"
      ],
      "execution_count": 32,
      "outputs": []
    },
    {
      "cell_type": "code",
      "metadata": {
        "colab": {
          "base_uri": "https://localhost:8080/"
        },
        "id": "vPdSyo5diQML",
        "outputId": "20f4a3d4-94dd-4bb9-cfea-f4de074b0838"
      },
      "source": [
        "print('After OverSampling, the shape of features_X: {}'.format(X_train_res.shape))\n",
        "print('After OverSampling, the shape of Output_y: {} \\n'.format(y_train_res.shape))\n",
        "\n",
        "print(\"After OverSampling, counts of Recurrent Class '1': {}\".format(sum(y_train_res==1)))\n",
        "print(\"After OverSampling, counts of Non-Recurrent Class '0': {}\".format(sum(y_train_res==0)))"
      ],
      "execution_count": 7,
      "outputs": [
        {
          "output_type": "stream",
          "text": [
            "After OverSampling, the shape of features_X: (212, 9)\n",
            "After OverSampling, the shape of Output_y: (212,) \n",
            "\n",
            "After OverSampling, counts of Recurrent Class '1': 106\n",
            "After OverSampling, counts of Non-Recurrent Class '0': 106\n"
          ],
          "name": "stdout"
        }
      ]
    },
    {
      "cell_type": "code",
      "metadata": {
        "id": "2dUrcJBGb2MM"
      },
      "source": [
        "models = []\n",
        "models.append(('LR', LogisticRegression()))\n",
        "models.append(('LDA', LinearDiscriminantAnalysis()))\n",
        "models.append(('KNN', KNeighborsClassifier()))\n",
        "models.append(('CART', DecisionTreeClassifier()))\n",
        "models.append(('RF', RandomForestClassifier()))\n",
        "models.append(('XGB', XGBClassifier()))\n",
        "models.append(('NB', GaussianNB()))\n",
        "models.append(('SVM', SVC()))"
      ],
      "execution_count": 8,
      "outputs": []
    },
    {
      "cell_type": "code",
      "metadata": {
        "colab": {
          "base_uri": "https://localhost:8080/"
        },
        "id": "I_cJj4WZb2Pd",
        "outputId": "bd6abc9d-aa2b-488a-eb82-0cd197f28026"
      },
      "source": [
        "results = []\n",
        "names = []\n",
        "scoring = 'accuracy'\n",
        "for name, model in models:\n",
        "        kfold = model_selection.KFold(n_splits=10, random_state=seed)\n",
        "        cv_results = model_selection.cross_val_score(model, X_train_res, y_train_res, cv=kfold, scoring=scoring)\n",
        "        results.append(cv_results)\n",
        "        names.append(name)\n",
        "        msg = \"%s: %f (%f)\" % (name, cv_results.mean(), cv_results.std())\n",
        "        print(msg)"
      ],
      "execution_count": 34,
      "outputs": [
        {
          "output_type": "stream",
          "text": [
            "LR: 0.574892 (0.167729)\n",
            "LDA: 0.570346 (0.170294)\n",
            "KNN: 0.670346 (0.123737)\n",
            "CART: 0.760173 (0.150534)\n",
            "RF: 0.835931 (0.137778)\n",
            "XGB: 0.774459 (0.137011)\n",
            "NB: 0.650866 (0.122710)\n",
            "SVM: 0.504978 (0.132350)\n"
          ],
          "name": "stdout"
        }
      ]
    },
    {
      "cell_type": "code",
      "metadata": {
        "colab": {
          "base_uri": "https://localhost:8080/",
          "height": 663
        },
        "id": "hZ3oW-oHb2Th",
        "outputId": "ea0868b5-c95b-4f9f-a706-86f82989b4ae"
      },
      "source": [
        "fig = plt.figure(figsize=(10,10))\n",
        "fig.suptitle('Comparison of classification algorithms')\n",
        "ax = fig.add_subplot(111)\n",
        "plt.boxplot(results)\n",
        "ax.set_xticklabels(names)\n",
        "plt.show()"
      ],
      "execution_count": 35,
      "outputs": [
        {
          "output_type": "display_data",
          "data": {
            "image/png": "[encoded data removed]",
            "text/plain": [
              "<Figure size 720x720 with 1 Axes>"
            ]
          },
          "metadata": {
            "tags": []
          }
        }
      ]
    },
    {
      "cell_type": "code",
      "metadata": {
        "colab": {
          "base_uri": "https://localhost:8080/",
          "height": 743
        },
        "id": "HjRiJz6Ub2W4",
        "outputId": "d240a1d3-51c5-4af6-92b0-ad12f71ac8e7"
      },
      "source": [
        "plt.figure(figsize=(10,10))\n",
        "ax = sns.boxplot(data=results)\n",
        "ax.set(title='Comparison of Classification Algorithms')\n",
        "ax.set_xticklabels(names)\n"
      ],
      "execution_count": 36,
      "outputs": [
        {
          "output_type": "execute_result",
          "data": {
            "text/plain": [
              "[Text(0, 0, 'LR'),\n",
              " Text(0, 0, 'LDA'),\n",
              " Text(0, 0, 'KNN'),\n",
              " Text(0, 0, 'CART'),\n",
              " Text(0, 0, 'RF'),\n",
              " Text(0, 0, 'XGB'),\n",
              " Text(0, 0, 'NB'),\n",
              " Text(0, 0, 'SVM')]"
            ]
          },
          "metadata": {
            "tags": []
          },
          "execution_count": 36
        },
        {
          "output_type": "display_data",
          "data": {
            "image/png": "[encoded data removed]",
            "text/plain": [
              "<Figure size 720x720 with 1 Axes>"
            ]
          },
          "metadata": {
            "tags": []
          }
        }
      ]
    },
    {
      "cell_type": "code",
      "metadata": {
        "colab": {
          "base_uri": "https://localhost:8080/",
          "height": 314
        },
        "id": "rESyaSGUFgdE",
        "outputId": "706d159d-ff84-42e2-953b-7496e156b883"
      },
      "source": [
        "rf = RandomForestClassifier()\n",
        "rf.fit(X_train_res, y_train_res)\n",
        "\n",
        "\n",
        "\n",
        "feature_importances = pd.DataFrame(rf.feature_importances_, index =X.columns,  columns=['importance']).sort_values('importance', ascending=False)\n",
        "feature_importances"
      ],
      "execution_count": 59,
      "outputs": [
        {
          "output_type": "execute_result",
          "data": {
            "text/html": [
              "<div>\n",
              "<style scoped>\n",
              "    .dataframe tbody tr th:only-of-type {\n",
              "        vertical-align: middle;\n",
              "    }\n",
              "\n",
              "    .dataframe tbody tr th {\n",
              "        vertical-align: top;\n",
              "    }\n",
              "\n",
              "    .dataframe thead th {\n",
              "        text-align: right;\n",
              "    }\n",
              "</style>\n",
              "<table border=\"1\" class=\"dataframe\">\n",
              "  <thead>\n",
              "    <tr style=\"text-align: right;\">\n",
              "      <th></th>\n",
              "      <th>importance</th>\n",
              "    </tr>\n",
              "  </thead>\n",
              "  <tbody>\n",
              "    <tr>\n",
              "      <th>tumor-size</th>\n",
              "      <td>0.233330</td>\n",
              "    </tr>\n",
              "    <tr>\n",
              "      <th>deg-malig</th>\n",
              "      <td>0.190337</td>\n",
              "    </tr>\n",
              "    <tr>\n",
              "      <th>breast-quad</th>\n",
              "      <td>0.130352</td>\n",
              "    </tr>\n",
              "    <tr>\n",
              "      <th>age</th>\n",
              "      <td>0.089168</td>\n",
              "    </tr>\n",
              "    <tr>\n",
              "      <th>breast</th>\n",
              "      <td>0.088450</td>\n",
              "    </tr>\n",
              "    <tr>\n",
              "      <th>menopause</th>\n",
              "      <td>0.082390</td>\n",
              "    </tr>\n",
              "    <tr>\n",
              "      <th>inv-nodes</th>\n",
              "      <td>0.068236</td>\n",
              "    </tr>\n",
              "    <tr>\n",
              "      <th>node-caps</th>\n",
              "      <td>0.061537</td>\n",
              "    </tr>\n",
              "    <tr>\n",
              "      <th>irradiat</th>\n",
              "      <td>0.056200</td>\n",
              "    </tr>\n",
              "  </tbody>\n",
              "</table>\n",
              "</div>"
            ],
            "text/plain": [
              "             importance\n",
              "tumor-size     0.233330\n",
              "deg-malig      0.190337\n",
              "breast-quad    0.130352\n",
              "age            0.089168\n",
              "breast         0.088450\n",
              "menopause      0.082390\n",
              "inv-nodes      0.068236\n",
              "node-caps      0.061537\n",
              "irradiat       0.056200"
            ]
          },
          "metadata": {
            "tags": []
          },
          "execution_count": 59
        }
      ]
    },
    {
      "cell_type": "code",
      "metadata": {
        "colab": {
          "base_uri": "https://localhost:8080/",
          "height": 282
        },
        "id": "deMlZ5u8FggA",
        "outputId": "41e7dc6a-c224-4ba3-8967-2a7e695ebf4a"
      },
      "source": [
        "feature_importances.sort_values('importance', ascending=True).plot(kind='barh')"
      ],
      "execution_count": 66,
      "outputs": [
        {
          "output_type": "execute_result",
          "data": {
            "text/plain": [
              "<matplotlib.axes._subplots.AxesSubplot at 0x7fde0c8ab810>"
            ]
          },
          "metadata": {
            "tags": []
          },
          "execution_count": 66
        },
        {
          "output_type": "display_data",
          "data": {
            "image/png": "[encoded data removed]",
            "text/plain": [
              "<Figure size 432x288 with 1 Axes>"
            ]
          },
          "metadata": {
            "tags": []
          }
        }
      ]
    },
    {
      "cell_type": "code",
      "metadata": {
        "id": "ew-8SNJiCIAO"
      },
      "source": [
        "from sklearn.metrics import roc_auc_score, roc_curve\n",
        "from sklearn.model_selection import cross_val_score"
      ],
      "execution_count": 98,
      "outputs": []
    },
    {
      "cell_type": "code",
      "metadata": {
        "id": "TDE3LqpnMFYM"
      },
      "source": [
        "cv = RepeatedStratifiedKFold(n_splits=10, n_repeats=3, random_state=1)"
      ],
      "execution_count": 100,
      "outputs": []
    },
    {
      "cell_type": "code",
      "metadata": {
        "colab": {
          "base_uri": "https://localhost:8080/"
        },
        "id": "boz0lh6bFgjI",
        "outputId": "3584ec5f-7397-4a29-e62b-13944af6e0c1"
      },
      "source": [
        "scores = cross_val_score(rf, X_train_res, y_train_res, scoring='roc_auc', cv=cv, n_jobs=-1)\n",
        "print('Mean ROC AUC: %.5f' % np.mean(scores))"
      ],
      "execution_count": 101,
      "outputs": [
        {
          "output_type": "stream",
          "text": [
            "Mean ROC AUC: 0.88295\n"
          ],
          "name": "stdout"
        }
      ]
    },
    {
      "cell_type": "code",
      "metadata": {
        "id": "c0O84XiBIZb1"
      },
      "source": [
        "probs_rf = rf.predict_proba(X_test_res)[:, 1]\n",
        "auc_rf = roc_auc_score(y_test_res, probs_rf)"
      ],
      "execution_count": 102,
      "outputs": []
    },
    {
      "cell_type": "code",
      "metadata": {
        "id": "KFKqaefUCH6k"
      },
      "source": [
        "def plot_roc_curve(fpr, tpr):  \n",
        "    plt.plot(fpr, tpr, color='red', label=f'AUC (Random Forests) = {auc_rf:.2f}')\n",
        "    plt.plot([0, 1], [0, 1], color='darkblue', linestyle='--', label='baseline')\n",
        "    plt.xlabel('False Positive Rate')\n",
        "    plt.ylabel('True Positive Rate')\n",
        "    plt.title('Receiver Operating Characteristic (ROC) Curve')\n",
        "    plt.legend()\n",
        "    plt.show()"
      ],
      "execution_count": 103,
      "outputs": []
    },
    {
      "cell_type": "code",
      "metadata": {
        "colab": {
          "base_uri": "https://localhost:8080/",
          "height": 299
        },
        "id": "LYQdUPQvCH9d",
        "outputId": "ff5c0e7e-3685-4120-b1be-3ed4b5caf6fa"
      },
      "source": [
        "probs = rf.predict_proba(X_test_res)  \n",
        "probs = probs[:, 1]  \n",
        "fpr, tpr, thresholds = roc_curve(y_test_res, probs) \n",
        "plot_roc_curve(fpr, tpr)"
      ],
      "execution_count": 104,
      "outputs": [
        {
          "output_type": "display_data",
          "data": {
            "image/png": "[encoded data removed]",
            "text/plain": [
              "<Figure size 432x288 with 1 Axes>"
            ]
          },
          "metadata": {
            "tags": []
          }
        }
      ]
    },
    {
      "cell_type": "code",
      "metadata": {
        "colab": {
          "base_uri": "https://localhost:8080/"
        },
        "id": "_sWKp15vFgmB",
        "outputId": "0d12e91a-5628-4de5-989d-2ee283d0721c"
      },
      "source": [
        "rf.predict(X_test_res)"
      ],
      "execution_count": 72,
      "outputs": [
        {
          "output_type": "execute_result",
          "data": {
            "text/plain": [
              "array([0, 0, 0, 0, 1, 0, 0, 0, 1, 0, 0, 0, 0, 0, 0, 1, 0, 0, 1, 0, 0, 0,\n",
              "       0, 0, 0, 1, 1, 0, 0, 0, 0, 1, 0, 0, 0, 0, 0, 0, 0, 1, 0, 0, 1, 0,\n",
              "       0, 0, 0, 0, 0, 0, 0, 0, 0, 0, 0, 0, 1, 0, 0, 0, 1, 0, 1, 0, 0, 0,\n",
              "       1, 1, 1, 0, 0, 1, 0, 1, 0, 1, 1, 1, 1, 1, 1, 0, 1, 1, 0, 0, 1, 0,\n",
              "       0, 1])"
            ]
          },
          "metadata": {
            "tags": []
          },
          "execution_count": 72
        }
      ]
    },
    {
      "cell_type": "code",
      "metadata": {
        "id": "EBgPAFR6242M",
        "colab": {
          "base_uri": "https://localhost:8080/"
        },
        "outputId": "e355d977-5ccb-46f0-fa54-be0123316942"
      },
      "source": [
        "ex1 =X_test.iloc[0].tolist()\n",
        "ex1"
      ],
      "execution_count": 75,
      "outputs": [
        {
          "output_type": "execute_result",
          "data": {
            "text/plain": [
              "[55.5, 1.0, 42.0, 2.0, 0.0, 3.0, 1.0, 1.0, 0.0]"
            ]
          },
          "metadata": {
            "tags": []
          },
          "execution_count": 75
        }
      ]
    },
    {
      "cell_type": "code",
      "metadata": {
        "colab": {
          "base_uri": "https://localhost:8080/"
        },
        "id": "e1fpPzdyeKjB",
        "outputId": "68f9cf66-6e69-4ac5-bc95-320fe3aa9d4d"
      },
      "source": [
        "sample1 = np.array(ex1).reshape(1, -1)\n",
        "sample1"
      ],
      "execution_count": 76,
      "outputs": [
        {
          "output_type": "execute_result",
          "data": {
            "text/plain": [
              "array([[55.5,  1. , 42. ,  2. ,  0. ,  3. ,  1. ,  1. ,  0. ]])"
            ]
          },
          "metadata": {
            "tags": []
          },
          "execution_count": 76
        }
      ]
    },
    {
      "cell_type": "code",
      "metadata": {
        "colab": {
          "base_uri": "https://localhost:8080/"
        },
        "id": "kRWTtDmx765c",
        "outputId": "39b4b30a-f275-4d43-aa5e-122e4d176756"
      },
      "source": [
        "rf.predict(sample1)"
      ],
      "execution_count": 94,
      "outputs": [
        {
          "output_type": "execute_result",
          "data": {
            "text/plain": [
              "array([0])"
            ]
          },
          "metadata": {
            "tags": []
          },
          "execution_count": 94
        }
      ]
    },
    {
      "cell_type": "code",
      "metadata": {
        "colab": {
          "base_uri": "https://localhost:8080/"
        },
        "id": "3-RqYbuW768p",
        "outputId": "718c9846-c4ea-4268-d987-ab3fe16a93b5"
      },
      "source": [
        "ex2 =X_test.iloc[8].tolist()\n",
        "sample2 = np.array(ex2).reshape(1, -1)\n",
        "rf.predict(sample2)"
      ],
      "execution_count": 95,
      "outputs": [
        {
          "output_type": "execute_result",
          "data": {
            "text/plain": [
              "array([1])"
            ]
          },
          "metadata": {
            "tags": []
          },
          "execution_count": 95
        }
      ]
    },
    {
      "cell_type": "code",
      "metadata": {
        "colab": {
          "base_uri": "https://localhost:8080/",
          "height": 77
        },
        "id": "yKW8flfoKFlC",
        "outputId": "0086ce9b-a103-42e5-9fea-7eee88b944e3"
      },
      "source": [
        "pd.DataFrame(sample1, columns=X.columns)"
      ],
      "execution_count": 92,
      "outputs": [
        {
          "output_type": "execute_result",
          "data": {
            "text/html": [
              "<div>\n",
              "<style scoped>\n",
              "    .dataframe tbody tr th:only-of-type {\n",
              "        vertical-align: middle;\n",
              "    }\n",
              "\n",
              "    .dataframe tbody tr th {\n",
              "        vertical-align: top;\n",
              "    }\n",
              "\n",
              "    .dataframe thead th {\n",
              "        text-align: right;\n",
              "    }\n",
              "</style>\n",
              "<table border=\"1\" class=\"dataframe\">\n",
              "  <thead>\n",
              "    <tr style=\"text-align: right;\">\n",
              "      <th></th>\n",
              "      <th>age</th>\n",
              "      <th>menopause</th>\n",
              "      <th>tumor-size</th>\n",
              "      <th>inv-nodes</th>\n",
              "      <th>node-caps</th>\n",
              "      <th>deg-malig</th>\n",
              "      <th>breast</th>\n",
              "      <th>breast-quad</th>\n",
              "      <th>irradiat</th>\n",
              "    </tr>\n",
              "  </thead>\n",
              "  <tbody>\n",
              "    <tr>\n",
              "      <th>0</th>\n",
              "      <td>55.5</td>\n",
              "      <td>1.0</td>\n",
              "      <td>42.0</td>\n",
              "      <td>2.0</td>\n",
              "      <td>0.0</td>\n",
              "      <td>3.0</td>\n",
              "      <td>1.0</td>\n",
              "      <td>1.0</td>\n",
              "      <td>0.0</td>\n",
              "    </tr>\n",
              "  </tbody>\n",
              "</table>\n",
              "</div>"
            ],
            "text/plain": [
              "    age  menopause  tumor-size  ...  breast  breast-quad  irradiat\n",
              "0  55.5        1.0        42.0  ...     1.0          1.0       0.0\n",
              "\n",
              "[1 rows x 9 columns]"
            ]
          },
          "metadata": {
            "tags": []
          },
          "execution_count": 92
        }
      ]
    },
    {
      "cell_type": "code",
      "metadata": {
        "colab": {
          "base_uri": "https://localhost:8080/"
        },
        "id": "xhx-nbExIN5h",
        "outputId": "2a6de89d-b2df-4495-9139-bcf3acfbcd9b"
      },
      "source": [
        "pip install shap"
      ],
      "execution_count": 82,
      "outputs": [
        {
          "output_type": "stream",
          "text": [
            "Collecting shap\n",
            "\u001b[?25l  Downloading https://files.pythonhosted.org/packages/b9/f4/c5b95cddae15be80f8e58b25edceca105aa83c0b8c86a1edad24a6af80d3/shap-0.39.0.tar.gz (356kB)\n",
            "\r\u001b[K     |█                               | 10kB 17.0MB/s eta 0:00:01\r\u001b[K     |█▉                              | 20kB 22.3MB/s eta 0:00:01\r\u001b[K     |██▊                             | 30kB 13.1MB/s eta 0:00:01\r\u001b[K     |███▊                            | 40kB 10.3MB/s eta 0:00:01\r\u001b[K     |████▋                           | 51kB 8.6MB/s eta 0:00:01\r\u001b[K     |█████▌                          | 61kB 7.0MB/s eta 0:00:01\r\u001b[K     |██████▍                         | 71kB 7.9MB/s eta 0:00:01\r\u001b[K     |███████▍                        | 81kB 8.6MB/s eta 0:00:01\r\u001b[K     |████████▎                       | 92kB 9.5MB/s eta 0:00:01\r\u001b[K     |█████████▏                      | 102kB 8.9MB/s eta 0:00:01\r\u001b[K     |██████████▏                     | 112kB 8.9MB/s eta 0:00:01\r\u001b[K     |███████████                     | 122kB 8.9MB/s eta 0:00:01\r\u001b[K     |████████████                    | 133kB 8.9MB/s eta 0:00:01\r\u001b[K     |████████████▉                   | 143kB 8.9MB/s eta 0:00:01\r\u001b[K     |█████████████▉                  | 153kB 8.9MB/s eta 0:00:01\r\u001b[K     |██████████████▊                 | 163kB 8.9MB/s eta 0:00:01\r\u001b[K     |███████████████▋                | 174kB 8.9MB/s eta 0:00:01\r\u001b[K     |████████████████▋               | 184kB 8.9MB/s eta 0:00:01\r\u001b[K     |█████████████████▌              | 194kB 8.9MB/s eta 0:00:01\r\u001b[K     |██████████████████▍             | 204kB 8.9MB/s eta 0:00:01\r\u001b[K     |███████████████████▎            | 215kB 8.9MB/s eta 0:00:01\r\u001b[K     |████████████████████▎           | 225kB 8.9MB/s eta 0:00:01\r\u001b[K     |█████████████████████▏          | 235kB 8.9MB/s eta 0:00:01\r\u001b[K     |██████████████████████          | 245kB 8.9MB/s eta 0:00:01\r\u001b[K     |███████████████████████         | 256kB 8.9MB/s eta 0:00:01\r\u001b[K     |████████████████████████        | 266kB 8.9MB/s eta 0:00:01\r\u001b[K     |████████████████████████▉       | 276kB 8.9MB/s eta 0:00:01\r\u001b[K     |█████████████████████████▊      | 286kB 8.9MB/s eta 0:00:01\r\u001b[K     |██████████████████████████▊     | 296kB 8.9MB/s eta 0:00:01\r\u001b[K     |███████████████████████████▋    | 307kB 8.9MB/s eta 0:00:01\r\u001b[K     |████████████████████████████▌   | 317kB 8.9MB/s eta 0:00:01\r\u001b[K     |█████████████████████████████▍  | 327kB 8.9MB/s eta 0:00:01\r\u001b[K     |██████████████████████████████▍ | 337kB 8.9MB/s eta 0:00:01\r\u001b[K     |███████████████████████████████▎| 348kB 8.9MB/s eta 0:00:01\r\u001b[K     |████████████████████████████████| 358kB 8.9MB/s \n",
            "\u001b[?25hRequirement already satisfied: numpy in /usr/local/lib/python3.7/dist-packages (from shap) (1.19.5)\n",
            "Requirement already satisfied: scipy in /usr/local/lib/python3.7/dist-packages (from shap) (1.4.1)\n",
            "Requirement already satisfied: scikit-learn in /usr/local/lib/python3.7/dist-packages (from shap) (0.22.2.post1)\n",
            "Requirement already satisfied: pandas in /usr/local/lib/python3.7/dist-packages (from shap) (1.1.5)\n",
            "Requirement already satisfied: tqdm>4.25.0 in /usr/local/lib/python3.7/dist-packages (from shap) (4.41.1)\n",
            "Collecting slicer==0.0.7\n",
            "  Downloading https://files.pythonhosted.org/packages/78/c2/b3f55dfdb8af9812fdb9baf70cacf3b9e82e505b2bd4324d588888b81202/slicer-0.0.7-py3-none-any.whl\n",
            "Requirement already satisfied: numba in /usr/local/lib/python3.7/dist-packages (from shap) (0.51.2)\n",
            "Requirement already satisfied: cloudpickle in /usr/local/lib/python3.7/dist-packages (from shap) (1.3.0)\n",
            "Requirement already satisfied: joblib>=0.11 in /usr/local/lib/python3.7/dist-packages (from scikit-learn->shap) (1.0.1)\n",
            "Requirement already satisfied: python-dateutil>=2.7.3 in /usr/local/lib/python3.7/dist-packages (from pandas->shap) (2.8.1)\n",
            "Requirement already satisfied: pytz>=2017.2 in /usr/local/lib/python3.7/dist-packages (from pandas->shap) (2018.9)\n",
            "Requirement already satisfied: llvmlite<0.35,>=0.34.0.dev0 in /usr/local/lib/python3.7/dist-packages (from numba->shap) (0.34.0)\n",
            "Requirement already satisfied: setuptools in /usr/local/lib/python3.7/dist-packages (from numba->shap) (54.2.0)\n",
            "Requirement already satisfied: six>=1.5 in /usr/local/lib/python3.7/dist-packages (from python-dateutil>=2.7.3->pandas->shap) (1.15.0)\n",
            "Building wheels for collected packages: shap\n",
            "  Building wheel for shap (setup.py) ... \u001b[?25l\u001b[?25hdone\n",
            "  Created wheel for shap: filename=shap-0.39.0-cp37-cp37m-linux_x86_64.whl size=491617 sha256=894d4bf2ab641b75fc0bbaf0e0515533037a6aea44418837cbdf329203927790\n",
            "  Stored in directory: /root/.cache/pip/wheels/15/27/f5/a8ab9da52fd159aae6477b5ede6eaaec69fd130fa0fa59f283\n",
            "Successfully built shap\n",
            "Installing collected packages: slicer, shap\n",
            "Successfully installed shap-0.39.0 slicer-0.0.7\n"
          ],
          "name": "stdout"
        }
      ]
    },
    {
      "cell_type": "code",
      "metadata": {
        "id": "4ilwgus6fSCh"
      },
      "source": [
        "import shap\n",
        "explainer = shap.TreeExplainer(rf)\n",
        "shap_values = explainer.shap_values(X_test)"
      ],
      "execution_count": 89,
      "outputs": []
    },
    {
      "cell_type": "code",
      "metadata": {
        "id": "pFEPctK8ona4",
        "colab": {
          "base_uri": "https://localhost:8080/",
          "height": 342
        },
        "outputId": "9e2f4545-7786-4acf-f585-b43d81bfe882"
      },
      "source": [
        "shap.summary_plot(shap_values, X_test, plot_type=\"bar\")"
      ],
      "execution_count": 91,
      "outputs": [
        {
          "output_type": "display_data",
          "data": {
            "image/png": "[encoded data removed]",
            "text/plain": [
              "<Figure size 576x367.2 with 1 Axes>"
            ]
          },
          "metadata": {
            "tags": []
          }
        }
      ]
    },
    {
      "cell_type": "code",
      "metadata": {
        "id": "U7FPXDoPggB3",
        "colab": {
          "base_uri": "https://localhost:8080/",
          "height": 342
        },
        "outputId": "b78690f3-a739-41a7-ba32-babe9021466d"
      },
      "source": [
        "f = plt.figure()\n",
        "shap.summary_plot(shap_values, X_test)\n",
        "f.savefig(\"/summary_plot1.png\", bbox_inches='tight', dpi=600)"
      ],
      "execution_count": 88,
      "outputs": [
        {
          "output_type": "display_data",
          "data": {
            "image/png": "[encoded data removed]",
            "text/plain": [
              "<Figure size 576x367.2 with 1 Axes>"
            ]
          },
          "metadata": {
            "tags": []
          }
        }
      ]
    },
    {
      "cell_type": "code",
      "metadata": {
        "colab": {
          "base_uri": "https://localhost:8080/",
          "height": 342
        },
        "id": "yRJ0xQSdM0Qq",
        "outputId": "2f5f7f0a-0d13-44f9-9695-eec34137f6db"
      },
      "source": [
        "shap.summary_plot(shap_values, X_test)"
      ],
      "execution_count": 105,
      "outputs": [
        {
          "output_type": "display_data",
          "data": {
            "image/png": "[encoded data removed]",
            "text/plain": [
              "<Figure size 576x367.2 with 1 Axes>"
            ]
          },
          "metadata": {
            "tags": []
          }
        }
      ]
    },
    {
      "cell_type": "code",
      "metadata": {
        "id": "PNusKhebN0ra"
      },
      "source": [
        ""
      ],
      "execution_count": null,
      "outputs": []
    },
    {
      "cell_type": "code",
      "metadata": {
        "id": "1xLljg6tEoqe"
      },
      "source": [
        ""
      ],
      "execution_count": null,
      "outputs": []
    }
  ]
}