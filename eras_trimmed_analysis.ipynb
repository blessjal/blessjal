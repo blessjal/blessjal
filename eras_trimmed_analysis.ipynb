{
  "nbformat": 4,
  "nbformat_minor": 0,
  "metadata": {
    "colab": {
      "name": "eras_trimmed_analysis.ipynb",
      "provenance": [],
      "collapsed_sections": [],
      "authorship_tag": "ABX9TyMDdgBiXtmCnfXbSoacuZGc",
      "include_colab_link": true
    },
    "kernelspec": {
      "name": "python3",
      "display_name": "Python 3"
    }
  },
  "cells": [
    {
      "cell_type": "markdown",
      "metadata": {
        "id": "view-in-github",
        "colab_type": "text"
      },
      "source": [
        "<a href=\"https://colab.research.google.com/github/blessjal/blessjal/blob/main/eras_trimmed_analysis.ipynb\" target=\"_parent\"><img src=\"https://colab.research.google.com/assets/colab-badge.svg\" alt=\"Open In Colab\"/></a>"
      ]
    },
    {
      "cell_type": "code",
      "metadata": {
        "id": "NEw75eE5Hj4b"
      },
      "source": [
        "import pandas as pd\n",
        "import numpy as np\n",
        "import matplotlib.pyplot as plt\n",
        "import seaborn as sns\n",
        "\n",
        "%matplotlib inline\n",
        "plt.style.use('ggplot')"
      ],
      "execution_count": 59,
      "outputs": []
    },
    {
      "cell_type": "code",
      "metadata": {
        "colab": {
          "base_uri": "https://localhost:8080/",
          "height": 342
        },
        "id": "l5XgVYoNIKAF",
        "outputId": "a8f501ab-afa3-4b13-e073-1bd445642986"
      },
      "source": [
        "df = pd.read_excel('/content/eras_trimmed.xlsx')\n",
        "\n",
        "df.head()"
      ],
      "execution_count": 60,
      "outputs": [
        {
          "output_type": "execute_result",
          "data": {
            "text/html": [
              "<div>\n",
              "<style scoped>\n",
              "    .dataframe tbody tr th:only-of-type {\n",
              "        vertical-align: middle;\n",
              "    }\n",
              "\n",
              "    .dataframe tbody tr th {\n",
              "        vertical-align: top;\n",
              "    }\n",
              "\n",
              "    .dataframe thead th {\n",
              "        text-align: right;\n",
              "    }\n",
              "</style>\n",
              "<table border=\"1\" class=\"dataframe\">\n",
              "  <thead>\n",
              "    <tr style=\"text-align: right;\">\n",
              "      <th></th>\n",
              "      <th>masked_patient_id</th>\n",
              "      <th>Age</th>\n",
              "      <th>sex</th>\n",
              "      <th>race</th>\n",
              "      <th>admission_date</th>\n",
              "      <th>date</th>\n",
              "      <th>discharge_date</th>\n",
              "      <th>date_of_surgery</th>\n",
              "      <th>proc_codes</th>\n",
              "      <th>lap_vs_open</th>\n",
              "      <th>proc_code_desc</th>\n",
              "      <th>length_of_stay</th>\n",
              "      <th>benign_disease</th>\n",
              "      <th>malignant_disease</th>\n",
              "      <th>diabetes_mellitus</th>\n",
              "      <th>COPD_or_asthma_or_emphysema</th>\n",
              "      <th>Congestive_heart_failure</th>\n",
              "      <th>Obesity_comorb</th>\n",
              "      <th>Tobacco_abuse</th>\n",
              "      <th>chronic_kidney_disease</th>\n",
              "      <th>chronic_steroid_use</th>\n",
              "      <th>chronic_constipation</th>\n",
              "      <th>hemoglobin_yn</th>\n",
              "      <th>hemoglobin_result_value</th>\n",
              "      <th>hemoglobin_result_unit</th>\n",
              "      <th>hematocrit_yn</th>\n",
              "      <th>hematocrit_result_value</th>\n",
              "      <th>hematocrit_result_unit</th>\n",
              "      <th>albumin_yn</th>\n",
              "      <th>albumin_result_value</th>\n",
              "      <th>albumin_result_unit</th>\n",
              "      <th>prealbumin_yn</th>\n",
              "      <th>prealbumin_result_value</th>\n",
              "      <th>prealbumin_result_unit</th>\n",
              "      <th>mu_opioid_antagonist_yn</th>\n",
              "      <th>epidurals_yn</th>\n",
              "      <th>BMI</th>\n",
              "      <th>ostomy_teaching</th>\n",
              "      <th>Tot_bloodloss</th>\n",
              "      <th>urinary_retention</th>\n",
              "      <th>...</th>\n",
              "      <th>anastomoticleak_yn</th>\n",
              "      <th>Fentanyl_Transdermal_mcg</th>\n",
              "      <th>Fentanyl_Transdermal_mcg_mme</th>\n",
              "      <th>Fentanyl_Epidural_mcg</th>\n",
              "      <th>Fentanyl_Epidural_mcg_mme</th>\n",
              "      <th>Fentanyl_IV_mcg</th>\n",
              "      <th>Fentanyl_IV_mcg_mme</th>\n",
              "      <th>Hydrocodone_po_mg</th>\n",
              "      <th>Hydrocodone_po_mg_mme</th>\n",
              "      <th>hydromorphone_po_mg</th>\n",
              "      <th>hydromorphone_po_mg_mme</th>\n",
              "      <th>hydromorphone_Epidural_mg</th>\n",
              "      <th>hydromorphone_Epidural_mg_mme</th>\n",
              "      <th>hydromorphone_IV_mg</th>\n",
              "      <th>hydromorphone_IV_mg_mme</th>\n",
              "      <th>meperidine_po_mg</th>\n",
              "      <th>meperidine_po_mg_mme</th>\n",
              "      <th>meperidine_IV_mg</th>\n",
              "      <th>meperidine_IV_mg_mme</th>\n",
              "      <th>methadone_po_mg</th>\n",
              "      <th>methadone_po_mg_mme</th>\n",
              "      <th>methadone_IV_mg</th>\n",
              "      <th>methadone_IV_mg_mme</th>\n",
              "      <th>morphine_ER_po_mg</th>\n",
              "      <th>morphine_IV_mg</th>\n",
              "      <th>morphine_IV_mg_mme</th>\n",
              "      <th>morphine_po_mg</th>\n",
              "      <th>nalbuphine_iv_mg</th>\n",
              "      <th>nalbuphine_iv_mg_mme</th>\n",
              "      <th>oxycodone_ER_mg</th>\n",
              "      <th>oxycodone_ER_mg_mme</th>\n",
              "      <th>oxycodone_po_mg</th>\n",
              "      <th>oxycodone_po_mg_mme</th>\n",
              "      <th>oxymorphone_ER_po_mg</th>\n",
              "      <th>oxymorphone_ER_po_mg_mme</th>\n",
              "      <th>tramadol_po_mg</th>\n",
              "      <th>tramadol_po_mg_mme</th>\n",
              "      <th>redmission_30day_yn</th>\n",
              "      <th>Unnamed: 81</th>\n",
              "      <th>Total MME</th>\n",
              "    </tr>\n",
              "  </thead>\n",
              "  <tbody>\n",
              "    <tr>\n",
              "      <th>0</th>\n",
              "      <td>32838</td>\n",
              "      <td>54</td>\n",
              "      <td>Male</td>\n",
              "      <td>White</td>\n",
              "      <td>42810.636111</td>\n",
              "      <td>03/16/2017</td>\n",
              "      <td>42811.979167</td>\n",
              "      <td>42810.636111</td>\n",
              "      <td>44140</td>\n",
              "      <td>open</td>\n",
              "      <td>PR PART REMOVAL COLON W ANASTOMOSIS</td>\n",
              "      <td>1</td>\n",
              "      <td>N</td>\n",
              "      <td>N</td>\n",
              "      <td>N</td>\n",
              "      <td>Y</td>\n",
              "      <td>Y</td>\n",
              "      <td>N</td>\n",
              "      <td>Y</td>\n",
              "      <td>N</td>\n",
              "      <td>N</td>\n",
              "      <td>N</td>\n",
              "      <td>Y</td>\n",
              "      <td>5.2</td>\n",
              "      <td>g/dL</td>\n",
              "      <td>Y</td>\n",
              "      <td>16.4</td>\n",
              "      <td>%</td>\n",
              "      <td>N</td>\n",
              "      <td>NaN</td>\n",
              "      <td>NaN</td>\n",
              "      <td>N</td>\n",
              "      <td>NaN</td>\n",
              "      <td>NaN</td>\n",
              "      <td>N</td>\n",
              "      <td>N</td>\n",
              "      <td>25.90</td>\n",
              "      <td>N</td>\n",
              "      <td>NaN</td>\n",
              "      <td>N</td>\n",
              "      <td>...</td>\n",
              "      <td>N</td>\n",
              "      <td>0</td>\n",
              "      <td>0.0</td>\n",
              "      <td>0</td>\n",
              "      <td>0.0</td>\n",
              "      <td>200.0</td>\n",
              "      <td>20.0</td>\n",
              "      <td>0.0</td>\n",
              "      <td>0.0</td>\n",
              "      <td>0</td>\n",
              "      <td>0</td>\n",
              "      <td>0</td>\n",
              "      <td>0</td>\n",
              "      <td>0.0</td>\n",
              "      <td>0</td>\n",
              "      <td>0</td>\n",
              "      <td>0</td>\n",
              "      <td>0.0</td>\n",
              "      <td>0.0</td>\n",
              "      <td>0.0</td>\n",
              "      <td>0.0</td>\n",
              "      <td>0</td>\n",
              "      <td>0</td>\n",
              "      <td>0</td>\n",
              "      <td>10.0</td>\n",
              "      <td>30.0</td>\n",
              "      <td>0</td>\n",
              "      <td>0.0</td>\n",
              "      <td>0.0</td>\n",
              "      <td>0</td>\n",
              "      <td>0.0</td>\n",
              "      <td>0.0</td>\n",
              "      <td>0.0</td>\n",
              "      <td>0</td>\n",
              "      <td>0</td>\n",
              "      <td>0</td>\n",
              "      <td>0.0</td>\n",
              "      <td>N</td>\n",
              "      <td>NaN</td>\n",
              "      <td>260.0</td>\n",
              "    </tr>\n",
              "    <tr>\n",
              "      <th>1</th>\n",
              "      <td>80520</td>\n",
              "      <td>51</td>\n",
              "      <td>Male</td>\n",
              "      <td>White</td>\n",
              "      <td>41911.000000</td>\n",
              "      <td>09/29/2014</td>\n",
              "      <td>41911.000000</td>\n",
              "      <td>41911.000000</td>\n",
              "      <td>44208, 44213</td>\n",
              "      <td>lap</td>\n",
              "      <td>PR LAP,SURG,COLECTOMY,W/ANAST,W/COLOSTOMY, PR...</td>\n",
              "      <td>1</td>\n",
              "      <td>Y</td>\n",
              "      <td>N</td>\n",
              "      <td>N</td>\n",
              "      <td>N</td>\n",
              "      <td>N</td>\n",
              "      <td>N</td>\n",
              "      <td>N</td>\n",
              "      <td>N</td>\n",
              "      <td>N</td>\n",
              "      <td>Y</td>\n",
              "      <td>Y</td>\n",
              "      <td>11.5</td>\n",
              "      <td>g/dL</td>\n",
              "      <td>Y</td>\n",
              "      <td>34.5</td>\n",
              "      <td>%</td>\n",
              "      <td>Y</td>\n",
              "      <td>3.8</td>\n",
              "      <td>g/dL</td>\n",
              "      <td>N</td>\n",
              "      <td>NaN</td>\n",
              "      <td>NaN</td>\n",
              "      <td>N</td>\n",
              "      <td>N</td>\n",
              "      <td>30.36</td>\n",
              "      <td>N</td>\n",
              "      <td>NaN</td>\n",
              "      <td>N</td>\n",
              "      <td>...</td>\n",
              "      <td>N</td>\n",
              "      <td>0</td>\n",
              "      <td>0.0</td>\n",
              "      <td>0</td>\n",
              "      <td>0.0</td>\n",
              "      <td>0.0</td>\n",
              "      <td>0.0</td>\n",
              "      <td>0.0</td>\n",
              "      <td>0.0</td>\n",
              "      <td>0</td>\n",
              "      <td>0</td>\n",
              "      <td>0</td>\n",
              "      <td>0</td>\n",
              "      <td>0.0</td>\n",
              "      <td>0</td>\n",
              "      <td>0</td>\n",
              "      <td>0</td>\n",
              "      <td>0.0</td>\n",
              "      <td>0.0</td>\n",
              "      <td>0.0</td>\n",
              "      <td>0.0</td>\n",
              "      <td>0</td>\n",
              "      <td>0</td>\n",
              "      <td>0</td>\n",
              "      <td>0.0</td>\n",
              "      <td>0.0</td>\n",
              "      <td>0</td>\n",
              "      <td>0.0</td>\n",
              "      <td>0.0</td>\n",
              "      <td>0</td>\n",
              "      <td>0.0</td>\n",
              "      <td>0.0</td>\n",
              "      <td>0.0</td>\n",
              "      <td>0</td>\n",
              "      <td>0</td>\n",
              "      <td>0</td>\n",
              "      <td>0.0</td>\n",
              "      <td>N</td>\n",
              "      <td>NaN</td>\n",
              "      <td>0.0</td>\n",
              "    </tr>\n",
              "    <tr>\n",
              "      <th>2</th>\n",
              "      <td>123734</td>\n",
              "      <td>80</td>\n",
              "      <td>Female</td>\n",
              "      <td>White</td>\n",
              "      <td>43250.975000</td>\n",
              "      <td>05/30/2018</td>\n",
              "      <td>43251.777083</td>\n",
              "      <td>43250.975000</td>\n",
              "      <td>44141</td>\n",
              "      <td>open</td>\n",
              "      <td>PR PART REMOVAL COLON W COLOSTOMY</td>\n",
              "      <td>1</td>\n",
              "      <td>Y</td>\n",
              "      <td>N</td>\n",
              "      <td>N</td>\n",
              "      <td>Y</td>\n",
              "      <td>N</td>\n",
              "      <td>N</td>\n",
              "      <td>N</td>\n",
              "      <td>N</td>\n",
              "      <td>N</td>\n",
              "      <td>Y</td>\n",
              "      <td>Y</td>\n",
              "      <td>9.2</td>\n",
              "      <td>g/dL</td>\n",
              "      <td>Y</td>\n",
              "      <td>29.3</td>\n",
              "      <td>%</td>\n",
              "      <td>Y</td>\n",
              "      <td>2.1</td>\n",
              "      <td>g/dL</td>\n",
              "      <td>Y</td>\n",
              "      <td>5.3</td>\n",
              "      <td>mg/dL</td>\n",
              "      <td>N</td>\n",
              "      <td>N</td>\n",
              "      <td>18.24</td>\n",
              "      <td>Y</td>\n",
              "      <td>NaN</td>\n",
              "      <td>N</td>\n",
              "      <td>...</td>\n",
              "      <td>N</td>\n",
              "      <td>0</td>\n",
              "      <td>0.0</td>\n",
              "      <td>0</td>\n",
              "      <td>0.0</td>\n",
              "      <td>50.0</td>\n",
              "      <td>5.0</td>\n",
              "      <td>0.0</td>\n",
              "      <td>0.0</td>\n",
              "      <td>0</td>\n",
              "      <td>0</td>\n",
              "      <td>0</td>\n",
              "      <td>0</td>\n",
              "      <td>0.0</td>\n",
              "      <td>0</td>\n",
              "      <td>0</td>\n",
              "      <td>0</td>\n",
              "      <td>0.0</td>\n",
              "      <td>0.0</td>\n",
              "      <td>0.0</td>\n",
              "      <td>0.0</td>\n",
              "      <td>0</td>\n",
              "      <td>0</td>\n",
              "      <td>0</td>\n",
              "      <td>2.0</td>\n",
              "      <td>6.0</td>\n",
              "      <td>0</td>\n",
              "      <td>0.0</td>\n",
              "      <td>0.0</td>\n",
              "      <td>0</td>\n",
              "      <td>0.0</td>\n",
              "      <td>0.0</td>\n",
              "      <td>0.0</td>\n",
              "      <td>0</td>\n",
              "      <td>0</td>\n",
              "      <td>0</td>\n",
              "      <td>0.0</td>\n",
              "      <td>N</td>\n",
              "      <td>NaN</td>\n",
              "      <td>63.0</td>\n",
              "    </tr>\n",
              "    <tr>\n",
              "      <th>3</th>\n",
              "      <td>266252</td>\n",
              "      <td>59</td>\n",
              "      <td>Male</td>\n",
              "      <td>White</td>\n",
              "      <td>43360.237500</td>\n",
              "      <td>09/17/2018</td>\n",
              "      <td>43361.427083</td>\n",
              "      <td>43360.237500</td>\n",
              "      <td>44204</td>\n",
              "      <td>lap</td>\n",
              "      <td>PR LAP,SURG,COLECTOMY, PARTIAL, W/ANAST</td>\n",
              "      <td>1</td>\n",
              "      <td>N</td>\n",
              "      <td>Y</td>\n",
              "      <td>Y</td>\n",
              "      <td>N</td>\n",
              "      <td>N</td>\n",
              "      <td>N</td>\n",
              "      <td>N</td>\n",
              "      <td>N</td>\n",
              "      <td>N</td>\n",
              "      <td>N</td>\n",
              "      <td>Y</td>\n",
              "      <td>12.8</td>\n",
              "      <td>g/dL</td>\n",
              "      <td>Y</td>\n",
              "      <td>38.3</td>\n",
              "      <td>%</td>\n",
              "      <td>Y</td>\n",
              "      <td>4.3</td>\n",
              "      <td>g/dL</td>\n",
              "      <td>Y</td>\n",
              "      <td>30.9</td>\n",
              "      <td>mg/dL</td>\n",
              "      <td>N</td>\n",
              "      <td>N</td>\n",
              "      <td>26.66</td>\n",
              "      <td>N</td>\n",
              "      <td>NaN</td>\n",
              "      <td>N</td>\n",
              "      <td>...</td>\n",
              "      <td>N</td>\n",
              "      <td>0</td>\n",
              "      <td>0.0</td>\n",
              "      <td>0</td>\n",
              "      <td>0.0</td>\n",
              "      <td>200.0</td>\n",
              "      <td>20.0</td>\n",
              "      <td>0.0</td>\n",
              "      <td>0.0</td>\n",
              "      <td>0</td>\n",
              "      <td>0</td>\n",
              "      <td>0</td>\n",
              "      <td>0</td>\n",
              "      <td>1.3</td>\n",
              "      <td>26</td>\n",
              "      <td>0</td>\n",
              "      <td>0</td>\n",
              "      <td>0.0</td>\n",
              "      <td>0.0</td>\n",
              "      <td>0.0</td>\n",
              "      <td>0.0</td>\n",
              "      <td>0</td>\n",
              "      <td>0</td>\n",
              "      <td>0</td>\n",
              "      <td>0.0</td>\n",
              "      <td>0.0</td>\n",
              "      <td>0</td>\n",
              "      <td>0.0</td>\n",
              "      <td>0.0</td>\n",
              "      <td>0</td>\n",
              "      <td>0.0</td>\n",
              "      <td>35.0</td>\n",
              "      <td>52.5</td>\n",
              "      <td>0</td>\n",
              "      <td>0</td>\n",
              "      <td>0</td>\n",
              "      <td>0.0</td>\n",
              "      <td>N</td>\n",
              "      <td>NaN</td>\n",
              "      <td>334.8</td>\n",
              "    </tr>\n",
              "    <tr>\n",
              "      <th>4</th>\n",
              "      <td>293250</td>\n",
              "      <td>33</td>\n",
              "      <td>Male</td>\n",
              "      <td>Black or African American</td>\n",
              "      <td>42574.747917</td>\n",
              "      <td>07/23/2016</td>\n",
              "      <td>42574.000000</td>\n",
              "      <td>42574.747917</td>\n",
              "      <td>44160</td>\n",
              "      <td>open</td>\n",
              "      <td>PR REMVL COLON &amp; TERM ILEUM W/ILEOCOLOSTOMY</td>\n",
              "      <td>1</td>\n",
              "      <td>N</td>\n",
              "      <td>N</td>\n",
              "      <td>N</td>\n",
              "      <td>N</td>\n",
              "      <td>N</td>\n",
              "      <td>N</td>\n",
              "      <td>N</td>\n",
              "      <td>N</td>\n",
              "      <td>N</td>\n",
              "      <td>N</td>\n",
              "      <td>N</td>\n",
              "      <td>NaN</td>\n",
              "      <td>NaN</td>\n",
              "      <td>N</td>\n",
              "      <td>NaN</td>\n",
              "      <td>NaN</td>\n",
              "      <td>N</td>\n",
              "      <td>NaN</td>\n",
              "      <td>NaN</td>\n",
              "      <td>N</td>\n",
              "      <td>NaN</td>\n",
              "      <td>NaN</td>\n",
              "      <td>N</td>\n",
              "      <td>N</td>\n",
              "      <td>NaN</td>\n",
              "      <td>N</td>\n",
              "      <td>NaN</td>\n",
              "      <td>N</td>\n",
              "      <td>...</td>\n",
              "      <td>N</td>\n",
              "      <td>0</td>\n",
              "      <td>0.0</td>\n",
              "      <td>0</td>\n",
              "      <td>0.0</td>\n",
              "      <td>0.0</td>\n",
              "      <td>0.0</td>\n",
              "      <td>0.0</td>\n",
              "      <td>0.0</td>\n",
              "      <td>0</td>\n",
              "      <td>0</td>\n",
              "      <td>0</td>\n",
              "      <td>0</td>\n",
              "      <td>0.0</td>\n",
              "      <td>0</td>\n",
              "      <td>0</td>\n",
              "      <td>0</td>\n",
              "      <td>0.0</td>\n",
              "      <td>0.0</td>\n",
              "      <td>0.0</td>\n",
              "      <td>0.0</td>\n",
              "      <td>0</td>\n",
              "      <td>0</td>\n",
              "      <td>0</td>\n",
              "      <td>0.0</td>\n",
              "      <td>0.0</td>\n",
              "      <td>0</td>\n",
              "      <td>0.0</td>\n",
              "      <td>0.0</td>\n",
              "      <td>0</td>\n",
              "      <td>0.0</td>\n",
              "      <td>0.0</td>\n",
              "      <td>0.0</td>\n",
              "      <td>0</td>\n",
              "      <td>0</td>\n",
              "      <td>0</td>\n",
              "      <td>0.0</td>\n",
              "      <td>N</td>\n",
              "      <td>NaN</td>\n",
              "      <td>0.0</td>\n",
              "    </tr>\n",
              "  </tbody>\n",
              "</table>\n",
              "<p>5 rows × 83 columns</p>\n",
              "</div>"
            ],
            "text/plain": [
              "   masked_patient_id  Age     sex  ... redmission_30day_yn  Unnamed: 81 Total MME\n",
              "0              32838   54    Male  ...                   N          NaN     260.0\n",
              "1              80520   51    Male  ...                   N          NaN       0.0\n",
              "2             123734   80  Female  ...                   N          NaN      63.0\n",
              "3             266252   59    Male  ...                   N          NaN     334.8\n",
              "4             293250   33    Male  ...                   N          NaN       0.0\n",
              "\n",
              "[5 rows x 83 columns]"
            ]
          },
          "metadata": {
            "tags": []
          },
          "execution_count": 60
        }
      ]
    },
    {
      "cell_type": "code",
      "metadata": {
        "colab": {
          "base_uri": "https://localhost:8080/"
        },
        "id": "DGiE55BfKzh4",
        "outputId": "38dd4133-7c53-44ff-e3af-9d5c873ab4f8"
      },
      "source": [
        "df.shape"
      ],
      "execution_count": 61,
      "outputs": [
        {
          "output_type": "execute_result",
          "data": {
            "text/plain": [
              "(1307, 83)"
            ]
          },
          "metadata": {
            "tags": []
          },
          "execution_count": 61
        }
      ]
    },
    {
      "cell_type": "code",
      "metadata": {
        "colab": {
          "base_uri": "https://localhost:8080/"
        },
        "id": "LbUzStyvI75u",
        "outputId": "12a35ab5-31f6-4ae0-84fb-ec27ae35e199"
      },
      "source": [
        "df.dtypes"
      ],
      "execution_count": 62,
      "outputs": [
        {
          "output_type": "execute_result",
          "data": {
            "text/plain": [
              "masked_patient_id        int64\n",
              "Age                      int64\n",
              "sex                     object\n",
              "race                    object\n",
              "admission_date         float64\n",
              "                        ...   \n",
              "tramadol_po_mg           int64\n",
              "tramadol_po_mg_mme     float64\n",
              "redmission_30day_yn     object\n",
              "Unnamed: 81            float64\n",
              "Total MME              float64\n",
              "Length: 83, dtype: object"
            ]
          },
          "metadata": {
            "tags": []
          },
          "execution_count": 62
        }
      ]
    },
    {
      "cell_type": "code",
      "metadata": {
        "id": "7nV82eqXJJZd"
      },
      "source": [
        "import datetime\n",
        "df['date'] = pd.to_datetime(df['date'])"
      ],
      "execution_count": 63,
      "outputs": []
    },
    {
      "cell_type": "code",
      "metadata": {
        "id": "rNC6sYwsJP8a"
      },
      "source": [
        "df['date'] = df['date'].dt.to_period(\"Y\")\n"
      ],
      "execution_count": 64,
      "outputs": []
    },
    {
      "cell_type": "code",
      "metadata": {
        "colab": {
          "base_uri": "https://localhost:8080/",
          "height": 342
        },
        "id": "HVFC6eoeJhdV",
        "outputId": "89f60fc5-e042-495b-e480-8eec0d7a48d6"
      },
      "source": [
        "df.head()"
      ],
      "execution_count": 65,
      "outputs": [
        {
          "output_type": "execute_result",
          "data": {
            "text/html": [
              "<div>\n",
              "<style scoped>\n",
              "    .dataframe tbody tr th:only-of-type {\n",
              "        vertical-align: middle;\n",
              "    }\n",
              "\n",
              "    .dataframe tbody tr th {\n",
              "        vertical-align: top;\n",
              "    }\n",
              "\n",
              "    .dataframe thead th {\n",
              "        text-align: right;\n",
              "    }\n",
              "</style>\n",
              "<table border=\"1\" class=\"dataframe\">\n",
              "  <thead>\n",
              "    <tr style=\"text-align: right;\">\n",
              "      <th></th>\n",
              "      <th>masked_patient_id</th>\n",
              "      <th>Age</th>\n",
              "      <th>sex</th>\n",
              "      <th>race</th>\n",
              "      <th>admission_date</th>\n",
              "      <th>date</th>\n",
              "      <th>discharge_date</th>\n",
              "      <th>date_of_surgery</th>\n",
              "      <th>proc_codes</th>\n",
              "      <th>lap_vs_open</th>\n",
              "      <th>proc_code_desc</th>\n",
              "      <th>length_of_stay</th>\n",
              "      <th>benign_disease</th>\n",
              "      <th>malignant_disease</th>\n",
              "      <th>diabetes_mellitus</th>\n",
              "      <th>COPD_or_asthma_or_emphysema</th>\n",
              "      <th>Congestive_heart_failure</th>\n",
              "      <th>Obesity_comorb</th>\n",
              "      <th>Tobacco_abuse</th>\n",
              "      <th>chronic_kidney_disease</th>\n",
              "      <th>chronic_steroid_use</th>\n",
              "      <th>chronic_constipation</th>\n",
              "      <th>hemoglobin_yn</th>\n",
              "      <th>hemoglobin_result_value</th>\n",
              "      <th>hemoglobin_result_unit</th>\n",
              "      <th>hematocrit_yn</th>\n",
              "      <th>hematocrit_result_value</th>\n",
              "      <th>hematocrit_result_unit</th>\n",
              "      <th>albumin_yn</th>\n",
              "      <th>albumin_result_value</th>\n",
              "      <th>albumin_result_unit</th>\n",
              "      <th>prealbumin_yn</th>\n",
              "      <th>prealbumin_result_value</th>\n",
              "      <th>prealbumin_result_unit</th>\n",
              "      <th>mu_opioid_antagonist_yn</th>\n",
              "      <th>epidurals_yn</th>\n",
              "      <th>BMI</th>\n",
              "      <th>ostomy_teaching</th>\n",
              "      <th>Tot_bloodloss</th>\n",
              "      <th>urinary_retention</th>\n",
              "      <th>...</th>\n",
              "      <th>anastomoticleak_yn</th>\n",
              "      <th>Fentanyl_Transdermal_mcg</th>\n",
              "      <th>Fentanyl_Transdermal_mcg_mme</th>\n",
              "      <th>Fentanyl_Epidural_mcg</th>\n",
              "      <th>Fentanyl_Epidural_mcg_mme</th>\n",
              "      <th>Fentanyl_IV_mcg</th>\n",
              "      <th>Fentanyl_IV_mcg_mme</th>\n",
              "      <th>Hydrocodone_po_mg</th>\n",
              "      <th>Hydrocodone_po_mg_mme</th>\n",
              "      <th>hydromorphone_po_mg</th>\n",
              "      <th>hydromorphone_po_mg_mme</th>\n",
              "      <th>hydromorphone_Epidural_mg</th>\n",
              "      <th>hydromorphone_Epidural_mg_mme</th>\n",
              "      <th>hydromorphone_IV_mg</th>\n",
              "      <th>hydromorphone_IV_mg_mme</th>\n",
              "      <th>meperidine_po_mg</th>\n",
              "      <th>meperidine_po_mg_mme</th>\n",
              "      <th>meperidine_IV_mg</th>\n",
              "      <th>meperidine_IV_mg_mme</th>\n",
              "      <th>methadone_po_mg</th>\n",
              "      <th>methadone_po_mg_mme</th>\n",
              "      <th>methadone_IV_mg</th>\n",
              "      <th>methadone_IV_mg_mme</th>\n",
              "      <th>morphine_ER_po_mg</th>\n",
              "      <th>morphine_IV_mg</th>\n",
              "      <th>morphine_IV_mg_mme</th>\n",
              "      <th>morphine_po_mg</th>\n",
              "      <th>nalbuphine_iv_mg</th>\n",
              "      <th>nalbuphine_iv_mg_mme</th>\n",
              "      <th>oxycodone_ER_mg</th>\n",
              "      <th>oxycodone_ER_mg_mme</th>\n",
              "      <th>oxycodone_po_mg</th>\n",
              "      <th>oxycodone_po_mg_mme</th>\n",
              "      <th>oxymorphone_ER_po_mg</th>\n",
              "      <th>oxymorphone_ER_po_mg_mme</th>\n",
              "      <th>tramadol_po_mg</th>\n",
              "      <th>tramadol_po_mg_mme</th>\n",
              "      <th>redmission_30day_yn</th>\n",
              "      <th>Unnamed: 81</th>\n",
              "      <th>Total MME</th>\n",
              "    </tr>\n",
              "  </thead>\n",
              "  <tbody>\n",
              "    <tr>\n",
              "      <th>0</th>\n",
              "      <td>32838</td>\n",
              "      <td>54</td>\n",
              "      <td>Male</td>\n",
              "      <td>White</td>\n",
              "      <td>42810.636111</td>\n",
              "      <td>2017</td>\n",
              "      <td>42811.979167</td>\n",
              "      <td>42810.636111</td>\n",
              "      <td>44140</td>\n",
              "      <td>open</td>\n",
              "      <td>PR PART REMOVAL COLON W ANASTOMOSIS</td>\n",
              "      <td>1</td>\n",
              "      <td>N</td>\n",
              "      <td>N</td>\n",
              "      <td>N</td>\n",
              "      <td>Y</td>\n",
              "      <td>Y</td>\n",
              "      <td>N</td>\n",
              "      <td>Y</td>\n",
              "      <td>N</td>\n",
              "      <td>N</td>\n",
              "      <td>N</td>\n",
              "      <td>Y</td>\n",
              "      <td>5.2</td>\n",
              "      <td>g/dL</td>\n",
              "      <td>Y</td>\n",
              "      <td>16.4</td>\n",
              "      <td>%</td>\n",
              "      <td>N</td>\n",
              "      <td>NaN</td>\n",
              "      <td>NaN</td>\n",
              "      <td>N</td>\n",
              "      <td>NaN</td>\n",
              "      <td>NaN</td>\n",
              "      <td>N</td>\n",
              "      <td>N</td>\n",
              "      <td>25.90</td>\n",
              "      <td>N</td>\n",
              "      <td>NaN</td>\n",
              "      <td>N</td>\n",
              "      <td>...</td>\n",
              "      <td>N</td>\n",
              "      <td>0</td>\n",
              "      <td>0.0</td>\n",
              "      <td>0</td>\n",
              "      <td>0.0</td>\n",
              "      <td>200.0</td>\n",
              "      <td>20.0</td>\n",
              "      <td>0.0</td>\n",
              "      <td>0.0</td>\n",
              "      <td>0</td>\n",
              "      <td>0</td>\n",
              "      <td>0</td>\n",
              "      <td>0</td>\n",
              "      <td>0.0</td>\n",
              "      <td>0</td>\n",
              "      <td>0</td>\n",
              "      <td>0</td>\n",
              "      <td>0.0</td>\n",
              "      <td>0.0</td>\n",
              "      <td>0.0</td>\n",
              "      <td>0.0</td>\n",
              "      <td>0</td>\n",
              "      <td>0</td>\n",
              "      <td>0</td>\n",
              "      <td>10.0</td>\n",
              "      <td>30.0</td>\n",
              "      <td>0</td>\n",
              "      <td>0.0</td>\n",
              "      <td>0.0</td>\n",
              "      <td>0</td>\n",
              "      <td>0.0</td>\n",
              "      <td>0.0</td>\n",
              "      <td>0.0</td>\n",
              "      <td>0</td>\n",
              "      <td>0</td>\n",
              "      <td>0</td>\n",
              "      <td>0.0</td>\n",
              "      <td>N</td>\n",
              "      <td>NaN</td>\n",
              "      <td>260.0</td>\n",
              "    </tr>\n",
              "    <tr>\n",
              "      <th>1</th>\n",
              "      <td>80520</td>\n",
              "      <td>51</td>\n",
              "      <td>Male</td>\n",
              "      <td>White</td>\n",
              "      <td>41911.000000</td>\n",
              "      <td>2014</td>\n",
              "      <td>41911.000000</td>\n",
              "      <td>41911.000000</td>\n",
              "      <td>44208, 44213</td>\n",
              "      <td>lap</td>\n",
              "      <td>PR LAP,SURG,COLECTOMY,W/ANAST,W/COLOSTOMY, PR...</td>\n",
              "      <td>1</td>\n",
              "      <td>Y</td>\n",
              "      <td>N</td>\n",
              "      <td>N</td>\n",
              "      <td>N</td>\n",
              "      <td>N</td>\n",
              "      <td>N</td>\n",
              "      <td>N</td>\n",
              "      <td>N</td>\n",
              "      <td>N</td>\n",
              "      <td>Y</td>\n",
              "      <td>Y</td>\n",
              "      <td>11.5</td>\n",
              "      <td>g/dL</td>\n",
              "      <td>Y</td>\n",
              "      <td>34.5</td>\n",
              "      <td>%</td>\n",
              "      <td>Y</td>\n",
              "      <td>3.8</td>\n",
              "      <td>g/dL</td>\n",
              "      <td>N</td>\n",
              "      <td>NaN</td>\n",
              "      <td>NaN</td>\n",
              "      <td>N</td>\n",
              "      <td>N</td>\n",
              "      <td>30.36</td>\n",
              "      <td>N</td>\n",
              "      <td>NaN</td>\n",
              "      <td>N</td>\n",
              "      <td>...</td>\n",
              "      <td>N</td>\n",
              "      <td>0</td>\n",
              "      <td>0.0</td>\n",
              "      <td>0</td>\n",
              "      <td>0.0</td>\n",
              "      <td>0.0</td>\n",
              "      <td>0.0</td>\n",
              "      <td>0.0</td>\n",
              "      <td>0.0</td>\n",
              "      <td>0</td>\n",
              "      <td>0</td>\n",
              "      <td>0</td>\n",
              "      <td>0</td>\n",
              "      <td>0.0</td>\n",
              "      <td>0</td>\n",
              "      <td>0</td>\n",
              "      <td>0</td>\n",
              "      <td>0.0</td>\n",
              "      <td>0.0</td>\n",
              "      <td>0.0</td>\n",
              "      <td>0.0</td>\n",
              "      <td>0</td>\n",
              "      <td>0</td>\n",
              "      <td>0</td>\n",
              "      <td>0.0</td>\n",
              "      <td>0.0</td>\n",
              "      <td>0</td>\n",
              "      <td>0.0</td>\n",
              "      <td>0.0</td>\n",
              "      <td>0</td>\n",
              "      <td>0.0</td>\n",
              "      <td>0.0</td>\n",
              "      <td>0.0</td>\n",
              "      <td>0</td>\n",
              "      <td>0</td>\n",
              "      <td>0</td>\n",
              "      <td>0.0</td>\n",
              "      <td>N</td>\n",
              "      <td>NaN</td>\n",
              "      <td>0.0</td>\n",
              "    </tr>\n",
              "    <tr>\n",
              "      <th>2</th>\n",
              "      <td>123734</td>\n",
              "      <td>80</td>\n",
              "      <td>Female</td>\n",
              "      <td>White</td>\n",
              "      <td>43250.975000</td>\n",
              "      <td>2018</td>\n",
              "      <td>43251.777083</td>\n",
              "      <td>43250.975000</td>\n",
              "      <td>44141</td>\n",
              "      <td>open</td>\n",
              "      <td>PR PART REMOVAL COLON W COLOSTOMY</td>\n",
              "      <td>1</td>\n",
              "      <td>Y</td>\n",
              "      <td>N</td>\n",
              "      <td>N</td>\n",
              "      <td>Y</td>\n",
              "      <td>N</td>\n",
              "      <td>N</td>\n",
              "      <td>N</td>\n",
              "      <td>N</td>\n",
              "      <td>N</td>\n",
              "      <td>Y</td>\n",
              "      <td>Y</td>\n",
              "      <td>9.2</td>\n",
              "      <td>g/dL</td>\n",
              "      <td>Y</td>\n",
              "      <td>29.3</td>\n",
              "      <td>%</td>\n",
              "      <td>Y</td>\n",
              "      <td>2.1</td>\n",
              "      <td>g/dL</td>\n",
              "      <td>Y</td>\n",
              "      <td>5.3</td>\n",
              "      <td>mg/dL</td>\n",
              "      <td>N</td>\n",
              "      <td>N</td>\n",
              "      <td>18.24</td>\n",
              "      <td>Y</td>\n",
              "      <td>NaN</td>\n",
              "      <td>N</td>\n",
              "      <td>...</td>\n",
              "      <td>N</td>\n",
              "      <td>0</td>\n",
              "      <td>0.0</td>\n",
              "      <td>0</td>\n",
              "      <td>0.0</td>\n",
              "      <td>50.0</td>\n",
              "      <td>5.0</td>\n",
              "      <td>0.0</td>\n",
              "      <td>0.0</td>\n",
              "      <td>0</td>\n",
              "      <td>0</td>\n",
              "      <td>0</td>\n",
              "      <td>0</td>\n",
              "      <td>0.0</td>\n",
              "      <td>0</td>\n",
              "      <td>0</td>\n",
              "      <td>0</td>\n",
              "      <td>0.0</td>\n",
              "      <td>0.0</td>\n",
              "      <td>0.0</td>\n",
              "      <td>0.0</td>\n",
              "      <td>0</td>\n",
              "      <td>0</td>\n",
              "      <td>0</td>\n",
              "      <td>2.0</td>\n",
              "      <td>6.0</td>\n",
              "      <td>0</td>\n",
              "      <td>0.0</td>\n",
              "      <td>0.0</td>\n",
              "      <td>0</td>\n",
              "      <td>0.0</td>\n",
              "      <td>0.0</td>\n",
              "      <td>0.0</td>\n",
              "      <td>0</td>\n",
              "      <td>0</td>\n",
              "      <td>0</td>\n",
              "      <td>0.0</td>\n",
              "      <td>N</td>\n",
              "      <td>NaN</td>\n",
              "      <td>63.0</td>\n",
              "    </tr>\n",
              "    <tr>\n",
              "      <th>3</th>\n",
              "      <td>266252</td>\n",
              "      <td>59</td>\n",
              "      <td>Male</td>\n",
              "      <td>White</td>\n",
              "      <td>43360.237500</td>\n",
              "      <td>2018</td>\n",
              "      <td>43361.427083</td>\n",
              "      <td>43360.237500</td>\n",
              "      <td>44204</td>\n",
              "      <td>lap</td>\n",
              "      <td>PR LAP,SURG,COLECTOMY, PARTIAL, W/ANAST</td>\n",
              "      <td>1</td>\n",
              "      <td>N</td>\n",
              "      <td>Y</td>\n",
              "      <td>Y</td>\n",
              "      <td>N</td>\n",
              "      <td>N</td>\n",
              "      <td>N</td>\n",
              "      <td>N</td>\n",
              "      <td>N</td>\n",
              "      <td>N</td>\n",
              "      <td>N</td>\n",
              "      <td>Y</td>\n",
              "      <td>12.8</td>\n",
              "      <td>g/dL</td>\n",
              "      <td>Y</td>\n",
              "      <td>38.3</td>\n",
              "      <td>%</td>\n",
              "      <td>Y</td>\n",
              "      <td>4.3</td>\n",
              "      <td>g/dL</td>\n",
              "      <td>Y</td>\n",
              "      <td>30.9</td>\n",
              "      <td>mg/dL</td>\n",
              "      <td>N</td>\n",
              "      <td>N</td>\n",
              "      <td>26.66</td>\n",
              "      <td>N</td>\n",
              "      <td>NaN</td>\n",
              "      <td>N</td>\n",
              "      <td>...</td>\n",
              "      <td>N</td>\n",
              "      <td>0</td>\n",
              "      <td>0.0</td>\n",
              "      <td>0</td>\n",
              "      <td>0.0</td>\n",
              "      <td>200.0</td>\n",
              "      <td>20.0</td>\n",
              "      <td>0.0</td>\n",
              "      <td>0.0</td>\n",
              "      <td>0</td>\n",
              "      <td>0</td>\n",
              "      <td>0</td>\n",
              "      <td>0</td>\n",
              "      <td>1.3</td>\n",
              "      <td>26</td>\n",
              "      <td>0</td>\n",
              "      <td>0</td>\n",
              "      <td>0.0</td>\n",
              "      <td>0.0</td>\n",
              "      <td>0.0</td>\n",
              "      <td>0.0</td>\n",
              "      <td>0</td>\n",
              "      <td>0</td>\n",
              "      <td>0</td>\n",
              "      <td>0.0</td>\n",
              "      <td>0.0</td>\n",
              "      <td>0</td>\n",
              "      <td>0.0</td>\n",
              "      <td>0.0</td>\n",
              "      <td>0</td>\n",
              "      <td>0.0</td>\n",
              "      <td>35.0</td>\n",
              "      <td>52.5</td>\n",
              "      <td>0</td>\n",
              "      <td>0</td>\n",
              "      <td>0</td>\n",
              "      <td>0.0</td>\n",
              "      <td>N</td>\n",
              "      <td>NaN</td>\n",
              "      <td>334.8</td>\n",
              "    </tr>\n",
              "    <tr>\n",
              "      <th>4</th>\n",
              "      <td>293250</td>\n",
              "      <td>33</td>\n",
              "      <td>Male</td>\n",
              "      <td>Black or African American</td>\n",
              "      <td>42574.747917</td>\n",
              "      <td>2016</td>\n",
              "      <td>42574.000000</td>\n",
              "      <td>42574.747917</td>\n",
              "      <td>44160</td>\n",
              "      <td>open</td>\n",
              "      <td>PR REMVL COLON &amp; TERM ILEUM W/ILEOCOLOSTOMY</td>\n",
              "      <td>1</td>\n",
              "      <td>N</td>\n",
              "      <td>N</td>\n",
              "      <td>N</td>\n",
              "      <td>N</td>\n",
              "      <td>N</td>\n",
              "      <td>N</td>\n",
              "      <td>N</td>\n",
              "      <td>N</td>\n",
              "      <td>N</td>\n",
              "      <td>N</td>\n",
              "      <td>N</td>\n",
              "      <td>NaN</td>\n",
              "      <td>NaN</td>\n",
              "      <td>N</td>\n",
              "      <td>NaN</td>\n",
              "      <td>NaN</td>\n",
              "      <td>N</td>\n",
              "      <td>NaN</td>\n",
              "      <td>NaN</td>\n",
              "      <td>N</td>\n",
              "      <td>NaN</td>\n",
              "      <td>NaN</td>\n",
              "      <td>N</td>\n",
              "      <td>N</td>\n",
              "      <td>NaN</td>\n",
              "      <td>N</td>\n",
              "      <td>NaN</td>\n",
              "      <td>N</td>\n",
              "      <td>...</td>\n",
              "      <td>N</td>\n",
              "      <td>0</td>\n",
              "      <td>0.0</td>\n",
              "      <td>0</td>\n",
              "      <td>0.0</td>\n",
              "      <td>0.0</td>\n",
              "      <td>0.0</td>\n",
              "      <td>0.0</td>\n",
              "      <td>0.0</td>\n",
              "      <td>0</td>\n",
              "      <td>0</td>\n",
              "      <td>0</td>\n",
              "      <td>0</td>\n",
              "      <td>0.0</td>\n",
              "      <td>0</td>\n",
              "      <td>0</td>\n",
              "      <td>0</td>\n",
              "      <td>0.0</td>\n",
              "      <td>0.0</td>\n",
              "      <td>0.0</td>\n",
              "      <td>0.0</td>\n",
              "      <td>0</td>\n",
              "      <td>0</td>\n",
              "      <td>0</td>\n",
              "      <td>0.0</td>\n",
              "      <td>0.0</td>\n",
              "      <td>0</td>\n",
              "      <td>0.0</td>\n",
              "      <td>0.0</td>\n",
              "      <td>0</td>\n",
              "      <td>0.0</td>\n",
              "      <td>0.0</td>\n",
              "      <td>0.0</td>\n",
              "      <td>0</td>\n",
              "      <td>0</td>\n",
              "      <td>0</td>\n",
              "      <td>0.0</td>\n",
              "      <td>N</td>\n",
              "      <td>NaN</td>\n",
              "      <td>0.0</td>\n",
              "    </tr>\n",
              "  </tbody>\n",
              "</table>\n",
              "<p>5 rows × 83 columns</p>\n",
              "</div>"
            ],
            "text/plain": [
              "   masked_patient_id  Age     sex  ... redmission_30day_yn  Unnamed: 81 Total MME\n",
              "0              32838   54    Male  ...                   N          NaN     260.0\n",
              "1              80520   51    Male  ...                   N          NaN       0.0\n",
              "2             123734   80  Female  ...                   N          NaN      63.0\n",
              "3             266252   59    Male  ...                   N          NaN     334.8\n",
              "4             293250   33    Male  ...                   N          NaN       0.0\n",
              "\n",
              "[5 rows x 83 columns]"
            ]
          },
          "metadata": {
            "tags": []
          },
          "execution_count": 65
        }
      ]
    },
    {
      "cell_type": "code",
      "metadata": {
        "colab": {
          "base_uri": "https://localhost:8080/",
          "height": 206
        },
        "id": "YX13B2qDEeAm",
        "outputId": "4fbeea2e-985a-4718-d375-9c799008598e"
      },
      "source": [
        "sex_and_age = df[[ 'Age', 'sex', 'race', 'tapblock_yn', 'Total MME', 'length_of_stay', 'lap_vs_open']]\n",
        "sex_and_age.head()"
      ],
      "execution_count": 68,
      "outputs": [
        {
          "output_type": "execute_result",
          "data": {
            "text/html": [
              "<div>\n",
              "<style scoped>\n",
              "    .dataframe tbody tr th:only-of-type {\n",
              "        vertical-align: middle;\n",
              "    }\n",
              "\n",
              "    .dataframe tbody tr th {\n",
              "        vertical-align: top;\n",
              "    }\n",
              "\n",
              "    .dataframe thead th {\n",
              "        text-align: right;\n",
              "    }\n",
              "</style>\n",
              "<table border=\"1\" class=\"dataframe\">\n",
              "  <thead>\n",
              "    <tr style=\"text-align: right;\">\n",
              "      <th></th>\n",
              "      <th>Age</th>\n",
              "      <th>sex</th>\n",
              "      <th>race</th>\n",
              "      <th>tapblock_yn</th>\n",
              "      <th>Total MME</th>\n",
              "      <th>length_of_stay</th>\n",
              "      <th>lap_vs_open</th>\n",
              "    </tr>\n",
              "  </thead>\n",
              "  <tbody>\n",
              "    <tr>\n",
              "      <th>0</th>\n",
              "      <td>54</td>\n",
              "      <td>Male</td>\n",
              "      <td>White</td>\n",
              "      <td>N</td>\n",
              "      <td>260.0</td>\n",
              "      <td>1</td>\n",
              "      <td>open</td>\n",
              "    </tr>\n",
              "    <tr>\n",
              "      <th>1</th>\n",
              "      <td>51</td>\n",
              "      <td>Male</td>\n",
              "      <td>White</td>\n",
              "      <td>N</td>\n",
              "      <td>0.0</td>\n",
              "      <td>1</td>\n",
              "      <td>lap</td>\n",
              "    </tr>\n",
              "    <tr>\n",
              "      <th>2</th>\n",
              "      <td>80</td>\n",
              "      <td>Female</td>\n",
              "      <td>White</td>\n",
              "      <td>N</td>\n",
              "      <td>63.0</td>\n",
              "      <td>1</td>\n",
              "      <td>open</td>\n",
              "    </tr>\n",
              "    <tr>\n",
              "      <th>3</th>\n",
              "      <td>59</td>\n",
              "      <td>Male</td>\n",
              "      <td>White</td>\n",
              "      <td>N</td>\n",
              "      <td>334.8</td>\n",
              "      <td>1</td>\n",
              "      <td>lap</td>\n",
              "    </tr>\n",
              "    <tr>\n",
              "      <th>4</th>\n",
              "      <td>33</td>\n",
              "      <td>Male</td>\n",
              "      <td>Black or African American</td>\n",
              "      <td>N</td>\n",
              "      <td>0.0</td>\n",
              "      <td>1</td>\n",
              "      <td>open</td>\n",
              "    </tr>\n",
              "  </tbody>\n",
              "</table>\n",
              "</div>"
            ],
            "text/plain": [
              "   Age     sex  ... length_of_stay lap_vs_open\n",
              "0   54    Male  ...              1        open\n",
              "1   51    Male  ...              1         lap\n",
              "2   80  Female  ...              1        open\n",
              "3   59    Male  ...              1         lap\n",
              "4   33    Male  ...              1        open\n",
              "\n",
              "[5 rows x 7 columns]"
            ]
          },
          "metadata": {
            "tags": []
          },
          "execution_count": 68
        }
      ]
    },
    {
      "cell_type": "code",
      "metadata": {
        "colab": {
          "base_uri": "https://localhost:8080/",
          "height": 198
        },
        "id": "mIoM1bgeIMa0",
        "outputId": "9f79ba66-bfa0-464c-82e0-19f41e9cd386"
      },
      "source": [
        "df2 = sex_and_age.groupby('sex')['Age', 'length_of_stay', 'Total MME'].mean()\n",
        "df2['MPD'] = df2['Total MME']/df2['length_of_stay']\n",
        "df2"
      ],
      "execution_count": 67,
      "outputs": [
        {
          "output_type": "stream",
          "text": [
            "/usr/local/lib/python3.7/dist-packages/ipykernel_launcher.py:1: FutureWarning: Indexing with multiple keys (implicitly converted to a tuple of keys) will be deprecated, use a list instead.\n",
            "  \"\"\"Entry point for launching an IPython kernel.\n"
          ],
          "name": "stderr"
        },
        {
          "output_type": "execute_result",
          "data": {
            "text/html": [
              "<div>\n",
              "<style scoped>\n",
              "    .dataframe tbody tr th:only-of-type {\n",
              "        vertical-align: middle;\n",
              "    }\n",
              "\n",
              "    .dataframe tbody tr th {\n",
              "        vertical-align: top;\n",
              "    }\n",
              "\n",
              "    .dataframe thead th {\n",
              "        text-align: right;\n",
              "    }\n",
              "</style>\n",
              "<table border=\"1\" class=\"dataframe\">\n",
              "  <thead>\n",
              "    <tr style=\"text-align: right;\">\n",
              "      <th></th>\n",
              "      <th>Age</th>\n",
              "      <th>length_of_stay</th>\n",
              "      <th>Total MME</th>\n",
              "      <th>MPD</th>\n",
              "    </tr>\n",
              "    <tr>\n",
              "      <th>sex</th>\n",
              "      <th></th>\n",
              "      <th></th>\n",
              "      <th></th>\n",
              "      <th></th>\n",
              "    </tr>\n",
              "  </thead>\n",
              "  <tbody>\n",
              "    <tr>\n",
              "      <th>Female</th>\n",
              "      <td>61.559524</td>\n",
              "      <td>8.883929</td>\n",
              "      <td>832.185045</td>\n",
              "      <td>93.673090</td>\n",
              "    </tr>\n",
              "    <tr>\n",
              "      <th>Male</th>\n",
              "      <td>59.133858</td>\n",
              "      <td>9.108661</td>\n",
              "      <td>1024.146535</td>\n",
              "      <td>112.436558</td>\n",
              "    </tr>\n",
              "  </tbody>\n",
              "</table>\n",
              "</div>"
            ],
            "text/plain": [
              "              Age  length_of_stay    Total MME         MPD\n",
              "sex                                                       \n",
              "Female  61.559524        8.883929   832.185045   93.673090\n",
              "Male    59.133858        9.108661  1024.146535  112.436558"
            ]
          },
          "metadata": {
            "tags": []
          },
          "execution_count": 67
        }
      ]
    },
    {
      "cell_type": "code",
      "metadata": {
        "colab": {
          "base_uri": "https://localhost:8080/",
          "height": 198
        },
        "id": "0OJQopVsJa0F",
        "outputId": "fd830fbc-9b7d-4e31-aef3-74d8f4be6e43"
      },
      "source": [
        "df3 = sex_and_age.groupby('tapblock_yn')['Age', 'length_of_stay', 'Total MME'].mean()\n",
        "df3['MPD'] = df3['Total MME']/df3['length_of_stay']\n",
        "df3"
      ],
      "execution_count": 58,
      "outputs": [
        {
          "output_type": "stream",
          "text": [
            "/usr/local/lib/python3.7/dist-packages/ipykernel_launcher.py:1: FutureWarning: Indexing with multiple keys (implicitly converted to a tuple of keys) will be deprecated, use a list instead.\n",
            "  \"\"\"Entry point for launching an IPython kernel.\n"
          ],
          "name": "stderr"
        },
        {
          "output_type": "execute_result",
          "data": {
            "text/html": [
              "<div>\n",
              "<style scoped>\n",
              "    .dataframe tbody tr th:only-of-type {\n",
              "        vertical-align: middle;\n",
              "    }\n",
              "\n",
              "    .dataframe tbody tr th {\n",
              "        vertical-align: top;\n",
              "    }\n",
              "\n",
              "    .dataframe thead th {\n",
              "        text-align: right;\n",
              "    }\n",
              "</style>\n",
              "<table border=\"1\" class=\"dataframe\">\n",
              "  <thead>\n",
              "    <tr style=\"text-align: right;\">\n",
              "      <th></th>\n",
              "      <th>Age</th>\n",
              "      <th>length_of_stay</th>\n",
              "      <th>Total MME</th>\n",
              "      <th>MPD</th>\n",
              "    </tr>\n",
              "    <tr>\n",
              "      <th>tapblock_yn</th>\n",
              "      <th></th>\n",
              "      <th></th>\n",
              "      <th></th>\n",
              "      <th></th>\n",
              "    </tr>\n",
              "  </thead>\n",
              "  <tbody>\n",
              "    <tr>\n",
              "      <th>N</th>\n",
              "      <td>59.396694</td>\n",
              "      <td>10.699725</td>\n",
              "      <td>1107.982645</td>\n",
              "      <td>103.552446</td>\n",
              "    </tr>\n",
              "    <tr>\n",
              "      <th>Y</th>\n",
              "      <td>61.611015</td>\n",
              "      <td>6.860585</td>\n",
              "      <td>697.359725</td>\n",
              "      <td>101.647265</td>\n",
              "    </tr>\n",
              "  </tbody>\n",
              "</table>\n",
              "</div>"
            ],
            "text/plain": [
              "                   Age  length_of_stay    Total MME         MPD\n",
              "tapblock_yn                                                    \n",
              "N            59.396694       10.699725  1107.982645  103.552446\n",
              "Y            61.611015        6.860585   697.359725  101.647265"
            ]
          },
          "metadata": {
            "tags": []
          },
          "execution_count": 58
        }
      ]
    },
    {
      "cell_type": "code",
      "metadata": {
        "colab": {
          "base_uri": "https://localhost:8080/",
          "height": 261
        },
        "id": "szxiMWVeMLBy",
        "outputId": "9e0f1f44-48d0-4703-a438-8062522956e2"
      },
      "source": [
        "df5 = sex_and_age.groupby(['lap_vs_open','tapblock_yn'])['Age', 'length_of_stay', 'Total MME'].mean()\n",
        "df5['MPD'] = df5['Total MME']/df5['length_of_stay']\n",
        "df5"
      ],
      "execution_count": 73,
      "outputs": [
        {
          "output_type": "stream",
          "text": [
            "/usr/local/lib/python3.7/dist-packages/ipykernel_launcher.py:1: FutureWarning: Indexing with multiple keys (implicitly converted to a tuple of keys) will be deprecated, use a list instead.\n",
            "  \"\"\"Entry point for launching an IPython kernel.\n"
          ],
          "name": "stderr"
        },
        {
          "output_type": "execute_result",
          "data": {
            "text/html": [
              "<div>\n",
              "<style scoped>\n",
              "    .dataframe tbody tr th:only-of-type {\n",
              "        vertical-align: middle;\n",
              "    }\n",
              "\n",
              "    .dataframe tbody tr th {\n",
              "        vertical-align: top;\n",
              "    }\n",
              "\n",
              "    .dataframe thead th {\n",
              "        text-align: right;\n",
              "    }\n",
              "</style>\n",
              "<table border=\"1\" class=\"dataframe\">\n",
              "  <thead>\n",
              "    <tr style=\"text-align: right;\">\n",
              "      <th></th>\n",
              "      <th></th>\n",
              "      <th>Age</th>\n",
              "      <th>length_of_stay</th>\n",
              "      <th>Total MME</th>\n",
              "      <th>MPD</th>\n",
              "    </tr>\n",
              "    <tr>\n",
              "      <th>lap_vs_open</th>\n",
              "      <th>tapblock_yn</th>\n",
              "      <th></th>\n",
              "      <th></th>\n",
              "      <th></th>\n",
              "      <th></th>\n",
              "    </tr>\n",
              "  </thead>\n",
              "  <tbody>\n",
              "    <tr>\n",
              "      <th rowspan=\"2\" valign=\"top\">lap</th>\n",
              "      <th>N</th>\n",
              "      <td>62.300000</td>\n",
              "      <td>5.319048</td>\n",
              "      <td>595.174762</td>\n",
              "      <td>111.894987</td>\n",
              "    </tr>\n",
              "    <tr>\n",
              "      <th>Y</th>\n",
              "      <td>62.263975</td>\n",
              "      <td>4.378882</td>\n",
              "      <td>482.713665</td>\n",
              "      <td>110.236738</td>\n",
              "    </tr>\n",
              "    <tr>\n",
              "      <th rowspan=\"2\" valign=\"top\">open</th>\n",
              "      <th>N</th>\n",
              "      <td>58.215116</td>\n",
              "      <td>12.889535</td>\n",
              "      <td>1316.683527</td>\n",
              "      <td>102.151361</td>\n",
              "    </tr>\n",
              "    <tr>\n",
              "      <th>Y</th>\n",
              "      <td>60.799228</td>\n",
              "      <td>9.945946</td>\n",
              "      <td>964.216988</td>\n",
              "      <td>96.945730</td>\n",
              "    </tr>\n",
              "  </tbody>\n",
              "</table>\n",
              "</div>"
            ],
            "text/plain": [
              "                               Age  length_of_stay    Total MME         MPD\n",
              "lap_vs_open tapblock_yn                                                    \n",
              "lap         N            62.300000        5.319048   595.174762  111.894987\n",
              "            Y            62.263975        4.378882   482.713665  110.236738\n",
              "open        N            58.215116       12.889535  1316.683527  102.151361\n",
              "            Y            60.799228        9.945946   964.216988   96.945730"
            ]
          },
          "metadata": {
            "tags": []
          },
          "execution_count": 73
        }
      ]
    },
    {
      "cell_type": "code",
      "metadata": {
        "colab": {
          "base_uri": "https://localhost:8080/",
          "height": 198
        },
        "id": "8u5BE7cwM5EP",
        "outputId": "e9dd75fd-4a07-4733-f598-0f1d2255f9a4"
      },
      "source": [
        "df4 = sex_and_age.groupby('lap_vs_open')['Age', 'length_of_stay', 'Total MME'].mean()\n",
        "df4['MPD'] = df4['Total MME']/df4['length_of_stay']\n",
        "df4"
      ],
      "execution_count": 72,
      "outputs": [
        {
          "output_type": "stream",
          "text": [
            "/usr/local/lib/python3.7/dist-packages/ipykernel_launcher.py:1: FutureWarning: Indexing with multiple keys (implicitly converted to a tuple of keys) will be deprecated, use a list instead.\n",
            "  \"\"\"Entry point for launching an IPython kernel.\n"
          ],
          "name": "stderr"
        },
        {
          "output_type": "execute_result",
          "data": {
            "text/html": [
              "<div>\n",
              "<style scoped>\n",
              "    .dataframe tbody tr th:only-of-type {\n",
              "        vertical-align: middle;\n",
              "    }\n",
              "\n",
              "    .dataframe tbody tr th {\n",
              "        vertical-align: top;\n",
              "    }\n",
              "\n",
              "    .dataframe thead th {\n",
              "        text-align: right;\n",
              "    }\n",
              "</style>\n",
              "<table border=\"1\" class=\"dataframe\">\n",
              "  <thead>\n",
              "    <tr style=\"text-align: right;\">\n",
              "      <th></th>\n",
              "      <th>Age</th>\n",
              "      <th>length_of_stay</th>\n",
              "      <th>Total MME</th>\n",
              "      <th>MPD</th>\n",
              "    </tr>\n",
              "    <tr>\n",
              "      <th>lap_vs_open</th>\n",
              "      <th></th>\n",
              "      <th></th>\n",
              "      <th></th>\n",
              "      <th></th>\n",
              "    </tr>\n",
              "  </thead>\n",
              "  <tbody>\n",
              "    <tr>\n",
              "      <th>lap</th>\n",
              "      <td>62.278195</td>\n",
              "      <td>4.750000</td>\n",
              "      <td>527.106203</td>\n",
              "      <td>110.969727</td>\n",
              "    </tr>\n",
              "    <tr>\n",
              "      <th>open</th>\n",
              "      <td>59.078710</td>\n",
              "      <td>11.905806</td>\n",
              "      <td>1198.891484</td>\n",
              "      <td>100.698049</td>\n",
              "    </tr>\n",
              "  </tbody>\n",
              "</table>\n",
              "</div>"
            ],
            "text/plain": [
              "                   Age  length_of_stay    Total MME         MPD\n",
              "lap_vs_open                                                    \n",
              "lap          62.278195        4.750000   527.106203  110.969727\n",
              "open         59.078710       11.905806  1198.891484  100.698049"
            ]
          },
          "metadata": {
            "tags": []
          },
          "execution_count": 72
        }
      ]
    },
    {
      "cell_type": "code",
      "metadata": {
        "colab": {
          "base_uri": "https://localhost:8080/",
          "height": 206
        },
        "id": "ivnNcjTqFYL3",
        "outputId": "ac7cbc2c-cf47-44f3-ccb4-c23748d1d10e"
      },
      "source": [
        "\n",
        "df_yearly = df[['date', 'tapblock_yn', 'Total MME', 'length_of_stay', 'redmission_30day_yn', 'anastomoticleak_yn']]\n",
        "\n",
        "\n",
        "\n",
        "columns = ['Date', 'Tapblock', 'MME', 'LOS', 'Readmit', 'Leak']\n",
        "df_yearly.columns = columns\n",
        "df_yearly.head()"
      ],
      "execution_count": 76,
      "outputs": [
        {
          "output_type": "execute_result",
          "data": {
            "text/html": [
              "<div>\n",
              "<style scoped>\n",
              "    .dataframe tbody tr th:only-of-type {\n",
              "        vertical-align: middle;\n",
              "    }\n",
              "\n",
              "    .dataframe tbody tr th {\n",
              "        vertical-align: top;\n",
              "    }\n",
              "\n",
              "    .dataframe thead th {\n",
              "        text-align: right;\n",
              "    }\n",
              "</style>\n",
              "<table border=\"1\" class=\"dataframe\">\n",
              "  <thead>\n",
              "    <tr style=\"text-align: right;\">\n",
              "      <th></th>\n",
              "      <th>Date</th>\n",
              "      <th>Tapblock</th>\n",
              "      <th>MME</th>\n",
              "      <th>LOS</th>\n",
              "      <th>Readmit</th>\n",
              "      <th>Leak</th>\n",
              "    </tr>\n",
              "  </thead>\n",
              "  <tbody>\n",
              "    <tr>\n",
              "      <th>0</th>\n",
              "      <td>2017</td>\n",
              "      <td>N</td>\n",
              "      <td>260.0</td>\n",
              "      <td>1</td>\n",
              "      <td>N</td>\n",
              "      <td>N</td>\n",
              "    </tr>\n",
              "    <tr>\n",
              "      <th>1</th>\n",
              "      <td>2014</td>\n",
              "      <td>N</td>\n",
              "      <td>0.0</td>\n",
              "      <td>1</td>\n",
              "      <td>N</td>\n",
              "      <td>N</td>\n",
              "    </tr>\n",
              "    <tr>\n",
              "      <th>2</th>\n",
              "      <td>2018</td>\n",
              "      <td>N</td>\n",
              "      <td>63.0</td>\n",
              "      <td>1</td>\n",
              "      <td>N</td>\n",
              "      <td>N</td>\n",
              "    </tr>\n",
              "    <tr>\n",
              "      <th>3</th>\n",
              "      <td>2018</td>\n",
              "      <td>N</td>\n",
              "      <td>334.8</td>\n",
              "      <td>1</td>\n",
              "      <td>N</td>\n",
              "      <td>N</td>\n",
              "    </tr>\n",
              "    <tr>\n",
              "      <th>4</th>\n",
              "      <td>2016</td>\n",
              "      <td>N</td>\n",
              "      <td>0.0</td>\n",
              "      <td>1</td>\n",
              "      <td>N</td>\n",
              "      <td>N</td>\n",
              "    </tr>\n",
              "  </tbody>\n",
              "</table>\n",
              "</div>"
            ],
            "text/plain": [
              "   Date Tapblock    MME  LOS Readmit Leak\n",
              "0  2017        N  260.0    1       N    N\n",
              "1  2014        N    0.0    1       N    N\n",
              "2  2018        N   63.0    1       N    N\n",
              "3  2018        N  334.8    1       N    N\n",
              "4  2016        N    0.0    1       N    N"
            ]
          },
          "metadata": {
            "tags": []
          },
          "execution_count": 76
        }
      ]
    },
    {
      "cell_type": "code",
      "metadata": {
        "id": "FnO0BQ3BKwuP",
        "colab": {
          "base_uri": "https://localhost:8080/",
          "height": 355
        },
        "outputId": "f8503b9b-8ac0-461a-c2aa-e75be4d5a487"
      },
      "source": [
        "grouped = df_yearly.groupby('Date')['MME', 'LOS'].mean()\n",
        "grouped\n"
      ],
      "execution_count": 77,
      "outputs": [
        {
          "output_type": "stream",
          "text": [
            "/usr/local/lib/python3.7/dist-packages/ipykernel_launcher.py:1: FutureWarning: Indexing with multiple keys (implicitly converted to a tuple of keys) will be deprecated, use a list instead.\n",
            "  \"\"\"Entry point for launching an IPython kernel.\n"
          ],
          "name": "stderr"
        },
        {
          "output_type": "execute_result",
          "data": {
            "text/html": [
              "<div>\n",
              "<style scoped>\n",
              "    .dataframe tbody tr th:only-of-type {\n",
              "        vertical-align: middle;\n",
              "    }\n",
              "\n",
              "    .dataframe tbody tr th {\n",
              "        vertical-align: top;\n",
              "    }\n",
              "\n",
              "    .dataframe thead th {\n",
              "        text-align: right;\n",
              "    }\n",
              "</style>\n",
              "<table border=\"1\" class=\"dataframe\">\n",
              "  <thead>\n",
              "    <tr style=\"text-align: right;\">\n",
              "      <th></th>\n",
              "      <th>MME</th>\n",
              "      <th>LOS</th>\n",
              "    </tr>\n",
              "    <tr>\n",
              "      <th>Date</th>\n",
              "      <th></th>\n",
              "      <th></th>\n",
              "    </tr>\n",
              "  </thead>\n",
              "  <tbody>\n",
              "    <tr>\n",
              "      <th>2014</th>\n",
              "      <td>1229.534122</td>\n",
              "      <td>10.682432</td>\n",
              "    </tr>\n",
              "    <tr>\n",
              "      <th>2015</th>\n",
              "      <td>1033.003037</td>\n",
              "      <td>9.649533</td>\n",
              "    </tr>\n",
              "    <tr>\n",
              "      <th>2016</th>\n",
              "      <td>921.935321</td>\n",
              "      <td>9.188073</td>\n",
              "    </tr>\n",
              "    <tr>\n",
              "      <th>2017</th>\n",
              "      <td>1004.925738</td>\n",
              "      <td>9.362869</td>\n",
              "    </tr>\n",
              "    <tr>\n",
              "      <th>2018</th>\n",
              "      <td>811.397650</td>\n",
              "      <td>8.457265</td>\n",
              "    </tr>\n",
              "    <tr>\n",
              "      <th>2019</th>\n",
              "      <td>698.583730</td>\n",
              "      <td>7.428571</td>\n",
              "    </tr>\n",
              "    <tr>\n",
              "      <th>2020</th>\n",
              "      <td>367.062500</td>\n",
              "      <td>8.750000</td>\n",
              "    </tr>\n",
              "  </tbody>\n",
              "</table>\n",
              "</div>"
            ],
            "text/plain": [
              "              MME        LOS\n",
              "Date                        \n",
              "2014  1229.534122  10.682432\n",
              "2015  1033.003037   9.649533\n",
              "2016   921.935321   9.188073\n",
              "2017  1004.925738   9.362869\n",
              "2018   811.397650   8.457265\n",
              "2019   698.583730   7.428571\n",
              "2020   367.062500   8.750000"
            ]
          },
          "metadata": {
            "tags": []
          },
          "execution_count": 77
        }
      ]
    },
    {
      "cell_type": "code",
      "metadata": {
        "colab": {
          "base_uri": "https://localhost:8080/",
          "height": 300
        },
        "id": "X_kw_PY-e6GQ",
        "outputId": "2ea09d4f-9ff4-4189-c5f9-25c341ffca58"
      },
      "source": [
        "grouped['MPD'] = grouped.MME/grouped.LOS #MPD = MME per Day\n",
        "\n",
        "grouped"
      ],
      "execution_count": 78,
      "outputs": [
        {
          "output_type": "execute_result",
          "data": {
            "text/html": [
              "<div>\n",
              "<style scoped>\n",
              "    .dataframe tbody tr th:only-of-type {\n",
              "        vertical-align: middle;\n",
              "    }\n",
              "\n",
              "    .dataframe tbody tr th {\n",
              "        vertical-align: top;\n",
              "    }\n",
              "\n",
              "    .dataframe thead th {\n",
              "        text-align: right;\n",
              "    }\n",
              "</style>\n",
              "<table border=\"1\" class=\"dataframe\">\n",
              "  <thead>\n",
              "    <tr style=\"text-align: right;\">\n",
              "      <th></th>\n",
              "      <th>MME</th>\n",
              "      <th>LOS</th>\n",
              "      <th>MPD</th>\n",
              "    </tr>\n",
              "    <tr>\n",
              "      <th>Date</th>\n",
              "      <th></th>\n",
              "      <th></th>\n",
              "      <th></th>\n",
              "    </tr>\n",
              "  </thead>\n",
              "  <tbody>\n",
              "    <tr>\n",
              "      <th>2014</th>\n",
              "      <td>1229.534122</td>\n",
              "      <td>10.682432</td>\n",
              "      <td>115.098703</td>\n",
              "    </tr>\n",
              "    <tr>\n",
              "      <th>2015</th>\n",
              "      <td>1033.003037</td>\n",
              "      <td>9.649533</td>\n",
              "      <td>107.052131</td>\n",
              "    </tr>\n",
              "    <tr>\n",
              "      <th>2016</th>\n",
              "      <td>921.935321</td>\n",
              "      <td>9.188073</td>\n",
              "      <td>100.340439</td>\n",
              "    </tr>\n",
              "    <tr>\n",
              "      <th>2017</th>\n",
              "      <td>1004.925738</td>\n",
              "      <td>9.362869</td>\n",
              "      <td>107.330960</td>\n",
              "    </tr>\n",
              "    <tr>\n",
              "      <th>2018</th>\n",
              "      <td>811.397650</td>\n",
              "      <td>8.457265</td>\n",
              "      <td>95.940904</td>\n",
              "    </tr>\n",
              "    <tr>\n",
              "      <th>2019</th>\n",
              "      <td>698.583730</td>\n",
              "      <td>7.428571</td>\n",
              "      <td>94.040118</td>\n",
              "    </tr>\n",
              "    <tr>\n",
              "      <th>2020</th>\n",
              "      <td>367.062500</td>\n",
              "      <td>8.750000</td>\n",
              "      <td>41.950000</td>\n",
              "    </tr>\n",
              "  </tbody>\n",
              "</table>\n",
              "</div>"
            ],
            "text/plain": [
              "              MME        LOS         MPD\n",
              "Date                                    \n",
              "2014  1229.534122  10.682432  115.098703\n",
              "2015  1033.003037   9.649533  107.052131\n",
              "2016   921.935321   9.188073  100.340439\n",
              "2017  1004.925738   9.362869  107.330960\n",
              "2018   811.397650   8.457265   95.940904\n",
              "2019   698.583730   7.428571   94.040118\n",
              "2020   367.062500   8.750000   41.950000"
            ]
          },
          "metadata": {
            "tags": []
          },
          "execution_count": 78
        }
      ]
    },
    {
      "cell_type": "code",
      "metadata": {
        "colab": {
          "base_uri": "https://localhost:8080/",
          "height": 299
        },
        "id": "VhEEFDLBQfQn",
        "outputId": "9b70e0e7-46ee-4e90-c1e9-f7f94e5732c8"
      },
      "source": [
        "grouped['MPD'].plot()"
      ],
      "execution_count": 79,
      "outputs": [
        {
          "output_type": "execute_result",
          "data": {
            "text/plain": [
              "<matplotlib.axes._subplots.AxesSubplot at 0x7f8d2b44f910>"
            ]
          },
          "metadata": {
            "tags": []
          },
          "execution_count": 79
        },
        {
          "output_type": "display_data",
          "data": {
            "image/png": "[encoded data removed]",
            "text/plain": [
              "<Figure size 432x288 with 1 Axes>"
            ]
          },
          "metadata": {
            "tags": []
          }
        }
      ]
    },
    {
      "cell_type": "code",
      "metadata": {
        "colab": {
          "base_uri": "https://localhost:8080/"
        },
        "id": "G2twsjKbW2Xo",
        "outputId": "cb0a955c-9400-4f2b-958c-855006898780"
      },
      "source": [
        "df_yearly.groupby('Date')['LOS'].mean()"
      ],
      "execution_count": 80,
      "outputs": [
        {
          "output_type": "execute_result",
          "data": {
            "text/plain": [
              "Date\n",
              "2014    10.682432\n",
              "2015     9.649533\n",
              "2016     9.188073\n",
              "2017     9.362869\n",
              "2018     8.457265\n",
              "2019     7.428571\n",
              "2020     8.750000\n",
              "Freq: A-DEC, Name: LOS, dtype: float64"
            ]
          },
          "metadata": {
            "tags": []
          },
          "execution_count": 80
        }
      ]
    },
    {
      "cell_type": "code",
      "metadata": {
        "colab": {
          "base_uri": "https://localhost:8080/",
          "height": 299
        },
        "id": "XlJ0xxZ4Mwly",
        "outputId": "2b13ca6a-9b66-472c-9314-37eddb9527f2"
      },
      "source": [
        "grouped['MME'].plot()"
      ],
      "execution_count": 81,
      "outputs": [
        {
          "output_type": "execute_result",
          "data": {
            "text/plain": [
              "<matplotlib.axes._subplots.AxesSubplot at 0x7f8d2b5d9550>"
            ]
          },
          "metadata": {
            "tags": []
          },
          "execution_count": 81
        },
        {
          "output_type": "display_data",
          "data": {
            "image/png": "[encoded data removed]",
            "text/plain": [
              "<Figure size 432x288 with 1 Axes>"
            ]
          },
          "metadata": {
            "tags": []
          }
        }
      ]
    },
    {
      "cell_type": "code",
      "metadata": {
        "colab": {
          "base_uri": "https://localhost:8080/",
          "height": 299
        },
        "id": "aY0S_lr3ShST",
        "outputId": "5d37c62e-3ccb-4f88-8634-0e3a210ba9ee"
      },
      "source": [
        "grouped.LOS.plot()"
      ],
      "execution_count": 82,
      "outputs": [
        {
          "output_type": "execute_result",
          "data": {
            "text/plain": [
              "<matplotlib.axes._subplots.AxesSubplot at 0x7f8d2b435890>"
            ]
          },
          "metadata": {
            "tags": []
          },
          "execution_count": 82
        },
        {
          "output_type": "display_data",
          "data": {
            "image/png": "[encoded data removed]",
            "text/plain": [
              "<Figure size 432x288 with 1 Axes>"
            ]
          },
          "metadata": {
            "tags": []
          }
        }
      ]
    },
    {
      "cell_type": "code",
      "metadata": {
        "colab": {
          "base_uri": "https://localhost:8080/"
        },
        "id": "44F_gu2nPb6W",
        "outputId": "fbe512c4-1308-418c-a763-b67ef68be9a0"
      },
      "source": [
        "df_yearly.groupby('Date')['Tapblock'].value_counts()"
      ],
      "execution_count": 83,
      "outputs": [
        {
          "output_type": "execute_result",
          "data": {
            "text/plain": [
              "Date  Tapblock\n",
              "2014  N           148\n",
              "2015  N           123\n",
              "      Y            91\n",
              "2016  N           113\n",
              "      Y           105\n",
              "2017  N           119\n",
              "      Y           118\n",
              "2018  N           120\n",
              "      Y           114\n",
              "2019  Y           153\n",
              "      N            99\n",
              "2020  N             4\n",
              "Name: Tapblock, dtype: int64"
            ]
          },
          "metadata": {
            "tags": []
          },
          "execution_count": 83
        }
      ]
    },
    {
      "cell_type": "code",
      "metadata": {
        "colab": {
          "base_uri": "https://localhost:8080/",
          "height": 300
        },
        "id": "h-ykERVCP9UJ",
        "outputId": "8c4c9cb9-323e-477e-bb8e-e4259643909a"
      },
      "source": [
        "tap_mme = df_yearly.groupby('Date').mean()\n",
        "tap_mme"
      ],
      "execution_count": 84,
      "outputs": [
        {
          "output_type": "execute_result",
          "data": {
            "text/html": [
              "<div>\n",
              "<style scoped>\n",
              "    .dataframe tbody tr th:only-of-type {\n",
              "        vertical-align: middle;\n",
              "    }\n",
              "\n",
              "    .dataframe tbody tr th {\n",
              "        vertical-align: top;\n",
              "    }\n",
              "\n",
              "    .dataframe thead th {\n",
              "        text-align: right;\n",
              "    }\n",
              "</style>\n",
              "<table border=\"1\" class=\"dataframe\">\n",
              "  <thead>\n",
              "    <tr style=\"text-align: right;\">\n",
              "      <th></th>\n",
              "      <th>MME</th>\n",
              "      <th>LOS</th>\n",
              "    </tr>\n",
              "    <tr>\n",
              "      <th>Date</th>\n",
              "      <th></th>\n",
              "      <th></th>\n",
              "    </tr>\n",
              "  </thead>\n",
              "  <tbody>\n",
              "    <tr>\n",
              "      <th>2014</th>\n",
              "      <td>1229.534122</td>\n",
              "      <td>10.682432</td>\n",
              "    </tr>\n",
              "    <tr>\n",
              "      <th>2015</th>\n",
              "      <td>1033.003037</td>\n",
              "      <td>9.649533</td>\n",
              "    </tr>\n",
              "    <tr>\n",
              "      <th>2016</th>\n",
              "      <td>921.935321</td>\n",
              "      <td>9.188073</td>\n",
              "    </tr>\n",
              "    <tr>\n",
              "      <th>2017</th>\n",
              "      <td>1004.925738</td>\n",
              "      <td>9.362869</td>\n",
              "    </tr>\n",
              "    <tr>\n",
              "      <th>2018</th>\n",
              "      <td>811.397650</td>\n",
              "      <td>8.457265</td>\n",
              "    </tr>\n",
              "    <tr>\n",
              "      <th>2019</th>\n",
              "      <td>698.583730</td>\n",
              "      <td>7.428571</td>\n",
              "    </tr>\n",
              "    <tr>\n",
              "      <th>2020</th>\n",
              "      <td>367.062500</td>\n",
              "      <td>8.750000</td>\n",
              "    </tr>\n",
              "  </tbody>\n",
              "</table>\n",
              "</div>"
            ],
            "text/plain": [
              "              MME        LOS\n",
              "Date                        \n",
              "2014  1229.534122  10.682432\n",
              "2015  1033.003037   9.649533\n",
              "2016   921.935321   9.188073\n",
              "2017  1004.925738   9.362869\n",
              "2018   811.397650   8.457265\n",
              "2019   698.583730   7.428571\n",
              "2020   367.062500   8.750000"
            ]
          },
          "metadata": {
            "tags": []
          },
          "execution_count": 84
        }
      ]
    },
    {
      "cell_type": "code",
      "metadata": {
        "id": "-aUTnn1GQ63e"
      },
      "source": [
        "tap_mme.reset_index()\n",
        "n = tap_mme.iloc[0, 0]\n",
        "y = tap_mme.iloc[1, 0]\n"
      ],
      "execution_count": 85,
      "outputs": []
    },
    {
      "cell_type": "code",
      "metadata": {
        "id": "Ez_DU-LQSPMk"
      },
      "source": [
        "pct_reduc = (n-y)/(n)"
      ],
      "execution_count": 86,
      "outputs": []
    },
    {
      "cell_type": "code",
      "metadata": {
        "colab": {
          "base_uri": "https://localhost:8080/"
        },
        "id": "qlTiCUu7Su31",
        "outputId": "f1a5a507-fdb5-4de0-c783-b7182d70e9a7"
      },
      "source": [
        "pct_reduc\n",
        "print('The percent reduction in MME for Tapblock: {:.4f}'.format(pct_reduc*100) + '%')"
      ],
      "execution_count": 87,
      "outputs": [
        {
          "output_type": "stream",
          "text": [
            "The percent reduction in MME for Tapblock: 15.9842%\n"
          ],
          "name": "stdout"
        }
      ]
    },
    {
      "cell_type": "code",
      "metadata": {
        "id": "jt_jUFpiS9x9"
      },
      "source": [
        "tap1 = tap_mme['MME']\n",
        "\n",
        "\n",
        "tap1 = pd.DataFrame(tap1)"
      ],
      "execution_count": 88,
      "outputs": []
    },
    {
      "cell_type": "code",
      "metadata": {
        "colab": {
          "base_uri": "https://localhost:8080/",
          "height": 269
        },
        "id": "nEt4CRnwT_U7",
        "outputId": "e6263724-7838-409d-b0c4-8c77d8150dab"
      },
      "source": [
        "tap1['Diff1'] = tap1.pct_change()\n",
        "tap1.dropna(axis=0, inplace=True)\n",
        "tap1"
      ],
      "execution_count": 89,
      "outputs": [
        {
          "output_type": "execute_result",
          "data": {
            "text/html": [
              "<div>\n",
              "<style scoped>\n",
              "    .dataframe tbody tr th:only-of-type {\n",
              "        vertical-align: middle;\n",
              "    }\n",
              "\n",
              "    .dataframe tbody tr th {\n",
              "        vertical-align: top;\n",
              "    }\n",
              "\n",
              "    .dataframe thead th {\n",
              "        text-align: right;\n",
              "    }\n",
              "</style>\n",
              "<table border=\"1\" class=\"dataframe\">\n",
              "  <thead>\n",
              "    <tr style=\"text-align: right;\">\n",
              "      <th></th>\n",
              "      <th>MME</th>\n",
              "      <th>Diff1</th>\n",
              "    </tr>\n",
              "    <tr>\n",
              "      <th>Date</th>\n",
              "      <th></th>\n",
              "      <th></th>\n",
              "    </tr>\n",
              "  </thead>\n",
              "  <tbody>\n",
              "    <tr>\n",
              "      <th>2015</th>\n",
              "      <td>1033.003037</td>\n",
              "      <td>-0.159842</td>\n",
              "    </tr>\n",
              "    <tr>\n",
              "      <th>2016</th>\n",
              "      <td>921.935321</td>\n",
              "      <td>-0.107519</td>\n",
              "    </tr>\n",
              "    <tr>\n",
              "      <th>2017</th>\n",
              "      <td>1004.925738</td>\n",
              "      <td>0.090018</td>\n",
              "    </tr>\n",
              "    <tr>\n",
              "      <th>2018</th>\n",
              "      <td>811.397650</td>\n",
              "      <td>-0.192579</td>\n",
              "    </tr>\n",
              "    <tr>\n",
              "      <th>2019</th>\n",
              "      <td>698.583730</td>\n",
              "      <td>-0.139037</td>\n",
              "    </tr>\n",
              "    <tr>\n",
              "      <th>2020</th>\n",
              "      <td>367.062500</td>\n",
              "      <td>-0.474562</td>\n",
              "    </tr>\n",
              "  </tbody>\n",
              "</table>\n",
              "</div>"
            ],
            "text/plain": [
              "              MME     Diff1\n",
              "Date                       \n",
              "2015  1033.003037 -0.159842\n",
              "2016   921.935321 -0.107519\n",
              "2017  1004.925738  0.090018\n",
              "2018   811.397650 -0.192579\n",
              "2019   698.583730 -0.139037\n",
              "2020   367.062500 -0.474562"
            ]
          },
          "metadata": {
            "tags": []
          },
          "execution_count": 89
        }
      ]
    },
    {
      "cell_type": "code",
      "metadata": {
        "id": "uICxqQ-yioku"
      },
      "source": [
        ""
      ],
      "execution_count": null,
      "outputs": []
    },
    {
      "cell_type": "code",
      "metadata": {
        "colab": {
          "base_uri": "https://localhost:8080/",
          "height": 299
        },
        "id": "dyb0W7m2Sv3u",
        "outputId": "9e05bcc5-b0d1-496f-dda4-668fcb3dc994"
      },
      "source": [
        "sns.boxplot(data=df_yearly, x='Tapblock', y='LOS')"
      ],
      "execution_count": null,
      "outputs": [
        {
          "output_type": "execute_result",
          "data": {
            "text/plain": [
              "<matplotlib.axes._subplots.AxesSubplot at 0x7fedd7b5c490>"
            ]
          },
          "metadata": {
            "tags": []
          },
          "execution_count": 23
        },
        {
          "output_type": "display_data",
          "data": {
            "image/png": "[encoded data removed]",
            "text/plain": [
              "<Figure size 432x288 with 1 Axes>"
            ]
          },
          "metadata": {
            "tags": [],
            "needs_background": "light"
          }
        }
      ]
    },
    {
      "cell_type": "code",
      "metadata": {
        "colab": {
          "base_uri": "https://localhost:8080/"
        },
        "id": "orecgdJiGum_",
        "outputId": "dcfb3aec-3e45-4776-dc3d-f32785473763"
      },
      "source": [
        "df_yearly['log_MME'] = np.log(df_yearly.MME)"
      ],
      "execution_count": null,
      "outputs": [
        {
          "output_type": "stream",
          "text": [
            "/usr/local/lib/python3.7/dist-packages/pandas/core/series.py:726: RuntimeWarning: divide by zero encountered in log\n",
            "  result = getattr(ufunc, method)(*inputs, **kwargs)\n",
            "/usr/local/lib/python3.7/dist-packages/ipykernel_launcher.py:1: SettingWithCopyWarning: \n",
            "A value is trying to be set on a copy of a slice from a DataFrame.\n",
            "Try using .loc[row_indexer,col_indexer] = value instead\n",
            "\n",
            "See the caveats in the documentation: https://pandas.pydata.org/pandas-docs/stable/user_guide/indexing.html#returning-a-view-versus-a-copy\n",
            "  \"\"\"Entry point for launching an IPython kernel.\n"
          ],
          "name": "stderr"
        }
      ]
    },
    {
      "cell_type": "code",
      "metadata": {
        "colab": {
          "base_uri": "https://localhost:8080/",
          "height": 299
        },
        "id": "HraBlvxBXiCv",
        "outputId": "d08f7be1-5665-4a50-deca-8edf17bd1cba"
      },
      "source": [
        "sns.boxplot(data=df_yearly, x='Tapblock', y='log_MME')"
      ],
      "execution_count": null,
      "outputs": [
        {
          "output_type": "execute_result",
          "data": {
            "text/plain": [
              "<matplotlib.axes._subplots.AxesSubplot at 0x7f475f2ecb90>"
            ]
          },
          "metadata": {
            "tags": []
          },
          "execution_count": 24
        },
        {
          "output_type": "display_data",
          "data": {
            "image/png": "[encoded data removed]",
            "text/plain": [
              "<Figure size 432x288 with 1 Axes>"
            ]
          },
          "metadata": {
            "tags": [],
            "needs_background": "light"
          }
        }
      ]
    },
    {
      "cell_type": "code",
      "metadata": {
        "colab": {
          "base_uri": "https://localhost:8080/",
          "height": 171
        },
        "id": "9uG2ct0AYvG5",
        "outputId": "04a606b0-ecc7-42f8-a7fb-53ad5f026cdf"
      },
      "source": [
        "df_yearly.groupby('Readmit').agg(['mean', 'count'])"
      ],
      "execution_count": null,
      "outputs": [
        {
          "output_type": "execute_result",
          "data": {
            "text/html": [
              "<div>\n",
              "<style scoped>\n",
              "    .dataframe tbody tr th:only-of-type {\n",
              "        vertical-align: middle;\n",
              "    }\n",
              "\n",
              "    .dataframe tbody tr th {\n",
              "        vertical-align: top;\n",
              "    }\n",
              "\n",
              "    .dataframe thead tr th {\n",
              "        text-align: left;\n",
              "    }\n",
              "\n",
              "    .dataframe thead tr:last-of-type th {\n",
              "        text-align: right;\n",
              "    }\n",
              "</style>\n",
              "<table border=\"1\" class=\"dataframe\">\n",
              "  <thead>\n",
              "    <tr>\n",
              "      <th></th>\n",
              "      <th colspan=\"2\" halign=\"left\">MME</th>\n",
              "      <th colspan=\"2\" halign=\"left\">LOS</th>\n",
              "    </tr>\n",
              "    <tr>\n",
              "      <th></th>\n",
              "      <th>mean</th>\n",
              "      <th>count</th>\n",
              "      <th>mean</th>\n",
              "      <th>count</th>\n",
              "    </tr>\n",
              "    <tr>\n",
              "      <th>Readmit</th>\n",
              "      <th></th>\n",
              "      <th></th>\n",
              "      <th></th>\n",
              "      <th></th>\n",
              "    </tr>\n",
              "  </thead>\n",
              "  <tbody>\n",
              "    <tr>\n",
              "      <th>N</th>\n",
              "      <td>872.286415</td>\n",
              "      <td>1071</td>\n",
              "      <td>8.671335</td>\n",
              "      <td>1071</td>\n",
              "    </tr>\n",
              "    <tr>\n",
              "      <th>Y</th>\n",
              "      <td>1166.706144</td>\n",
              "      <td>236</td>\n",
              "      <td>10.453390</td>\n",
              "      <td>236</td>\n",
              "    </tr>\n",
              "  </tbody>\n",
              "</table>\n",
              "</div>"
            ],
            "text/plain": [
              "                 MME              LOS      \n",
              "                mean count       mean count\n",
              "Readmit                                    \n",
              "N         872.286415  1071   8.671335  1071\n",
              "Y        1166.706144   236  10.453390   236"
            ]
          },
          "metadata": {
            "tags": []
          },
          "execution_count": 25
        }
      ]
    },
    {
      "cell_type": "code",
      "metadata": {
        "colab": {
          "base_uri": "https://localhost:8080/",
          "height": 141
        },
        "id": "rttxgAZKYxX0",
        "outputId": "a3025866-9340-44e3-c9d7-1e480803774b"
      },
      "source": [
        "df_yearly.groupby('Leak').median()"
      ],
      "execution_count": null,
      "outputs": [
        {
          "output_type": "execute_result",
          "data": {
            "text/html": [
              "<div>\n",
              "<style scoped>\n",
              "    .dataframe tbody tr th:only-of-type {\n",
              "        vertical-align: middle;\n",
              "    }\n",
              "\n",
              "    .dataframe tbody tr th {\n",
              "        vertical-align: top;\n",
              "    }\n",
              "\n",
              "    .dataframe thead th {\n",
              "        text-align: right;\n",
              "    }\n",
              "</style>\n",
              "<table border=\"1\" class=\"dataframe\">\n",
              "  <thead>\n",
              "    <tr style=\"text-align: right;\">\n",
              "      <th></th>\n",
              "      <th>MME</th>\n",
              "      <th>LOS</th>\n",
              "    </tr>\n",
              "    <tr>\n",
              "      <th>Leak</th>\n",
              "      <th></th>\n",
              "      <th></th>\n",
              "    </tr>\n",
              "  </thead>\n",
              "  <tbody>\n",
              "    <tr>\n",
              "      <th>N</th>\n",
              "      <td>578.0</td>\n",
              "      <td>5</td>\n",
              "    </tr>\n",
              "    <tr>\n",
              "      <th>Y</th>\n",
              "      <td>1102.0</td>\n",
              "      <td>13</td>\n",
              "    </tr>\n",
              "  </tbody>\n",
              "</table>\n",
              "</div>"
            ],
            "text/plain": [
              "         MME  LOS\n",
              "Leak             \n",
              "N      578.0    5\n",
              "Y     1102.0   13"
            ]
          },
          "metadata": {
            "tags": []
          },
          "execution_count": 26
        }
      ]
    },
    {
      "cell_type": "code",
      "metadata": {
        "colab": {
          "base_uri": "https://localhost:8080/",
          "height": 202
        },
        "id": "TsRwDN_xY9dl",
        "outputId": "14913295-f90b-46ca-9292-bc09bbd8cd4e"
      },
      "source": [
        "pd.pivot_table(df_yearly, index = ['Readmit', 'Tapblock'], values=['MME', 'LOS'],\n",
        "                     aggfunc={'MME' : 'mean', 'LOS' : 'median'})"
      ],
      "execution_count": null,
      "outputs": [
        {
          "output_type": "execute_result",
          "data": {
            "text/html": [
              "<div>\n",
              "<style scoped>\n",
              "    .dataframe tbody tr th:only-of-type {\n",
              "        vertical-align: middle;\n",
              "    }\n",
              "\n",
              "    .dataframe tbody tr th {\n",
              "        vertical-align: top;\n",
              "    }\n",
              "\n",
              "    .dataframe thead th {\n",
              "        text-align: right;\n",
              "    }\n",
              "</style>\n",
              "<table border=\"1\" class=\"dataframe\">\n",
              "  <thead>\n",
              "    <tr style=\"text-align: right;\">\n",
              "      <th></th>\n",
              "      <th></th>\n",
              "      <th>LOS</th>\n",
              "      <th>MME</th>\n",
              "    </tr>\n",
              "    <tr>\n",
              "      <th>Readmit</th>\n",
              "      <th>Tapblock</th>\n",
              "      <th></th>\n",
              "      <th></th>\n",
              "    </tr>\n",
              "  </thead>\n",
              "  <tbody>\n",
              "    <tr>\n",
              "      <th rowspan=\"2\" valign=\"top\">N</th>\n",
              "      <th>N</th>\n",
              "      <td>7</td>\n",
              "      <td>1067.583568</td>\n",
              "    </tr>\n",
              "    <tr>\n",
              "      <th>Y</th>\n",
              "      <td>4</td>\n",
              "      <td>650.923705</td>\n",
              "    </tr>\n",
              "    <tr>\n",
              "      <th rowspan=\"2\" valign=\"top\">Y</th>\n",
              "      <th>N</th>\n",
              "      <td>7</td>\n",
              "      <td>1254.397134</td>\n",
              "    </tr>\n",
              "    <tr>\n",
              "      <th>Y</th>\n",
              "      <td>6</td>\n",
              "      <td>992.434177</td>\n",
              "    </tr>\n",
              "  </tbody>\n",
              "</table>\n",
              "</div>"
            ],
            "text/plain": [
              "                  LOS          MME\n",
              "Readmit Tapblock                  \n",
              "N       N           7  1067.583568\n",
              "        Y           4   650.923705\n",
              "Y       N           7  1254.397134\n",
              "        Y           6   992.434177"
            ]
          },
          "metadata": {
            "tags": []
          },
          "execution_count": 27
        }
      ]
    },
    {
      "cell_type": "code",
      "metadata": {
        "colab": {
          "base_uri": "https://localhost:8080/",
          "height": 143
        },
        "id": "1py9GLiUOpyn",
        "outputId": "f62daae7-ad1c-4f9b-e6ed-d15cd978a394"
      },
      "source": [
        "readmit = pd.pivot_table(df_yearly, index = ['Readmit'], values=['MME', 'LOS'],\n",
        "                     aggfunc={'MME' : 'mean', 'LOS' : 'median'})\n",
        "readmit['MPD'] = readmit['MME']/readmit['LOS']\n",
        "readmit"
      ],
      "execution_count": 91,
      "outputs": [
        {
          "output_type": "execute_result",
          "data": {
            "text/html": [
              "<div>\n",
              "<style scoped>\n",
              "    .dataframe tbody tr th:only-of-type {\n",
              "        vertical-align: middle;\n",
              "    }\n",
              "\n",
              "    .dataframe tbody tr th {\n",
              "        vertical-align: top;\n",
              "    }\n",
              "\n",
              "    .dataframe thead th {\n",
              "        text-align: right;\n",
              "    }\n",
              "</style>\n",
              "<table border=\"1\" class=\"dataframe\">\n",
              "  <thead>\n",
              "    <tr style=\"text-align: right;\">\n",
              "      <th></th>\n",
              "      <th>LOS</th>\n",
              "      <th>MME</th>\n",
              "      <th>MPD</th>\n",
              "    </tr>\n",
              "    <tr>\n",
              "      <th>Readmit</th>\n",
              "      <th></th>\n",
              "      <th></th>\n",
              "      <th></th>\n",
              "    </tr>\n",
              "  </thead>\n",
              "  <tbody>\n",
              "    <tr>\n",
              "      <th>N</th>\n",
              "      <td>5.0</td>\n",
              "      <td>872.286415</td>\n",
              "      <td>174.457283</td>\n",
              "    </tr>\n",
              "    <tr>\n",
              "      <th>Y</th>\n",
              "      <td>6.5</td>\n",
              "      <td>1166.706144</td>\n",
              "      <td>179.493253</td>\n",
              "    </tr>\n",
              "  </tbody>\n",
              "</table>\n",
              "</div>"
            ],
            "text/plain": [
              "         LOS          MME         MPD\n",
              "Readmit                              \n",
              "N        5.0   872.286415  174.457283\n",
              "Y        6.5  1166.706144  179.493253"
            ]
          },
          "metadata": {
            "tags": []
          },
          "execution_count": 91
        }
      ]
    },
    {
      "cell_type": "code",
      "metadata": {
        "colab": {
          "base_uri": "https://localhost:8080/",
          "height": 202
        },
        "id": "72Z_7xCEZ_98",
        "outputId": "93472217-baeb-483a-dc1a-f95884f2bb8e"
      },
      "source": [
        "pd.pivot_table(df_yearly, index = ['Leak', 'Tapblock'], values=['MME', 'LOS'],\n",
        "                     aggfunc={'MME' : 'mean', 'LOS' : 'median'})"
      ],
      "execution_count": null,
      "outputs": [
        {
          "output_type": "execute_result",
          "data": {
            "text/html": [
              "<div>\n",
              "<style scoped>\n",
              "    .dataframe tbody tr th:only-of-type {\n",
              "        vertical-align: middle;\n",
              "    }\n",
              "\n",
              "    .dataframe tbody tr th {\n",
              "        vertical-align: top;\n",
              "    }\n",
              "\n",
              "    .dataframe thead th {\n",
              "        text-align: right;\n",
              "    }\n",
              "</style>\n",
              "<table border=\"1\" class=\"dataframe\">\n",
              "  <thead>\n",
              "    <tr style=\"text-align: right;\">\n",
              "      <th></th>\n",
              "      <th></th>\n",
              "      <th>LOS</th>\n",
              "      <th>MME</th>\n",
              "    </tr>\n",
              "    <tr>\n",
              "      <th>Leak</th>\n",
              "      <th>Tapblock</th>\n",
              "      <th></th>\n",
              "      <th></th>\n",
              "    </tr>\n",
              "  </thead>\n",
              "  <tbody>\n",
              "    <tr>\n",
              "      <th rowspan=\"2\" valign=\"top\">N</th>\n",
              "      <th>N</th>\n",
              "      <td>7</td>\n",
              "      <td>1081.500579</td>\n",
              "    </tr>\n",
              "    <tr>\n",
              "      <th>Y</th>\n",
              "      <td>4</td>\n",
              "      <td>670.433912</td>\n",
              "    </tr>\n",
              "    <tr>\n",
              "      <th rowspan=\"2\" valign=\"top\">Y</th>\n",
              "      <th>N</th>\n",
              "      <td>14</td>\n",
              "      <td>1630.814286</td>\n",
              "    </tr>\n",
              "    <tr>\n",
              "      <th>Y</th>\n",
              "      <td>12</td>\n",
              "      <td>1130.548529</td>\n",
              "    </tr>\n",
              "  </tbody>\n",
              "</table>\n",
              "</div>"
            ],
            "text/plain": [
              "               LOS          MME\n",
              "Leak Tapblock                  \n",
              "N    N           7  1081.500579\n",
              "     Y           4   670.433912\n",
              "Y    N          14  1630.814286\n",
              "     Y          12  1130.548529"
            ]
          },
          "metadata": {
            "tags": []
          },
          "execution_count": 28
        }
      ]
    },
    {
      "cell_type": "code",
      "metadata": {
        "colab": {
          "base_uri": "https://localhost:8080/"
        },
        "id": "buvhq127bruP",
        "outputId": "9e11d6bd-2100-4196-e508-078db5217798"
      },
      "source": [
        "mme_per_day = df_yearly.MME.mean()/df_yearly.LOS.mean()\n",
        "\n",
        "print('The overall MME per day: {:.2f}'.format(mme_per_day))"
      ],
      "execution_count": null,
      "outputs": [
        {
          "output_type": "stream",
          "text": [
            "The overall MME per day: 102.91\n"
          ],
          "name": "stdout"
        }
      ]
    },
    {
      "cell_type": "code",
      "metadata": {
        "id": "eZ9ZmZQXcBSd"
      },
      "source": [
        "grouped1 = df_yearly.groupby(['Date', 'Readmit']).mean()"
      ],
      "execution_count": null,
      "outputs": []
    },
    {
      "cell_type": "code",
      "metadata": {
        "colab": {
          "base_uri": "https://localhost:8080/"
        },
        "id": "6K9YY1whlSUQ",
        "outputId": "7fa98351-20a4-4f87-a7a0-2931afb9b178"
      },
      "source": [
        "df_yearly.groupby('Date')['Readmit'].value_counts()"
      ],
      "execution_count": null,
      "outputs": [
        {
          "output_type": "execute_result",
          "data": {
            "text/plain": [
              "Date  Readmit\n",
              "2014  N          117\n",
              "      Y           31\n",
              "2015  N          180\n",
              "      Y           34\n",
              "2016  N          178\n",
              "      Y           40\n",
              "2017  N          200\n",
              "      Y           37\n",
              "2018  N          183\n",
              "      Y           51\n",
              "2019  N          210\n",
              "      Y           42\n",
              "2020  N            3\n",
              "      Y            1\n",
              "Name: Readmit, dtype: int64"
            ]
          },
          "metadata": {
            "tags": []
          },
          "execution_count": 53
        }
      ]
    },
    {
      "cell_type": "code",
      "metadata": {
        "colab": {
          "base_uri": "https://localhost:8080/"
        },
        "id": "yd3dp-EwmfDV",
        "outputId": "666b41c6-be74-43fe-f689-58f363a5febc"
      },
      "source": [
        "df_yearly['Leak'].value_counts()"
      ],
      "execution_count": null,
      "outputs": [
        {
          "output_type": "execute_result",
          "data": {
            "text/plain": [
              "N    1238\n",
              "Y      69\n",
              "Name: Leak, dtype: int64"
            ]
          },
          "metadata": {
            "tags": []
          },
          "execution_count": 43
        }
      ]
    },
    {
      "cell_type": "code",
      "metadata": {
        "id": "O7umVUM9moD1"
      },
      "source": [
        ""
      ],
      "execution_count": null,
      "outputs": []
    }
  ]
}