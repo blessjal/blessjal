{
  "nbformat": 4,
  "nbformat_minor": 0,
  "metadata": {
    "colab": {
      "name": "dnn_uams_brca_min.ipynb",
      "provenance": [],
      "collapsed_sections": [],
      "authorship_tag": "ABX9TyOFJcmJTe9ftS/gIs1+Nzm0",
      "include_colab_link": true
    },
    "kernelspec": {
      "name": "python3",
      "display_name": "Python 3"
    },
    "language_info": {
      "name": "python"
    }
  },
  "cells": [
    {
      "cell_type": "markdown",
      "metadata": {
        "id": "view-in-github",
        "colab_type": "text"
      },
      "source": [
        "<a href=\"https://colab.research.google.com/github/blessjal/blessjal/blob/main/dnn_uams_brca_min.ipynb\" target=\"_parent\"><img src=\"https://colab.research.google.com/assets/colab-badge.svg\" alt=\"Open In Colab\"/></a>"
      ]
    },
    {
      "cell_type": "code",
      "execution_count": 1,
      "metadata": {
        "id": "MrITYrIfgjoN"
      },
      "outputs": [],
      "source": [
        "import pandas as pd\n",
        "import numpy as np\n",
        "\n",
        "from sklearn.preprocessing import OneHotEncoder, LabelEncoder, label_binarize, MinMaxScaler\n",
        "from sklearn.compose import ColumnTransformer\n",
        "from sklearn.pipeline import Pipeline\n",
        "from sklearn.model_selection import train_test_split, GridSearchCV\n",
        "from sklearn.metrics import accuracy_score, classification_report, mean_squared_error\n",
        "\n",
        "\n",
        "from sklearn.linear_model import LogisticRegression\n",
        "from sklearn.ensemble import RandomForestClassifier, RandomForestRegressor\n",
        "from sklearn.tree import DecisionTreeClassifier\n",
        "from sklearn.ensemble import RandomForestClassifier\n",
        "from xgboost.sklearn import XGBClassifier\n",
        "import matplotlib.pyplot as plt\n",
        "\n"
      ]
    },
    {
      "cell_type": "code",
      "source": [
        "df = pd.read_excel('/content/uams_brca_min.xlsx')\n",
        "\n",
        "df.head()"
      ],
      "metadata": {
        "colab": {
          "base_uri": "https://localhost:8080/",
          "height": 302
        },
        "id": "9HyAplXkgqZh",
        "outputId": "f2713b8d-ffbb-44b0-d66e-bd1cfe9a88ce"
      },
      "execution_count": 2,
      "outputs": [
        {
          "output_type": "execute_result",
          "data": {
            "text/plain": [
              "   Age at Diagnosis Race 1   er   pr her2  Path Ajcc Stage Group  \\\n",
              "0                74  White  NaN  NaN  NaN                    3.0   \n",
              "1                74  White  NaN  NaN  NaN                    3.0   \n",
              "2                80  White  NaN  NaN  NaN                   99.0   \n",
              "3                80  White  NaN  NaN  NaN                   99.0   \n",
              "4                61  White  NaN  NaN  NaN                   99.0   \n",
              "\n",
              "   Clinical Ajcc Stage Group  Combined Last Status  Combined Cancer Status  \\\n",
              "0                        2.0                     0                       0   \n",
              "1                        2.0                     0                       0   \n",
              "2                        1.0                     0                       0   \n",
              "3                        1.0                     0                       0   \n",
              "4                        1.0                     0                       0   \n",
              "\n",
              "   Surgery  Chemotherapy  Hormone/steroid Therapy  Immunotherapy  \\\n",
              "0      9.0           3.0                      1.0           99.0   \n",
              "1     54.0           3.0                      1.0           99.0   \n",
              "2      9.0          99.0                     99.0           99.0   \n",
              "3     22.0          99.0                     99.0           99.0   \n",
              "4      2.0          99.0                      1.0           99.0   \n",
              "\n",
              "   Phase I Radiation Treatment Modality  \n",
              "0                                   1.0  \n",
              "1                                   1.0  \n",
              "2                                  99.0  \n",
              "3                                  99.0  \n",
              "4                                  99.0  "
            ],
            "text/html": [
              "\n",
              "  <div id=\"df-f4860dd5-28c7-4d9c-9679-dabcaed7b6f6\">\n",
              "    <div class=\"colab-df-container\">\n",
              "      <div>\n",
              "<style scoped>\n",
              "    .dataframe tbody tr th:only-of-type {\n",
              "        vertical-align: middle;\n",
              "    }\n",
              "\n",
              "    .dataframe tbody tr th {\n",
              "        vertical-align: top;\n",
              "    }\n",
              "\n",
              "    .dataframe thead th {\n",
              "        text-align: right;\n",
              "    }\n",
              "</style>\n",
              "<table border=\"1\" class=\"dataframe\">\n",
              "  <thead>\n",
              "    <tr style=\"text-align: right;\">\n",
              "      <th></th>\n",
              "      <th>Age at Diagnosis</th>\n",
              "      <th>Race 1</th>\n",
              "      <th>er</th>\n",
              "      <th>pr</th>\n",
              "      <th>her2</th>\n",
              "      <th>Path Ajcc Stage Group</th>\n",
              "      <th>Clinical Ajcc Stage Group</th>\n",
              "      <th>Combined Last Status</th>\n",
              "      <th>Combined Cancer Status</th>\n",
              "      <th>Surgery</th>\n",
              "      <th>Chemotherapy</th>\n",
              "      <th>Hormone/steroid Therapy</th>\n",
              "      <th>Immunotherapy</th>\n",
              "      <th>Phase I Radiation Treatment Modality</th>\n",
              "    </tr>\n",
              "  </thead>\n",
              "  <tbody>\n",
              "    <tr>\n",
              "      <th>0</th>\n",
              "      <td>74</td>\n",
              "      <td>White</td>\n",
              "      <td>NaN</td>\n",
              "      <td>NaN</td>\n",
              "      <td>NaN</td>\n",
              "      <td>3.0</td>\n",
              "      <td>2.0</td>\n",
              "      <td>0</td>\n",
              "      <td>0</td>\n",
              "      <td>9.0</td>\n",
              "      <td>3.0</td>\n",
              "      <td>1.0</td>\n",
              "      <td>99.0</td>\n",
              "      <td>1.0</td>\n",
              "    </tr>\n",
              "    <tr>\n",
              "      <th>1</th>\n",
              "      <td>74</td>\n",
              "      <td>White</td>\n",
              "      <td>NaN</td>\n",
              "      <td>NaN</td>\n",
              "      <td>NaN</td>\n",
              "      <td>3.0</td>\n",
              "      <td>2.0</td>\n",
              "      <td>0</td>\n",
              "      <td>0</td>\n",
              "      <td>54.0</td>\n",
              "      <td>3.0</td>\n",
              "      <td>1.0</td>\n",
              "      <td>99.0</td>\n",
              "      <td>1.0</td>\n",
              "    </tr>\n",
              "    <tr>\n",
              "      <th>2</th>\n",
              "      <td>80</td>\n",
              "      <td>White</td>\n",
              "      <td>NaN</td>\n",
              "      <td>NaN</td>\n",
              "      <td>NaN</td>\n",
              "      <td>99.0</td>\n",
              "      <td>1.0</td>\n",
              "      <td>0</td>\n",
              "      <td>0</td>\n",
              "      <td>9.0</td>\n",
              "      <td>99.0</td>\n",
              "      <td>99.0</td>\n",
              "      <td>99.0</td>\n",
              "      <td>99.0</td>\n",
              "    </tr>\n",
              "    <tr>\n",
              "      <th>3</th>\n",
              "      <td>80</td>\n",
              "      <td>White</td>\n",
              "      <td>NaN</td>\n",
              "      <td>NaN</td>\n",
              "      <td>NaN</td>\n",
              "      <td>99.0</td>\n",
              "      <td>1.0</td>\n",
              "      <td>0</td>\n",
              "      <td>0</td>\n",
              "      <td>22.0</td>\n",
              "      <td>99.0</td>\n",
              "      <td>99.0</td>\n",
              "      <td>99.0</td>\n",
              "      <td>99.0</td>\n",
              "    </tr>\n",
              "    <tr>\n",
              "      <th>4</th>\n",
              "      <td>61</td>\n",
              "      <td>White</td>\n",
              "      <td>NaN</td>\n",
              "      <td>NaN</td>\n",
              "      <td>NaN</td>\n",
              "      <td>99.0</td>\n",
              "      <td>1.0</td>\n",
              "      <td>0</td>\n",
              "      <td>0</td>\n",
              "      <td>2.0</td>\n",
              "      <td>99.0</td>\n",
              "      <td>1.0</td>\n",
              "      <td>99.0</td>\n",
              "      <td>99.0</td>\n",
              "    </tr>\n",
              "  </tbody>\n",
              "</table>\n",
              "</div>\n",
              "      <button class=\"colab-df-convert\" onclick=\"convertToInteractive('df-f4860dd5-28c7-4d9c-9679-dabcaed7b6f6')\"\n",
              "              title=\"Convert this dataframe to an interactive table.\"\n",
              "              style=\"display:none;\">\n",
              "        \n",
              "  <svg xmlns=\"http://www.w3.org/2000/svg\" height=\"24px\"viewBox=\"0 0 24 24\"\n",
              "       width=\"24px\">\n",
              "    <path d=\"M0 0h24v24H0V0z\" fill=\"none\"/>\n",
              "    <path d=\"M18.56 5.44l.94 2.06.94-2.06 2.06-.94-2.06-.94-.94-2.06-.94 2.06-2.06.94zm-11 1L8.5 8.5l.94-2.06 2.06-.94-2.06-.94L8.5 2.5l-.94 2.06-2.06.94zm10 10l.94 2.06.94-2.06 2.06-.94-2.06-.94-.94-2.06-.94 2.06-2.06.94z\"/><path d=\"M17.41 7.96l-1.37-1.37c-.4-.4-.92-.59-1.43-.59-.52 0-1.04.2-1.43.59L10.3 9.45l-7.72 7.72c-.78.78-.78 2.05 0 2.83L4 21.41c.39.39.9.59 1.41.59.51 0 1.02-.2 1.41-.59l7.78-7.78 2.81-2.81c.8-.78.8-2.07 0-2.86zM5.41 20L4 18.59l7.72-7.72 1.47 1.35L5.41 20z\"/>\n",
              "  </svg>\n",
              "      </button>\n",
              "      \n",
              "  <style>\n",
              "    .colab-df-container {\n",
              "      display:flex;\n",
              "      flex-wrap:wrap;\n",
              "      gap: 12px;\n",
              "    }\n",
              "\n",
              "    .colab-df-convert {\n",
              "      background-color: #E8F0FE;\n",
              "      border: none;\n",
              "      border-radius: 50%;\n",
              "      cursor: pointer;\n",
              "      display: none;\n",
              "      fill: #1967D2;\n",
              "      height: 32px;\n",
              "      padding: 0 0 0 0;\n",
              "      width: 32px;\n",
              "    }\n",
              "\n",
              "    .colab-df-convert:hover {\n",
              "      background-color: #E2EBFA;\n",
              "      box-shadow: 0px 1px 2px rgba(60, 64, 67, 0.3), 0px 1px 3px 1px rgba(60, 64, 67, 0.15);\n",
              "      fill: #174EA6;\n",
              "    }\n",
              "\n",
              "    [theme=dark] .colab-df-convert {\n",
              "      background-color: #3B4455;\n",
              "      fill: #D2E3FC;\n",
              "    }\n",
              "\n",
              "    [theme=dark] .colab-df-convert:hover {\n",
              "      background-color: #434B5C;\n",
              "      box-shadow: 0px 1px 3px 1px rgba(0, 0, 0, 0.15);\n",
              "      filter: drop-shadow(0px 1px 2px rgba(0, 0, 0, 0.3));\n",
              "      fill: #FFFFFF;\n",
              "    }\n",
              "  </style>\n",
              "\n",
              "      <script>\n",
              "        const buttonEl =\n",
              "          document.querySelector('#df-f4860dd5-28c7-4d9c-9679-dabcaed7b6f6 button.colab-df-convert');\n",
              "        buttonEl.style.display =\n",
              "          google.colab.kernel.accessAllowed ? 'block' : 'none';\n",
              "\n",
              "        async function convertToInteractive(key) {\n",
              "          const element = document.querySelector('#df-f4860dd5-28c7-4d9c-9679-dabcaed7b6f6');\n",
              "          const dataTable =\n",
              "            await google.colab.kernel.invokeFunction('convertToInteractive',\n",
              "                                                     [key], {});\n",
              "          if (!dataTable) return;\n",
              "\n",
              "          const docLinkHtml = 'Like what you see? Visit the ' +\n",
              "            '<a target=\"_blank\" href=https://colab.research.google.com/notebooks/data_table.ipynb>data table notebook</a>'\n",
              "            + ' to learn more about interactive tables.';\n",
              "          element.innerHTML = '';\n",
              "          dataTable['output_type'] = 'display_data';\n",
              "          await google.colab.output.renderOutput(dataTable, element);\n",
              "          const docLink = document.createElement('div');\n",
              "          docLink.innerHTML = docLinkHtml;\n",
              "          element.appendChild(docLink);\n",
              "        }\n",
              "      </script>\n",
              "    </div>\n",
              "  </div>\n",
              "  "
            ]
          },
          "metadata": {},
          "execution_count": 2
        }
      ]
    },
    {
      "cell_type": "code",
      "source": [
        "df.info()"
      ],
      "metadata": {
        "colab": {
          "base_uri": "https://localhost:8080/"
        },
        "id": "4mmdwZmAgqfp",
        "outputId": "d8bf5c0e-1858-4243-dde6-a6c9895caa01"
      },
      "execution_count": 3,
      "outputs": [
        {
          "output_type": "stream",
          "name": "stdout",
          "text": [
            "<class 'pandas.core.frame.DataFrame'>\n",
            "RangeIndex: 27684 entries, 0 to 27683\n",
            "Data columns (total 14 columns):\n",
            " #   Column                                Non-Null Count  Dtype  \n",
            "---  ------                                --------------  -----  \n",
            " 0   Age at Diagnosis                      27684 non-null  int64  \n",
            " 1   Race 1                                27684 non-null  object \n",
            " 2   er                                    25571 non-null  object \n",
            " 3   pr                                    25571 non-null  object \n",
            " 4   her2                                  25571 non-null  object \n",
            " 5   Path Ajcc Stage Group                 21426 non-null  float64\n",
            " 6   Clinical Ajcc Stage Group             21655 non-null  float64\n",
            " 7   Combined Last Status                  27684 non-null  int64  \n",
            " 8   Combined Cancer Status                27684 non-null  int64  \n",
            " 9   Surgery                               27467 non-null  float64\n",
            " 10  Chemotherapy                          14716 non-null  float64\n",
            " 11  Hormone/steroid Therapy               15800 non-null  float64\n",
            " 12  Immunotherapy                         2551 non-null   float64\n",
            " 13  Phase I Radiation Treatment Modality  6503 non-null   float64\n",
            "dtypes: float64(7), int64(3), object(4)\n",
            "memory usage: 3.0+ MB\n"
          ]
        }
      ]
    },
    {
      "cell_type": "code",
      "source": [
        "le = LabelEncoder()\n",
        "df['Race 1'] = le.fit_transform(df['Race 1'])\n",
        "df['er'] = le.fit_transform(df['er'])\n",
        "df['pr'] = le.fit_transform(df['pr'])\n",
        "df['her2'] = le.fit_transform(df['her2'])"
      ],
      "metadata": {
        "id": "mjFw3cYNioVi"
      },
      "execution_count": 4,
      "outputs": []
    },
    {
      "cell_type": "code",
      "source": [
        "X = df.drop('Combined Cancer Status', axis=1)\n",
        "y = df['Combined Cancer Status']\n",
        "\n",
        "X.shape, y.shape"
      ],
      "metadata": {
        "colab": {
          "base_uri": "https://localhost:8080/"
        },
        "id": "lW2RbtdVgqi9",
        "outputId": "5dfcd955-2f4b-479a-d2c0-0ddd7bfeaee5"
      },
      "execution_count": 5,
      "outputs": [
        {
          "output_type": "execute_result",
          "data": {
            "text/plain": [
              "((27684, 13), (27684,))"
            ]
          },
          "metadata": {},
          "execution_count": 5
        }
      ]
    },
    {
      "cell_type": "code",
      "source": [
        "label_encoder=LabelEncoder()\n",
        "label_encoder.fit(y)\n",
        "y=label_encoder.transform(y)\n",
        "labels=label_encoder.classes_\n",
        "classes=np.unique(y)\n",
        "y=label_binarize(y,classes=np.unique(y))\n",
        "nclasses=y.shape[1]"
      ],
      "metadata": {
        "id": "ijH2kVxDRfQB"
      },
      "execution_count": 6,
      "outputs": []
    },
    {
      "cell_type": "code",
      "source": [
        "labels"
      ],
      "metadata": {
        "colab": {
          "base_uri": "https://localhost:8080/"
        },
        "id": "1ri7T2BET312",
        "outputId": "f9433f79-89ad-4e24-bfb1-6f71802e7106"
      },
      "execution_count": 7,
      "outputs": [
        {
          "output_type": "execute_result",
          "data": {
            "text/plain": [
              "array([0, 1, 3])"
            ]
          },
          "metadata": {},
          "execution_count": 7
        }
      ]
    },
    {
      "cell_type": "code",
      "source": [
        "X.isna().sum()"
      ],
      "metadata": {
        "colab": {
          "base_uri": "https://localhost:8080/"
        },
        "id": "AdH9PkwKgql8",
        "outputId": "7822b6c1-9808-4f81-ad5e-52083c72ef2b"
      },
      "execution_count": 8,
      "outputs": [
        {
          "output_type": "execute_result",
          "data": {
            "text/plain": [
              "Age at Diagnosis                            0\n",
              "Race 1                                      0\n",
              "er                                          0\n",
              "pr                                          0\n",
              "her2                                        0\n",
              "Path Ajcc Stage Group                    6258\n",
              "Clinical Ajcc Stage Group                6029\n",
              "Combined Last Status                        0\n",
              "Surgery                                   217\n",
              "Chemotherapy                            12968\n",
              "Hormone/steroid Therapy                 11884\n",
              "Immunotherapy                           25133\n",
              "Phase I Radiation Treatment Modality    21181\n",
              "dtype: int64"
            ]
          },
          "metadata": {},
          "execution_count": 8
        }
      ]
    },
    {
      "cell_type": "code",
      "source": [
        "X.fillna(0, inplace=True)"
      ],
      "metadata": {
        "id": "DpnyNzkygqpT"
      },
      "execution_count": 9,
      "outputs": []
    },
    {
      "cell_type": "code",
      "source": [
        "X.isna().sum()"
      ],
      "metadata": {
        "colab": {
          "base_uri": "https://localhost:8080/"
        },
        "id": "PF0YpUWEgqsT",
        "outputId": "98a5186b-e6ae-44c7-9ed1-4e0a1172887d"
      },
      "execution_count": 10,
      "outputs": [
        {
          "output_type": "execute_result",
          "data": {
            "text/plain": [
              "Age at Diagnosis                        0\n",
              "Race 1                                  0\n",
              "er                                      0\n",
              "pr                                      0\n",
              "her2                                    0\n",
              "Path Ajcc Stage Group                   0\n",
              "Clinical Ajcc Stage Group               0\n",
              "Combined Last Status                    0\n",
              "Surgery                                 0\n",
              "Chemotherapy                            0\n",
              "Hormone/steroid Therapy                 0\n",
              "Immunotherapy                           0\n",
              "Phase I Radiation Treatment Modality    0\n",
              "dtype: int64"
            ]
          },
          "metadata": {},
          "execution_count": 10
        }
      ]
    },
    {
      "cell_type": "code",
      "source": [
        "X_train, X_test, y_train, y_test = train_test_split(X, y, test_size=0.25, random_state=42)\n",
        "X_train, X_val, y_train, y_val = train_test_split(X_train, y_train, test_size=0.25)"
      ],
      "metadata": {
        "id": "zr_C0uRVgqvI"
      },
      "execution_count": 14,
      "outputs": []
    },
    {
      "cell_type": "code",
      "source": [
        "min_max_scaler=MinMaxScaler()\n",
        "X_train=min_max_scaler.fit_transform(X_train)\n",
        "X_val=min_max_scaler.fit_transform(X_val)\n",
        "X_test=min_max_scaler.fit_transform(X_test)"
      ],
      "metadata": {
        "id": "boeHPWxyMYGb"
      },
      "execution_count": 12,
      "outputs": []
    },
    {
      "cell_type": "code",
      "source": [
        "dt = DecisionTreeClassifier()\n",
        "dt.fit(X_train, y_train)\n",
        "\n",
        "dt_pred = dt.predict(X_test)\n",
        "\n",
        "dt_accuracy = accuracy_score(dt_pred, y_test)\n",
        "dt_accuracy"
      ],
      "metadata": {
        "colab": {
          "base_uri": "https://localhost:8080/"
        },
        "id": "U0oq5BpSWn2M",
        "outputId": "efcb3224-eb8c-4fb7-a822-d8483df65e95"
      },
      "execution_count": 16,
      "outputs": [
        {
          "output_type": "execute_result",
          "data": {
            "text/plain": [
              "0.9413379569426383"
            ]
          },
          "metadata": {},
          "execution_count": 16
        }
      ]
    },
    {
      "cell_type": "code",
      "source": [
        "from sklearn.neighbors import KNeighborsClassifier\n",
        "knn = KNeighborsClassifier()\n",
        "knn.fit(X_train, y_train)\n",
        "knn_pred = knn.predict(X_test)\n",
        "knn_accuracy = accuracy_score(knn_pred, y_test)\n",
        "knn_accuracy"
      ],
      "metadata": {
        "colab": {
          "base_uri": "https://localhost:8080/"
        },
        "id": "uayy2nQD_DHd",
        "outputId": "1d7e6785-0cee-4089-fd7d-49ce48e5e24c"
      },
      "execution_count": 21,
      "outputs": [
        {
          "output_type": "execute_result",
          "data": {
            "text/plain": [
              "0.8786302557433897"
            ]
          },
          "metadata": {},
          "execution_count": 21
        }
      ]
    },
    {
      "cell_type": "code",
      "source": [
        "rf = RandomForestClassifier()\n",
        "\n",
        "rf.fit(X_train, y_train)\n",
        "\n",
        "rf_pred = rf.predict(X_test)\n",
        "\n",
        "rf_accuracy = accuracy_score(rf_pred, y_test)"
      ],
      "metadata": {
        "id": "AwpddPrsgq1S"
      },
      "execution_count": 17,
      "outputs": []
    },
    {
      "cell_type": "code",
      "source": [
        "rf_accuracy"
      ],
      "metadata": {
        "colab": {
          "base_uri": "https://localhost:8080/"
        },
        "id": "ZvzxzxnlIJMr",
        "outputId": "059185cd-be8a-487d-a2f5-670c37ddee02"
      },
      "execution_count": 18,
      "outputs": [
        {
          "output_type": "execute_result",
          "data": {
            "text/plain": [
              "0.949573761017194"
            ]
          },
          "metadata": {},
          "execution_count": 18
        }
      ]
    },
    {
      "cell_type": "code",
      "source": [
        "feature_importances = pd.DataFrame(rf.feature_importances_, index =X.columns,  columns=['importance']).sort_values('importance', ascending=False)\n",
        "feature_importances"
      ],
      "metadata": {
        "colab": {
          "base_uri": "https://localhost:8080/",
          "height": 444
        },
        "id": "6eg7Jg1ngq4O",
        "outputId": "09e7886d-5b91-4bb5-8e61-c40e772112b4"
      },
      "execution_count": null,
      "outputs": [
        {
          "output_type": "execute_result",
          "data": {
            "text/plain": [
              "                                      importance\n",
              "Age at Diagnosis                        0.279456\n",
              "Path Ajcc Stage Group                   0.102398\n",
              "Surgery                                 0.101414\n",
              "Clinical Ajcc Stage Group               0.083678\n",
              "Combined Last Status                    0.073049\n",
              "Chemotherapy                            0.066877\n",
              "her2                                    0.056723\n",
              "Hormone/steroid Therapy                 0.046332\n",
              "Phase I Radiation Treatment Modality    0.045372\n",
              "pr                                      0.043228\n",
              "Race 1                                  0.041025\n",
              "er                                      0.033121\n",
              "Immunotherapy                           0.027328"
            ],
            "text/html": [
              "\n",
              "  <div id=\"df-845857c5-0eed-415e-aa85-f073711e2b6e\">\n",
              "    <div class=\"colab-df-container\">\n",
              "      <div>\n",
              "<style scoped>\n",
              "    .dataframe tbody tr th:only-of-type {\n",
              "        vertical-align: middle;\n",
              "    }\n",
              "\n",
              "    .dataframe tbody tr th {\n",
              "        vertical-align: top;\n",
              "    }\n",
              "\n",
              "    .dataframe thead th {\n",
              "        text-align: right;\n",
              "    }\n",
              "</style>\n",
              "<table border=\"1\" class=\"dataframe\">\n",
              "  <thead>\n",
              "    <tr style=\"text-align: right;\">\n",
              "      <th></th>\n",
              "      <th>importance</th>\n",
              "    </tr>\n",
              "  </thead>\n",
              "  <tbody>\n",
              "    <tr>\n",
              "      <th>Age at Diagnosis</th>\n",
              "      <td>0.279456</td>\n",
              "    </tr>\n",
              "    <tr>\n",
              "      <th>Path Ajcc Stage Group</th>\n",
              "      <td>0.102398</td>\n",
              "    </tr>\n",
              "    <tr>\n",
              "      <th>Surgery</th>\n",
              "      <td>0.101414</td>\n",
              "    </tr>\n",
              "    <tr>\n",
              "      <th>Clinical Ajcc Stage Group</th>\n",
              "      <td>0.083678</td>\n",
              "    </tr>\n",
              "    <tr>\n",
              "      <th>Combined Last Status</th>\n",
              "      <td>0.073049</td>\n",
              "    </tr>\n",
              "    <tr>\n",
              "      <th>Chemotherapy</th>\n",
              "      <td>0.066877</td>\n",
              "    </tr>\n",
              "    <tr>\n",
              "      <th>her2</th>\n",
              "      <td>0.056723</td>\n",
              "    </tr>\n",
              "    <tr>\n",
              "      <th>Hormone/steroid Therapy</th>\n",
              "      <td>0.046332</td>\n",
              "    </tr>\n",
              "    <tr>\n",
              "      <th>Phase I Radiation Treatment Modality</th>\n",
              "      <td>0.045372</td>\n",
              "    </tr>\n",
              "    <tr>\n",
              "      <th>pr</th>\n",
              "      <td>0.043228</td>\n",
              "    </tr>\n",
              "    <tr>\n",
              "      <th>Race 1</th>\n",
              "      <td>0.041025</td>\n",
              "    </tr>\n",
              "    <tr>\n",
              "      <th>er</th>\n",
              "      <td>0.033121</td>\n",
              "    </tr>\n",
              "    <tr>\n",
              "      <th>Immunotherapy</th>\n",
              "      <td>0.027328</td>\n",
              "    </tr>\n",
              "  </tbody>\n",
              "</table>\n",
              "</div>\n",
              "      <button class=\"colab-df-convert\" onclick=\"convertToInteractive('df-845857c5-0eed-415e-aa85-f073711e2b6e')\"\n",
              "              title=\"Convert this dataframe to an interactive table.\"\n",
              "              style=\"display:none;\">\n",
              "        \n",
              "  <svg xmlns=\"http://www.w3.org/2000/svg\" height=\"24px\"viewBox=\"0 0 24 24\"\n",
              "       width=\"24px\">\n",
              "    <path d=\"M0 0h24v24H0V0z\" fill=\"none\"/>\n",
              "    <path d=\"M18.56 5.44l.94 2.06.94-2.06 2.06-.94-2.06-.94-.94-2.06-.94 2.06-2.06.94zm-11 1L8.5 8.5l.94-2.06 2.06-.94-2.06-.94L8.5 2.5l-.94 2.06-2.06.94zm10 10l.94 2.06.94-2.06 2.06-.94-2.06-.94-.94-2.06-.94 2.06-2.06.94z\"/><path d=\"M17.41 7.96l-1.37-1.37c-.4-.4-.92-.59-1.43-.59-.52 0-1.04.2-1.43.59L10.3 9.45l-7.72 7.72c-.78.78-.78 2.05 0 2.83L4 21.41c.39.39.9.59 1.41.59.51 0 1.02-.2 1.41-.59l7.78-7.78 2.81-2.81c.8-.78.8-2.07 0-2.86zM5.41 20L4 18.59l7.72-7.72 1.47 1.35L5.41 20z\"/>\n",
              "  </svg>\n",
              "      </button>\n",
              "      \n",
              "  <style>\n",
              "    .colab-df-container {\n",
              "      display:flex;\n",
              "      flex-wrap:wrap;\n",
              "      gap: 12px;\n",
              "    }\n",
              "\n",
              "    .colab-df-convert {\n",
              "      background-color: #E8F0FE;\n",
              "      border: none;\n",
              "      border-radius: 50%;\n",
              "      cursor: pointer;\n",
              "      display: none;\n",
              "      fill: #1967D2;\n",
              "      height: 32px;\n",
              "      padding: 0 0 0 0;\n",
              "      width: 32px;\n",
              "    }\n",
              "\n",
              "    .colab-df-convert:hover {\n",
              "      background-color: #E2EBFA;\n",
              "      box-shadow: 0px 1px 2px rgba(60, 64, 67, 0.3), 0px 1px 3px 1px rgba(60, 64, 67, 0.15);\n",
              "      fill: #174EA6;\n",
              "    }\n",
              "\n",
              "    [theme=dark] .colab-df-convert {\n",
              "      background-color: #3B4455;\n",
              "      fill: #D2E3FC;\n",
              "    }\n",
              "\n",
              "    [theme=dark] .colab-df-convert:hover {\n",
              "      background-color: #434B5C;\n",
              "      box-shadow: 0px 1px 3px 1px rgba(0, 0, 0, 0.15);\n",
              "      filter: drop-shadow(0px 1px 2px rgba(0, 0, 0, 0.3));\n",
              "      fill: #FFFFFF;\n",
              "    }\n",
              "  </style>\n",
              "\n",
              "      <script>\n",
              "        const buttonEl =\n",
              "          document.querySelector('#df-845857c5-0eed-415e-aa85-f073711e2b6e button.colab-df-convert');\n",
              "        buttonEl.style.display =\n",
              "          google.colab.kernel.accessAllowed ? 'block' : 'none';\n",
              "\n",
              "        async function convertToInteractive(key) {\n",
              "          const element = document.querySelector('#df-845857c5-0eed-415e-aa85-f073711e2b6e');\n",
              "          const dataTable =\n",
              "            await google.colab.kernel.invokeFunction('convertToInteractive',\n",
              "                                                     [key], {});\n",
              "          if (!dataTable) return;\n",
              "\n",
              "          const docLinkHtml = 'Like what you see? Visit the ' +\n",
              "            '<a target=\"_blank\" href=https://colab.research.google.com/notebooks/data_table.ipynb>data table notebook</a>'\n",
              "            + ' to learn more about interactive tables.';\n",
              "          element.innerHTML = '';\n",
              "          dataTable['output_type'] = 'display_data';\n",
              "          await google.colab.output.renderOutput(dataTable, element);\n",
              "          const docLink = document.createElement('div');\n",
              "          docLink.innerHTML = docLinkHtml;\n",
              "          element.appendChild(docLink);\n",
              "        }\n",
              "      </script>\n",
              "    </div>\n",
              "  </div>\n",
              "  "
            ]
          },
          "metadata": {},
          "execution_count": 16
        }
      ]
    },
    {
      "cell_type": "code",
      "source": [
        "import tensorflow as tf\n",
        "from tensorflow import keras\n",
        "from keras.models import Sequential\n",
        "from keras.layers import Dense\n",
        "\n",
        "from sklearn.preprocessing import MinMaxScaler"
      ],
      "metadata": {
        "id": "5dOiKuRNgq94"
      },
      "execution_count": null,
      "outputs": []
    },
    {
      "cell_type": "code",
      "source": [
        "#define model\n",
        "model = Sequential()\n",
        "\n",
        "#hidden layer 1\n",
        "model.add(Dense(40, input_dim=X_train.shape[1], activation='relu'))\n",
        "\n",
        "#hidden layer 2\n",
        "model.add(Dense(20, activation='relu'))\n",
        "\n",
        "#output layer\n",
        "model.add(Dense(nclasses, activation='softmax'))\n",
        "\n",
        "#define optimizer and learning rate. We will use Adam optimizer\n",
        "opt_adam = keras.optimizers.Adam(learning_rate=0.001)\n",
        "\n",
        "model.compile(loss=tf.keras.losses.CategoricalCrossentropy(), optimizer=opt_adam, metrics=[keras.metrics.CategoricalAccuracy()])\n",
        "# model.compile(optimizer='adam',loss = tf.keras.losses.SparseCategoricalCrossentropy(from_logits=True), metrics=['accuracy'])\n",
        "\n"
      ],
      "metadata": {
        "id": "R7VnV2m3grA3"
      },
      "execution_count": null,
      "outputs": []
    },
    {
      "cell_type": "code",
      "source": [
        "history = model.fit(X_train, y_train, validation_data=(X_val, y_val),  batch_size=32, epochs=10, verbose=1)"
      ],
      "metadata": {
        "id": "R_DBgBq1grDq",
        "colab": {
          "base_uri": "https://localhost:8080/"
        },
        "outputId": "b6ae0ea2-f5eb-4eec-80a7-e6efa5b28928"
      },
      "execution_count": null,
      "outputs": [
        {
          "output_type": "stream",
          "name": "stdout",
          "text": [
            "Epoch 1/10\n",
            "487/487 [==============================] - 2s 3ms/step - loss: 0.5186 - categorical_accuracy: 0.7891 - val_loss: 0.4667 - val_categorical_accuracy: 0.7921\n",
            "Epoch 2/10\n",
            "487/487 [==============================] - 1s 2ms/step - loss: 0.4698 - categorical_accuracy: 0.8009 - val_loss: 0.4561 - val_categorical_accuracy: 0.8049\n",
            "Epoch 3/10\n",
            "487/487 [==============================] - 1s 3ms/step - loss: 0.4605 - categorical_accuracy: 0.8071 - val_loss: 0.4495 - val_categorical_accuracy: 0.8079\n",
            "Epoch 4/10\n",
            "487/487 [==============================] - 1s 3ms/step - loss: 0.4528 - categorical_accuracy: 0.8110 - val_loss: 0.4408 - val_categorical_accuracy: 0.8149\n",
            "Epoch 5/10\n",
            "487/487 [==============================] - 1s 3ms/step - loss: 0.4472 - categorical_accuracy: 0.8131 - val_loss: 0.4444 - val_categorical_accuracy: 0.8114\n",
            "Epoch 6/10\n",
            "487/487 [==============================] - 1s 2ms/step - loss: 0.4451 - categorical_accuracy: 0.8157 - val_loss: 0.4413 - val_categorical_accuracy: 0.8128\n",
            "Epoch 7/10\n",
            "487/487 [==============================] - 1s 3ms/step - loss: 0.4414 - categorical_accuracy: 0.8161 - val_loss: 0.4335 - val_categorical_accuracy: 0.8207\n",
            "Epoch 8/10\n",
            "487/487 [==============================] - 1s 2ms/step - loss: 0.4387 - categorical_accuracy: 0.8176 - val_loss: 0.4410 - val_categorical_accuracy: 0.8133\n",
            "Epoch 9/10\n",
            "487/487 [==============================] - 1s 2ms/step - loss: 0.4346 - categorical_accuracy: 0.8210 - val_loss: 0.4473 - val_categorical_accuracy: 0.8205\n",
            "Epoch 10/10\n",
            "487/487 [==============================] - 1s 2ms/step - loss: 0.4322 - categorical_accuracy: 0.8219 - val_loss: 0.4304 - val_categorical_accuracy: 0.8176\n"
          ]
        }
      ]
    },
    {
      "cell_type": "code",
      "source": [
        "plt.plot(history.history['categorical_accuracy'])\n",
        "plt.plot(history.history['val_categorical_accuracy'])\n",
        "plt.title('Model Performance')\n",
        "plt.ylabel('accuracy')\n",
        "plt.xlabel('epoch')\n",
        "plt.legend(['train', 'val'], loc='lower right')\n",
        "plt.show()"
      ],
      "metadata": {
        "id": "EiVOnr-_grGA",
        "colab": {
          "base_uri": "https://localhost:8080/",
          "height": 294
        },
        "outputId": "513cf700-2deb-4aa0-f460-2a8bfc292d2e"
      },
      "execution_count": null,
      "outputs": [
        {
          "output_type": "display_data",
          "data": {
            "text/plain": [
              "<Figure size 432x288 with 1 Axes>"
            ],
            "image/png": "[encoded data removed]"
          },
          "metadata": {
            "needs_background": "light"
          }
        }
      ]
    },
    {
      "cell_type": "code",
      "source": [
        "plt.plot(history.history['loss'])\n",
        "plt.plot(history.history['val_loss'])\n",
        "plt.title('Model Performance')\n",
        "plt.ylabel('accuracy')\n",
        "plt.xlabel('epoch')\n",
        "plt.legend(['train', 'val'], loc='lower right')\n",
        "plt.show()"
      ],
      "metadata": {
        "colab": {
          "base_uri": "https://localhost:8080/",
          "height": 294
        },
        "id": "88ualY-dMIV3",
        "outputId": "172ad1f0-adfe-4f32-c1b6-e7e821f73112"
      },
      "execution_count": null,
      "outputs": [
        {
          "output_type": "display_data",
          "data": {
            "text/plain": [
              "<Figure size 432x288 with 1 Axes>"
            ],
            "image/png": "[encoded data removed]"
          },
          "metadata": {
            "needs_background": "light"
          }
        }
      ]
    },
    {
      "cell_type": "code",
      "source": [
        ""
      ],
      "metadata": {
        "id": "tItUeK8tMHtp"
      },
      "execution_count": null,
      "outputs": []
    },
    {
      "cell_type": "code",
      "source": [
        ""
      ],
      "metadata": {
        "id": "r1hHwbF6MHOs"
      },
      "execution_count": null,
      "outputs": []
    },
    {
      "cell_type": "code",
      "source": [
        "predictions = model.predict(X_test)"
      ],
      "metadata": {
        "id": "SM--bogugrVd"
      },
      "execution_count": null,
      "outputs": []
    },
    {
      "cell_type": "code",
      "source": [
        "np.argmax(predictions[0])"
      ],
      "metadata": {
        "id": "AIj_33MMgrcE",
        "colab": {
          "base_uri": "https://localhost:8080/"
        },
        "outputId": "d3f48120-b215-4e8d-e93f-825ae3d89d62"
      },
      "execution_count": null,
      "outputs": [
        {
          "output_type": "execute_result",
          "data": {
            "text/plain": [
              "0"
            ]
          },
          "metadata": {},
          "execution_count": 23
        }
      ]
    },
    {
      "cell_type": "code",
      "source": [
        "y_test[0:5]"
      ],
      "metadata": {
        "id": "7zUUhRojgrhQ",
        "colab": {
          "base_uri": "https://localhost:8080/"
        },
        "outputId": "a115ce86-82b6-4fa4-f82f-36d7be438e1d"
      },
      "execution_count": null,
      "outputs": [
        {
          "output_type": "execute_result",
          "data": {
            "text/plain": [
              "array([[1, 0, 0],\n",
              "       [1, 0, 0],\n",
              "       [1, 0, 0],\n",
              "       [1, 0, 0],\n",
              "       [1, 0, 0]])"
            ]
          },
          "metadata": {},
          "execution_count": 24
        }
      ]
    },
    {
      "cell_type": "code",
      "source": [
        "labels"
      ],
      "metadata": {
        "colab": {
          "base_uri": "https://localhost:8080/"
        },
        "id": "tswpA6-wRROy",
        "outputId": "bcd5df9d-ba8b-46ba-f48f-09b4127369a5"
      },
      "execution_count": null,
      "outputs": [
        {
          "output_type": "execute_result",
          "data": {
            "text/plain": [
              "array(['no recurrence', 'recurrence', 'unknown'], dtype=object)"
            ]
          },
          "metadata": {},
          "execution_count": 25
        }
      ]
    },
    {
      "cell_type": "code",
      "source": [
        "for index, entry in enumerate(predictions[0:5]):\n",
        "    print('predicted: %d, actual:%d' % (np.argmax(entry), np.argmax(y_test[index])))"
      ],
      "metadata": {
        "id": "6BVjmvu_grma",
        "colab": {
          "base_uri": "https://localhost:8080/"
        },
        "outputId": "3af9318a-7ae5-47b0-82bf-8130e634e790"
      },
      "execution_count": null,
      "outputs": [
        {
          "output_type": "stream",
          "name": "stdout",
          "text": [
            "predicted: 0, actual:0\n",
            "predicted: 0, actual:0\n",
            "predicted: 0, actual:0\n",
            "predicted: 0, actual:0\n",
            "predicted: 0, actual:0\n"
          ]
        }
      ]
    },
    {
      "cell_type": "code",
      "source": [
        ""
      ],
      "metadata": {
        "id": "I9YaE_2vgrua"
      },
      "execution_count": null,
      "outputs": []
    },
    {
      "cell_type": "code",
      "metadata": {
        "id": "EBgPAFR6242M",
        "colab": {
          "base_uri": "https://localhost:8080/"
        },
        "outputId": "e57fde8b-8f1a-4597-d153-55add8cf63d4"
      },
      "source": [
        "ex1 =X_test[0].tolist()\n",
        "ex1"
      ],
      "execution_count": null,
      "outputs": [
        {
          "output_type": "execute_result",
          "data": {
            "text/plain": [
              "[0.7272727272727273,\n",
              " 1.0,\n",
              " 0.5,\n",
              " 0.25,\n",
              " 0.75,\n",
              " 0.0,\n",
              " 0.0,\n",
              " 1.0,\n",
              " 0.23232323232323235,\n",
              " 0.0,\n",
              " 0.010101010101010102,\n",
              " 0.0,\n",
              " 0.0]"
            ]
          },
          "metadata": {},
          "execution_count": 28
        }
      ]
    },
    {
      "cell_type": "code",
      "metadata": {
        "colab": {
          "base_uri": "https://localhost:8080/"
        },
        "id": "e1fpPzdyeKjB",
        "outputId": "c46ba446-639b-4fba-c645-cf53511890db"
      },
      "source": [
        "sample1 = np.array(ex1).reshape(1, -1)\n",
        "sample1"
      ],
      "execution_count": null,
      "outputs": [
        {
          "output_type": "execute_result",
          "data": {
            "text/plain": [
              "array([[0.72727273, 1.        , 0.5       , 0.25      , 0.75      ,\n",
              "        0.        , 0.        , 1.        , 0.23232323, 0.        ,\n",
              "        0.01010101, 0.        , 0.        ]])"
            ]
          },
          "metadata": {},
          "execution_count": 29
        }
      ]
    },
    {
      "cell_type": "code",
      "source": [
        "model.predict(sample1)"
      ],
      "metadata": {
        "colab": {
          "base_uri": "https://localhost:8080/"
        },
        "id": "_WiGRrI87noA",
        "outputId": "611faea9-886e-4fdd-9d6d-941bc0f559d1"
      },
      "execution_count": null,
      "outputs": [
        {
          "output_type": "execute_result",
          "data": {
            "text/plain": [
              "array([[9.4919997e-01, 5.0677020e-02, 1.2304065e-04]], dtype=float32)"
            ]
          },
          "metadata": {},
          "execution_count": 35
        }
      ]
    },
    {
      "cell_type": "code",
      "metadata": {
        "colab": {
          "base_uri": "https://localhost:8080/"
        },
        "id": "kRWTtDmx765c",
        "outputId": "eac954c1-cd84-4eff-9df8-52228a802fca"
      },
      "source": [
        "np.argmax(model.predict(sample1))"
      ],
      "execution_count": null,
      "outputs": [
        {
          "output_type": "execute_result",
          "data": {
            "text/plain": [
              "0"
            ]
          },
          "metadata": {},
          "execution_count": 33
        }
      ]
    },
    {
      "cell_type": "code",
      "source": [
        "labels[0]"
      ],
      "metadata": {
        "colab": {
          "base_uri": "https://localhost:8080/",
          "height": 34
        },
        "id": "0ywe5Jx57sMM",
        "outputId": "65207f0a-cfd8-402f-84b8-a2ac1a3d0263"
      },
      "execution_count": null,
      "outputs": [
        {
          "output_type": "execute_result",
          "data": {
            "text/plain": [
              "'no recurrence'"
            ],
            "application/vnd.google.colaboratory.intrinsic+json": {
              "type": "string"
            }
          },
          "metadata": {},
          "execution_count": 38
        }
      ]
    },
    {
      "cell_type": "code",
      "metadata": {
        "colab": {
          "base_uri": "https://localhost:8080/"
        },
        "id": "3-RqYbuW768p",
        "outputId": "fc9394f0-c298-4801-cc00-103c0726139c"
      },
      "source": [
        "ex2 =X_test[12].tolist()\n",
        "sample2 = np.array(ex2).reshape(1, -1)\n",
        "model.predict(sample2)"
      ],
      "execution_count": null,
      "outputs": [
        {
          "output_type": "execute_result",
          "data": {
            "text/plain": [
              "array([[9.0831804e-01, 9.1196902e-02, 4.8502354e-04]], dtype=float32)"
            ]
          },
          "metadata": {},
          "execution_count": 39
        }
      ]
    },
    {
      "cell_type": "code",
      "metadata": {
        "colab": {
          "base_uri": "https://localhost:8080/"
        },
        "id": "j_A2be_O8cUx",
        "outputId": "f60bf747-321a-44d9-c193-6cee6e7a46ef"
      },
      "source": [
        "np.argmax(model.predict(sample2))"
      ],
      "execution_count": null,
      "outputs": [
        {
          "output_type": "execute_result",
          "data": {
            "text/plain": [
              "0"
            ]
          },
          "metadata": {},
          "execution_count": 40
        }
      ]
    },
    {
      "cell_type": "code",
      "source": [
        "ex3 =X_test[123].tolist()\n",
        "sample3 = np.array(ex3).reshape(1, -1)\n",
        "np.argmax(model.predict(sample3))"
      ],
      "metadata": {
        "colab": {
          "base_uri": "https://localhost:8080/"
        },
        "id": "I1GS7Aqa9J2A",
        "outputId": "280df1b4-bf74-498f-9b9a-4399fbdf0b90"
      },
      "execution_count": null,
      "outputs": [
        {
          "output_type": "execute_result",
          "data": {
            "text/plain": [
              "1"
            ]
          },
          "metadata": {},
          "execution_count": 48
        }
      ]
    },
    {
      "cell_type": "code",
      "source": [
        "labels[1]"
      ],
      "metadata": {
        "id": "r4BytMra9cG-",
        "outputId": "e99c65e4-fa20-48bd-8ddf-de4d7d895465",
        "colab": {
          "base_uri": "https://localhost:8080/",
          "height": 34
        }
      },
      "execution_count": null,
      "outputs": [
        {
          "output_type": "execute_result",
          "data": {
            "text/plain": [
              "'recurrence'"
            ],
            "application/vnd.google.colaboratory.intrinsic+json": {
              "type": "string"
            }
          },
          "metadata": {},
          "execution_count": 49
        }
      ]
    },
    {
      "cell_type": "code",
      "source": [
        "y_test[123]"
      ],
      "metadata": {
        "colab": {
          "base_uri": "https://localhost:8080/"
        },
        "id": "RaArvCJ281X9",
        "outputId": "36949e7d-1a20-4a9a-96b3-6c7f0b43eed1"
      },
      "execution_count": null,
      "outputs": [
        {
          "output_type": "execute_result",
          "data": {
            "text/plain": [
              "array([0, 1, 0])"
            ]
          },
          "metadata": {},
          "execution_count": 47
        }
      ]
    },
    {
      "cell_type": "code",
      "source": [
        "history = model.fit(X_train, y_train, validation_data=(X_val, y_val),  batch_size=32, epochs=50, verbose=1)"
      ],
      "metadata": {
        "colab": {
          "base_uri": "https://localhost:8080/"
        },
        "id": "BcdppXxc8R9L",
        "outputId": "6edaa225-0342-4dd7-ba62-8a74619f8f67"
      },
      "execution_count": null,
      "outputs": [
        {
          "output_type": "stream",
          "name": "stdout",
          "text": [
            "Epoch 1/50\n",
            "487/487 [==============================] - 3s 6ms/step - loss: 0.4295 - categorical_accuracy: 0.8216 - val_loss: 0.4282 - val_categorical_accuracy: 0.8195\n",
            "Epoch 2/50\n",
            "487/487 [==============================] - 2s 4ms/step - loss: 0.4274 - categorical_accuracy: 0.8218 - val_loss: 0.4268 - val_categorical_accuracy: 0.8191\n",
            "Epoch 3/50\n",
            "487/487 [==============================] - 1s 2ms/step - loss: 0.4240 - categorical_accuracy: 0.8224 - val_loss: 0.4341 - val_categorical_accuracy: 0.8156\n",
            "Epoch 4/50\n",
            "487/487 [==============================] - 1s 2ms/step - loss: 0.4203 - categorical_accuracy: 0.8238 - val_loss: 0.4217 - val_categorical_accuracy: 0.8230\n",
            "Epoch 5/50\n",
            "487/487 [==============================] - 1s 2ms/step - loss: 0.4184 - categorical_accuracy: 0.8254 - val_loss: 0.4187 - val_categorical_accuracy: 0.8220\n",
            "Epoch 6/50\n",
            "487/487 [==============================] - 1s 2ms/step - loss: 0.4157 - categorical_accuracy: 0.8267 - val_loss: 0.4173 - val_categorical_accuracy: 0.8230\n",
            "Epoch 7/50\n",
            "487/487 [==============================] - 1s 2ms/step - loss: 0.4116 - categorical_accuracy: 0.8271 - val_loss: 0.4150 - val_categorical_accuracy: 0.8239\n",
            "Epoch 8/50\n",
            "487/487 [==============================] - 1s 2ms/step - loss: 0.4093 - categorical_accuracy: 0.8285 - val_loss: 0.4152 - val_categorical_accuracy: 0.8243\n",
            "Epoch 9/50\n",
            "487/487 [==============================] - 1s 2ms/step - loss: 0.4064 - categorical_accuracy: 0.8292 - val_loss: 0.4172 - val_categorical_accuracy: 0.8274\n",
            "Epoch 10/50\n",
            "487/487 [==============================] - 1s 2ms/step - loss: 0.4046 - categorical_accuracy: 0.8301 - val_loss: 0.4161 - val_categorical_accuracy: 0.8282\n",
            "Epoch 11/50\n",
            "487/487 [==============================] - 1s 3ms/step - loss: 0.4030 - categorical_accuracy: 0.8309 - val_loss: 0.4121 - val_categorical_accuracy: 0.8272\n",
            "Epoch 12/50\n",
            "487/487 [==============================] - 1s 2ms/step - loss: 0.3999 - categorical_accuracy: 0.8313 - val_loss: 0.4133 - val_categorical_accuracy: 0.8287\n",
            "Epoch 13/50\n",
            "487/487 [==============================] - 1s 2ms/step - loss: 0.3984 - categorical_accuracy: 0.8346 - val_loss: 0.4100 - val_categorical_accuracy: 0.8214\n",
            "Epoch 14/50\n",
            "487/487 [==============================] - 1s 2ms/step - loss: 0.3978 - categorical_accuracy: 0.8337 - val_loss: 0.4122 - val_categorical_accuracy: 0.8262\n",
            "Epoch 15/50\n",
            "487/487 [==============================] - 1s 2ms/step - loss: 0.3962 - categorical_accuracy: 0.8355 - val_loss: 0.4232 - val_categorical_accuracy: 0.8249\n",
            "Epoch 16/50\n",
            "487/487 [==============================] - 1s 2ms/step - loss: 0.3947 - categorical_accuracy: 0.8342 - val_loss: 0.4064 - val_categorical_accuracy: 0.8320\n",
            "Epoch 17/50\n",
            "487/487 [==============================] - 1s 2ms/step - loss: 0.3926 - categorical_accuracy: 0.8365 - val_loss: 0.4057 - val_categorical_accuracy: 0.8284\n",
            "Epoch 18/50\n",
            "487/487 [==============================] - 1s 2ms/step - loss: 0.3919 - categorical_accuracy: 0.8353 - val_loss: 0.4143 - val_categorical_accuracy: 0.8187\n",
            "Epoch 19/50\n",
            "487/487 [==============================] - 1s 2ms/step - loss: 0.3918 - categorical_accuracy: 0.8366 - val_loss: 0.4113 - val_categorical_accuracy: 0.8297\n",
            "Epoch 20/50\n",
            "487/487 [==============================] - 1s 3ms/step - loss: 0.3894 - categorical_accuracy: 0.8395 - val_loss: 0.4072 - val_categorical_accuracy: 0.8299\n",
            "Epoch 21/50\n",
            "487/487 [==============================] - 1s 2ms/step - loss: 0.3910 - categorical_accuracy: 0.8355 - val_loss: 0.4086 - val_categorical_accuracy: 0.8295\n",
            "Epoch 22/50\n",
            "487/487 [==============================] - 1s 2ms/step - loss: 0.3881 - categorical_accuracy: 0.8378 - val_loss: 0.4095 - val_categorical_accuracy: 0.8257\n",
            "Epoch 23/50\n",
            "487/487 [==============================] - 1s 2ms/step - loss: 0.3885 - categorical_accuracy: 0.8375 - val_loss: 0.4089 - val_categorical_accuracy: 0.8314\n",
            "Epoch 24/50\n",
            "487/487 [==============================] - 1s 3ms/step - loss: 0.3874 - categorical_accuracy: 0.8387 - val_loss: 0.4052 - val_categorical_accuracy: 0.8270\n",
            "Epoch 25/50\n",
            "487/487 [==============================] - 1s 2ms/step - loss: 0.3867 - categorical_accuracy: 0.8405 - val_loss: 0.4224 - val_categorical_accuracy: 0.8243\n",
            "Epoch 26/50\n",
            "487/487 [==============================] - 1s 2ms/step - loss: 0.3859 - categorical_accuracy: 0.8398 - val_loss: 0.4072 - val_categorical_accuracy: 0.8280\n",
            "Epoch 27/50\n",
            "487/487 [==============================] - 1s 3ms/step - loss: 0.3841 - categorical_accuracy: 0.8393 - val_loss: 0.4134 - val_categorical_accuracy: 0.8270\n",
            "Epoch 28/50\n",
            "487/487 [==============================] - 1s 2ms/step - loss: 0.3829 - categorical_accuracy: 0.8389 - val_loss: 0.4019 - val_categorical_accuracy: 0.8316\n",
            "Epoch 29/50\n",
            "487/487 [==============================] - 1s 2ms/step - loss: 0.3846 - categorical_accuracy: 0.8389 - val_loss: 0.4056 - val_categorical_accuracy: 0.8320\n",
            "Epoch 30/50\n",
            "487/487 [==============================] - 1s 2ms/step - loss: 0.3827 - categorical_accuracy: 0.8408 - val_loss: 0.4022 - val_categorical_accuracy: 0.8285\n",
            "Epoch 31/50\n",
            "487/487 [==============================] - 1s 2ms/step - loss: 0.3825 - categorical_accuracy: 0.8423 - val_loss: 0.4085 - val_categorical_accuracy: 0.8314\n",
            "Epoch 32/50\n",
            "487/487 [==============================] - 1s 2ms/step - loss: 0.3804 - categorical_accuracy: 0.8407 - val_loss: 0.4083 - val_categorical_accuracy: 0.8311\n",
            "Epoch 33/50\n",
            "487/487 [==============================] - 1s 2ms/step - loss: 0.3795 - categorical_accuracy: 0.8418 - val_loss: 0.4113 - val_categorical_accuracy: 0.8307\n",
            "Epoch 34/50\n",
            "487/487 [==============================] - 1s 2ms/step - loss: 0.3795 - categorical_accuracy: 0.8436 - val_loss: 0.4048 - val_categorical_accuracy: 0.8324\n",
            "Epoch 35/50\n",
            "487/487 [==============================] - 1s 3ms/step - loss: 0.3772 - categorical_accuracy: 0.8431 - val_loss: 0.4064 - val_categorical_accuracy: 0.8357\n",
            "Epoch 36/50\n",
            "487/487 [==============================] - 1s 3ms/step - loss: 0.3781 - categorical_accuracy: 0.8435 - val_loss: 0.4006 - val_categorical_accuracy: 0.8301\n",
            "Epoch 37/50\n",
            "487/487 [==============================] - 1s 3ms/step - loss: 0.3774 - categorical_accuracy: 0.8409 - val_loss: 0.4132 - val_categorical_accuracy: 0.8320\n",
            "Epoch 38/50\n",
            "487/487 [==============================] - 1s 3ms/step - loss: 0.3762 - categorical_accuracy: 0.8434 - val_loss: 0.3998 - val_categorical_accuracy: 0.8330\n",
            "Epoch 39/50\n",
            "487/487 [==============================] - 1s 2ms/step - loss: 0.3765 - categorical_accuracy: 0.8425 - val_loss: 0.4029 - val_categorical_accuracy: 0.8326\n",
            "Epoch 40/50\n",
            "487/487 [==============================] - 1s 3ms/step - loss: 0.3755 - categorical_accuracy: 0.8434 - val_loss: 0.4040 - val_categorical_accuracy: 0.8309\n",
            "Epoch 41/50\n",
            "487/487 [==============================] - 1s 3ms/step - loss: 0.3740 - categorical_accuracy: 0.8448 - val_loss: 0.4045 - val_categorical_accuracy: 0.8345\n",
            "Epoch 42/50\n",
            "487/487 [==============================] - 1s 3ms/step - loss: 0.3739 - categorical_accuracy: 0.8452 - val_loss: 0.4007 - val_categorical_accuracy: 0.8328\n",
            "Epoch 43/50\n",
            "487/487 [==============================] - 1s 3ms/step - loss: 0.3731 - categorical_accuracy: 0.8459 - val_loss: 0.4025 - val_categorical_accuracy: 0.8347\n",
            "Epoch 44/50\n",
            "487/487 [==============================] - 1s 2ms/step - loss: 0.3725 - categorical_accuracy: 0.8473 - val_loss: 0.4028 - val_categorical_accuracy: 0.8320\n",
            "Epoch 45/50\n",
            "487/487 [==============================] - 1s 2ms/step - loss: 0.3701 - categorical_accuracy: 0.8466 - val_loss: 0.4000 - val_categorical_accuracy: 0.8334\n",
            "Epoch 46/50\n",
            "487/487 [==============================] - 1s 3ms/step - loss: 0.3698 - categorical_accuracy: 0.8481 - val_loss: 0.4042 - val_categorical_accuracy: 0.8320\n",
            "Epoch 47/50\n",
            "487/487 [==============================] - 1s 2ms/step - loss: 0.3709 - categorical_accuracy: 0.8472 - val_loss: 0.4050 - val_categorical_accuracy: 0.8303\n",
            "Epoch 48/50\n",
            "487/487 [==============================] - 1s 2ms/step - loss: 0.3698 - categorical_accuracy: 0.8466 - val_loss: 0.4086 - val_categorical_accuracy: 0.8295\n",
            "Epoch 49/50\n",
            "487/487 [==============================] - 1s 2ms/step - loss: 0.3687 - categorical_accuracy: 0.8473 - val_loss: 0.4007 - val_categorical_accuracy: 0.8312\n",
            "Epoch 50/50\n",
            "487/487 [==============================] - 1s 3ms/step - loss: 0.3679 - categorical_accuracy: 0.8486 - val_loss: 0.4034 - val_categorical_accuracy: 0.8314\n"
          ]
        }
      ]
    }
  ]
}