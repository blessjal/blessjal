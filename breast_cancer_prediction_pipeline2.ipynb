{
  "nbformat": 4,
  "nbformat_minor": 0,
  "metadata": {
    "colab": {
      "name": "breast-cancer-prediction-pipeline2.ipynb",
      "provenance": [],
      "collapsed_sections": [],
      "authorship_tag": "ABX9TyPMa+b8jb+S8kk4+MhQqhHs",
      "include_colab_link": true
    },
    "kernelspec": {
      "name": "python3",
      "display_name": "Python 3"
    }
  },
  "cells": [
    {
      "cell_type": "markdown",
      "metadata": {
        "id": "view-in-github",
        "colab_type": "text"
      },
      "source": [
        "<a href=\"https://colab.research.google.com/github/blessjal/blessjal/blob/main/breast_cancer_prediction_pipeline2.ipynb\" target=\"_parent\"><img src=\"https://colab.research.google.com/assets/colab-badge.svg\" alt=\"Open In Colab\"/></a>"
      ]
    },
    {
      "cell_type": "code",
      "metadata": {
        "id": "khoV8ls98X09"
      },
      "source": [
        "import pandas as pd  \n",
        "import numpy as np\n",
        "import seaborn as sns\n",
        "import matplotlib.pyplot as plt\n",
        "from sklearn.preprocessing import StandardScaler\n",
        "from sklearn.model_selection import train_test_split\n",
        "from sklearn.linear_model import LinearRegression, LogisticRegression\n",
        "from sklearn.ensemble import RandomForestClassifier\n",
        "from sklearn.metrics import mean_squared_error, accuracy_score, confusion_matrix\n",
        "\n",
        "%matplotlib inline\n",
        "plt.style.use('ggplot')"
      ],
      "execution_count": 35,
      "outputs": []
    },
    {
      "cell_type": "code",
      "metadata": {
        "colab": {
          "base_uri": "https://localhost:8080/",
          "height": 195
        },
        "id": "_lHg-qvO8JYA",
        "outputId": "4dd65a36-c5c6-4c94-9934-a962edd9663c"
      },
      "source": [
        "df = pd.read_csv('/content/sample_data/breast-cancer.data')\n",
        "\n",
        "df.head()"
      ],
      "execution_count": 80,
      "outputs": [
        {
          "output_type": "execute_result",
          "data": {
            "text/html": [
              "<div>\n",
              "<style scoped>\n",
              "    .dataframe tbody tr th:only-of-type {\n",
              "        vertical-align: middle;\n",
              "    }\n",
              "\n",
              "    .dataframe tbody tr th {\n",
              "        vertical-align: top;\n",
              "    }\n",
              "\n",
              "    .dataframe thead th {\n",
              "        text-align: right;\n",
              "    }\n",
              "</style>\n",
              "<table border=\"1\" class=\"dataframe\">\n",
              "  <thead>\n",
              "    <tr style=\"text-align: right;\">\n",
              "      <th></th>\n",
              "      <th>no-recurrence-events</th>\n",
              "      <th>30-39</th>\n",
              "      <th>premeno</th>\n",
              "      <th>30-34</th>\n",
              "      <th>0-2</th>\n",
              "      <th>no</th>\n",
              "      <th>3</th>\n",
              "      <th>left</th>\n",
              "      <th>left_low</th>\n",
              "      <th>no.1</th>\n",
              "    </tr>\n",
              "  </thead>\n",
              "  <tbody>\n",
              "    <tr>\n",
              "      <th>0</th>\n",
              "      <td>no-recurrence-events</td>\n",
              "      <td>40-49</td>\n",
              "      <td>premeno</td>\n",
              "      <td>20-24</td>\n",
              "      <td>0-2</td>\n",
              "      <td>no</td>\n",
              "      <td>2</td>\n",
              "      <td>right</td>\n",
              "      <td>right_up</td>\n",
              "      <td>no</td>\n",
              "    </tr>\n",
              "    <tr>\n",
              "      <th>1</th>\n",
              "      <td>no-recurrence-events</td>\n",
              "      <td>40-49</td>\n",
              "      <td>premeno</td>\n",
              "      <td>20-24</td>\n",
              "      <td>0-2</td>\n",
              "      <td>no</td>\n",
              "      <td>2</td>\n",
              "      <td>left</td>\n",
              "      <td>left_low</td>\n",
              "      <td>no</td>\n",
              "    </tr>\n",
              "    <tr>\n",
              "      <th>2</th>\n",
              "      <td>no-recurrence-events</td>\n",
              "      <td>60-69</td>\n",
              "      <td>ge40</td>\n",
              "      <td>15-19</td>\n",
              "      <td>0-2</td>\n",
              "      <td>no</td>\n",
              "      <td>2</td>\n",
              "      <td>right</td>\n",
              "      <td>left_up</td>\n",
              "      <td>no</td>\n",
              "    </tr>\n",
              "    <tr>\n",
              "      <th>3</th>\n",
              "      <td>no-recurrence-events</td>\n",
              "      <td>40-49</td>\n",
              "      <td>premeno</td>\n",
              "      <td>0-4</td>\n",
              "      <td>0-2</td>\n",
              "      <td>no</td>\n",
              "      <td>2</td>\n",
              "      <td>right</td>\n",
              "      <td>right_low</td>\n",
              "      <td>no</td>\n",
              "    </tr>\n",
              "    <tr>\n",
              "      <th>4</th>\n",
              "      <td>no-recurrence-events</td>\n",
              "      <td>60-69</td>\n",
              "      <td>ge40</td>\n",
              "      <td>15-19</td>\n",
              "      <td>0-2</td>\n",
              "      <td>no</td>\n",
              "      <td>2</td>\n",
              "      <td>left</td>\n",
              "      <td>left_low</td>\n",
              "      <td>no</td>\n",
              "    </tr>\n",
              "  </tbody>\n",
              "</table>\n",
              "</div>"
            ],
            "text/plain": [
              "   no-recurrence-events  30-39  premeno  30-34  ...  3   left   left_low no.1\n",
              "0  no-recurrence-events  40-49  premeno  20-24  ...  2  right   right_up   no\n",
              "1  no-recurrence-events  40-49  premeno  20-24  ...  2   left   left_low   no\n",
              "2  no-recurrence-events  60-69     ge40  15-19  ...  2  right    left_up   no\n",
              "3  no-recurrence-events  40-49  premeno    0-4  ...  2  right  right_low   no\n",
              "4  no-recurrence-events  60-69     ge40  15-19  ...  2   left   left_low   no\n",
              "\n",
              "[5 rows x 10 columns]"
            ]
          },
          "metadata": {
            "tags": []
          },
          "execution_count": 80
        }
      ]
    },
    {
      "cell_type": "code",
      "metadata": {
        "colab": {
          "base_uri": "https://localhost:8080/",
          "height": 195
        },
        "id": "kD1gPd4z9Gn6",
        "outputId": "3b8e8364-e7b5-4816-933c-2edf5bee9464"
      },
      "source": [
        " \n",
        "columns = [ 'Class', 'age','menopause','tumor-size','inv-nodes','node-caps','deg-malig','breast','breast-quad','irradiat']\n",
        "df.columns = columns\n",
        "df.head()"
      ],
      "execution_count": 81,
      "outputs": [
        {
          "output_type": "execute_result",
          "data": {
            "text/html": [
              "<div>\n",
              "<style scoped>\n",
              "    .dataframe tbody tr th:only-of-type {\n",
              "        vertical-align: middle;\n",
              "    }\n",
              "\n",
              "    .dataframe tbody tr th {\n",
              "        vertical-align: top;\n",
              "    }\n",
              "\n",
              "    .dataframe thead th {\n",
              "        text-align: right;\n",
              "    }\n",
              "</style>\n",
              "<table border=\"1\" class=\"dataframe\">\n",
              "  <thead>\n",
              "    <tr style=\"text-align: right;\">\n",
              "      <th></th>\n",
              "      <th>Class</th>\n",
              "      <th>age</th>\n",
              "      <th>menopause</th>\n",
              "      <th>tumor-size</th>\n",
              "      <th>inv-nodes</th>\n",
              "      <th>node-caps</th>\n",
              "      <th>deg-malig</th>\n",
              "      <th>breast</th>\n",
              "      <th>breast-quad</th>\n",
              "      <th>irradiat</th>\n",
              "    </tr>\n",
              "  </thead>\n",
              "  <tbody>\n",
              "    <tr>\n",
              "      <th>0</th>\n",
              "      <td>no-recurrence-events</td>\n",
              "      <td>40-49</td>\n",
              "      <td>premeno</td>\n",
              "      <td>20-24</td>\n",
              "      <td>0-2</td>\n",
              "      <td>no</td>\n",
              "      <td>2</td>\n",
              "      <td>right</td>\n",
              "      <td>right_up</td>\n",
              "      <td>no</td>\n",
              "    </tr>\n",
              "    <tr>\n",
              "      <th>1</th>\n",
              "      <td>no-recurrence-events</td>\n",
              "      <td>40-49</td>\n",
              "      <td>premeno</td>\n",
              "      <td>20-24</td>\n",
              "      <td>0-2</td>\n",
              "      <td>no</td>\n",
              "      <td>2</td>\n",
              "      <td>left</td>\n",
              "      <td>left_low</td>\n",
              "      <td>no</td>\n",
              "    </tr>\n",
              "    <tr>\n",
              "      <th>2</th>\n",
              "      <td>no-recurrence-events</td>\n",
              "      <td>60-69</td>\n",
              "      <td>ge40</td>\n",
              "      <td>15-19</td>\n",
              "      <td>0-2</td>\n",
              "      <td>no</td>\n",
              "      <td>2</td>\n",
              "      <td>right</td>\n",
              "      <td>left_up</td>\n",
              "      <td>no</td>\n",
              "    </tr>\n",
              "    <tr>\n",
              "      <th>3</th>\n",
              "      <td>no-recurrence-events</td>\n",
              "      <td>40-49</td>\n",
              "      <td>premeno</td>\n",
              "      <td>0-4</td>\n",
              "      <td>0-2</td>\n",
              "      <td>no</td>\n",
              "      <td>2</td>\n",
              "      <td>right</td>\n",
              "      <td>right_low</td>\n",
              "      <td>no</td>\n",
              "    </tr>\n",
              "    <tr>\n",
              "      <th>4</th>\n",
              "      <td>no-recurrence-events</td>\n",
              "      <td>60-69</td>\n",
              "      <td>ge40</td>\n",
              "      <td>15-19</td>\n",
              "      <td>0-2</td>\n",
              "      <td>no</td>\n",
              "      <td>2</td>\n",
              "      <td>left</td>\n",
              "      <td>left_low</td>\n",
              "      <td>no</td>\n",
              "    </tr>\n",
              "  </tbody>\n",
              "</table>\n",
              "</div>"
            ],
            "text/plain": [
              "                  Class    age menopause  ... breast breast-quad irradiat\n",
              "0  no-recurrence-events  40-49   premeno  ...  right    right_up       no\n",
              "1  no-recurrence-events  40-49   premeno  ...   left    left_low       no\n",
              "2  no-recurrence-events  60-69      ge40  ...  right     left_up       no\n",
              "3  no-recurrence-events  40-49   premeno  ...  right   right_low       no\n",
              "4  no-recurrence-events  60-69      ge40  ...   left    left_low       no\n",
              "\n",
              "[5 rows x 10 columns]"
            ]
          },
          "metadata": {
            "tags": []
          },
          "execution_count": 81
        }
      ]
    },
    {
      "cell_type": "code",
      "metadata": {
        "id": "ZWhY6HMZEqN3"
      },
      "source": [
        "df['age'] = df['age'].map({'20-29':25.5, '30-39':35.5, '40-49':45.5, '50-59':55.5, '60-69':65.5, '70-79':75.5})"
      ],
      "execution_count": 82,
      "outputs": []
    },
    {
      "cell_type": "code",
      "metadata": {
        "colab": {
          "base_uri": "https://localhost:8080/",
          "height": 195
        },
        "id": "4zYwNZJ6BUqt",
        "outputId": "0c60f7d6-2abc-4474-a0ed-7ccf98d61629"
      },
      "source": [
        "df.head()"
      ],
      "execution_count": 83,
      "outputs": [
        {
          "output_type": "execute_result",
          "data": {
            "text/html": [
              "<div>\n",
              "<style scoped>\n",
              "    .dataframe tbody tr th:only-of-type {\n",
              "        vertical-align: middle;\n",
              "    }\n",
              "\n",
              "    .dataframe tbody tr th {\n",
              "        vertical-align: top;\n",
              "    }\n",
              "\n",
              "    .dataframe thead th {\n",
              "        text-align: right;\n",
              "    }\n",
              "</style>\n",
              "<table border=\"1\" class=\"dataframe\">\n",
              "  <thead>\n",
              "    <tr style=\"text-align: right;\">\n",
              "      <th></th>\n",
              "      <th>Class</th>\n",
              "      <th>age</th>\n",
              "      <th>menopause</th>\n",
              "      <th>tumor-size</th>\n",
              "      <th>inv-nodes</th>\n",
              "      <th>node-caps</th>\n",
              "      <th>deg-malig</th>\n",
              "      <th>breast</th>\n",
              "      <th>breast-quad</th>\n",
              "      <th>irradiat</th>\n",
              "    </tr>\n",
              "  </thead>\n",
              "  <tbody>\n",
              "    <tr>\n",
              "      <th>0</th>\n",
              "      <td>no-recurrence-events</td>\n",
              "      <td>45.5</td>\n",
              "      <td>premeno</td>\n",
              "      <td>20-24</td>\n",
              "      <td>0-2</td>\n",
              "      <td>no</td>\n",
              "      <td>2</td>\n",
              "      <td>right</td>\n",
              "      <td>right_up</td>\n",
              "      <td>no</td>\n",
              "    </tr>\n",
              "    <tr>\n",
              "      <th>1</th>\n",
              "      <td>no-recurrence-events</td>\n",
              "      <td>45.5</td>\n",
              "      <td>premeno</td>\n",
              "      <td>20-24</td>\n",
              "      <td>0-2</td>\n",
              "      <td>no</td>\n",
              "      <td>2</td>\n",
              "      <td>left</td>\n",
              "      <td>left_low</td>\n",
              "      <td>no</td>\n",
              "    </tr>\n",
              "    <tr>\n",
              "      <th>2</th>\n",
              "      <td>no-recurrence-events</td>\n",
              "      <td>65.5</td>\n",
              "      <td>ge40</td>\n",
              "      <td>15-19</td>\n",
              "      <td>0-2</td>\n",
              "      <td>no</td>\n",
              "      <td>2</td>\n",
              "      <td>right</td>\n",
              "      <td>left_up</td>\n",
              "      <td>no</td>\n",
              "    </tr>\n",
              "    <tr>\n",
              "      <th>3</th>\n",
              "      <td>no-recurrence-events</td>\n",
              "      <td>45.5</td>\n",
              "      <td>premeno</td>\n",
              "      <td>0-4</td>\n",
              "      <td>0-2</td>\n",
              "      <td>no</td>\n",
              "      <td>2</td>\n",
              "      <td>right</td>\n",
              "      <td>right_low</td>\n",
              "      <td>no</td>\n",
              "    </tr>\n",
              "    <tr>\n",
              "      <th>4</th>\n",
              "      <td>no-recurrence-events</td>\n",
              "      <td>65.5</td>\n",
              "      <td>ge40</td>\n",
              "      <td>15-19</td>\n",
              "      <td>0-2</td>\n",
              "      <td>no</td>\n",
              "      <td>2</td>\n",
              "      <td>left</td>\n",
              "      <td>left_low</td>\n",
              "      <td>no</td>\n",
              "    </tr>\n",
              "  </tbody>\n",
              "</table>\n",
              "</div>"
            ],
            "text/plain": [
              "                  Class   age menopause  ... breast breast-quad irradiat\n",
              "0  no-recurrence-events  45.5   premeno  ...  right    right_up       no\n",
              "1  no-recurrence-events  45.5   premeno  ...   left    left_low       no\n",
              "2  no-recurrence-events  65.5      ge40  ...  right     left_up       no\n",
              "3  no-recurrence-events  45.5   premeno  ...  right   right_low       no\n",
              "4  no-recurrence-events  65.5      ge40  ...   left    left_low       no\n",
              "\n",
              "[5 rows x 10 columns]"
            ]
          },
          "metadata": {
            "tags": []
          },
          "execution_count": 83
        }
      ]
    },
    {
      "cell_type": "code",
      "metadata": {
        "id": "HRLZqYdFm3UE"
      },
      "source": [
        "df['menopause'].value_counts()\n",
        "meno_dict = {'premeno':0, 'ge40':1, 'lt40':2}\n",
        "df['menopause'] = df['menopause'].map(meno_dict)"
      ],
      "execution_count": 84,
      "outputs": []
    },
    {
      "cell_type": "code",
      "metadata": {
        "id": "N2iyM7lcqNS9"
      },
      "source": [
        "df['tumor-size'] = df['tumor-size'].map({'30-40':35, '25-29':27, '20-24':22, '15-19':17, '10-14':12, '40-44':42, '0-4':2, '50-54':52, '5-9':7, '45-49':47})"
      ],
      "execution_count": 85,
      "outputs": []
    },
    {
      "cell_type": "code",
      "metadata": {
        "id": "9POTed_2sO12"
      },
      "source": [
        "df['inv-nodes'] = df['inv-nodes'].map({'0-2':2, '3-5':4, '6-8':6, '9-11':6, '15-17':6, '12-14':6, '24-26':6})"
      ],
      "execution_count": 86,
      "outputs": []
    },
    {
      "cell_type": "code",
      "metadata": {
        "id": "wrQmcU1Qnqi_"
      },
      "source": [
        "df['node-caps'].replace('?', np.nan, inplace=True)\n",
        "node_dict = {'no':0, 'yes':1}\n",
        "df['node-caps'] = df['node-caps'].map(node_dict)"
      ],
      "execution_count": 87,
      "outputs": []
    },
    {
      "cell_type": "code",
      "metadata": {
        "id": "pVad-tGvomHr"
      },
      "source": [
        "df['breast-quad'].replace('?', np.nan, inplace=True)\n",
        "df.dropna(inplace=True)"
      ],
      "execution_count": 88,
      "outputs": []
    },
    {
      "cell_type": "code",
      "metadata": {
        "id": "O7kbSEdi2-pQ"
      },
      "source": [
        "breast_dict = {'left':0, 'right':1}\n",
        "df['breast'] = df['breast'].map(breast_dict)"
      ],
      "execution_count": 89,
      "outputs": []
    },
    {
      "cell_type": "code",
      "metadata": {
        "id": "tarX9A9R3Otv"
      },
      "source": [
        "quad_dict = {'left_low':0, 'left_up':1, 'right_low':2, 'right_up':3, 'central':4}\n",
        "df['breast-quad'] =df['breast-quad'].map(quad_dict)"
      ],
      "execution_count": 90,
      "outputs": []
    },
    {
      "cell_type": "code",
      "metadata": {
        "id": "K6vdQHDx31ZD"
      },
      "source": [
        "irrad_dict = {'no':0, 'yes':1}\n",
        "df['irradiat'] = df['irradiat'].map(irrad_dict)"
      ],
      "execution_count": 91,
      "outputs": []
    },
    {
      "cell_type": "code",
      "metadata": {
        "id": "6YrO-71N4SRV"
      },
      "source": [
        "class_dict = {'no-recurrence-events': 0, 'recurrence-events': 1}\n",
        "df['Class'] = df['Class'].map(class_dict)"
      ],
      "execution_count": 92,
      "outputs": []
    },
    {
      "cell_type": "code",
      "metadata": {
        "colab": {
          "base_uri": "https://localhost:8080/",
          "height": 195
        },
        "id": "gO-WrTEUs8XV",
        "outputId": "a1dec96a-5183-489f-b25f-26e6e4bf357d"
      },
      "source": [
        "df.head()"
      ],
      "execution_count": 93,
      "outputs": [
        {
          "output_type": "execute_result",
          "data": {
            "text/html": [
              "<div>\n",
              "<style scoped>\n",
              "    .dataframe tbody tr th:only-of-type {\n",
              "        vertical-align: middle;\n",
              "    }\n",
              "\n",
              "    .dataframe tbody tr th {\n",
              "        vertical-align: top;\n",
              "    }\n",
              "\n",
              "    .dataframe thead th {\n",
              "        text-align: right;\n",
              "    }\n",
              "</style>\n",
              "<table border=\"1\" class=\"dataframe\">\n",
              "  <thead>\n",
              "    <tr style=\"text-align: right;\">\n",
              "      <th></th>\n",
              "      <th>Class</th>\n",
              "      <th>age</th>\n",
              "      <th>menopause</th>\n",
              "      <th>tumor-size</th>\n",
              "      <th>inv-nodes</th>\n",
              "      <th>node-caps</th>\n",
              "      <th>deg-malig</th>\n",
              "      <th>breast</th>\n",
              "      <th>breast-quad</th>\n",
              "      <th>irradiat</th>\n",
              "    </tr>\n",
              "  </thead>\n",
              "  <tbody>\n",
              "    <tr>\n",
              "      <th>0</th>\n",
              "      <td>0</td>\n",
              "      <td>45.5</td>\n",
              "      <td>0</td>\n",
              "      <td>22.0</td>\n",
              "      <td>2</td>\n",
              "      <td>0.0</td>\n",
              "      <td>2</td>\n",
              "      <td>1</td>\n",
              "      <td>3</td>\n",
              "      <td>0</td>\n",
              "    </tr>\n",
              "    <tr>\n",
              "      <th>1</th>\n",
              "      <td>0</td>\n",
              "      <td>45.5</td>\n",
              "      <td>0</td>\n",
              "      <td>22.0</td>\n",
              "      <td>2</td>\n",
              "      <td>0.0</td>\n",
              "      <td>2</td>\n",
              "      <td>0</td>\n",
              "      <td>0</td>\n",
              "      <td>0</td>\n",
              "    </tr>\n",
              "    <tr>\n",
              "      <th>2</th>\n",
              "      <td>0</td>\n",
              "      <td>65.5</td>\n",
              "      <td>1</td>\n",
              "      <td>17.0</td>\n",
              "      <td>2</td>\n",
              "      <td>0.0</td>\n",
              "      <td>2</td>\n",
              "      <td>1</td>\n",
              "      <td>1</td>\n",
              "      <td>0</td>\n",
              "    </tr>\n",
              "    <tr>\n",
              "      <th>3</th>\n",
              "      <td>0</td>\n",
              "      <td>45.5</td>\n",
              "      <td>0</td>\n",
              "      <td>2.0</td>\n",
              "      <td>2</td>\n",
              "      <td>0.0</td>\n",
              "      <td>2</td>\n",
              "      <td>1</td>\n",
              "      <td>2</td>\n",
              "      <td>0</td>\n",
              "    </tr>\n",
              "    <tr>\n",
              "      <th>4</th>\n",
              "      <td>0</td>\n",
              "      <td>65.5</td>\n",
              "      <td>1</td>\n",
              "      <td>17.0</td>\n",
              "      <td>2</td>\n",
              "      <td>0.0</td>\n",
              "      <td>2</td>\n",
              "      <td>0</td>\n",
              "      <td>0</td>\n",
              "      <td>0</td>\n",
              "    </tr>\n",
              "  </tbody>\n",
              "</table>\n",
              "</div>"
            ],
            "text/plain": [
              "   Class   age  menopause  tumor-size  ...  deg-malig  breast  breast-quad  irradiat\n",
              "0      0  45.5          0        22.0  ...          2       1            3         0\n",
              "1      0  45.5          0        22.0  ...          2       0            0         0\n",
              "2      0  65.5          1        17.0  ...          2       1            1         0\n",
              "3      0  45.5          0         2.0  ...          2       1            2         0\n",
              "4      0  65.5          1        17.0  ...          2       0            0         0\n",
              "\n",
              "[5 rows x 10 columns]"
            ]
          },
          "metadata": {
            "tags": []
          },
          "execution_count": 93
        }
      ]
    },
    {
      "cell_type": "code",
      "metadata": {
        "id": "NHMHARKC1gad"
      },
      "source": [
        "df.to_csv('/content/sample_data/breast_cancer.csv')"
      ],
      "execution_count": 94,
      "outputs": []
    },
    {
      "cell_type": "code",
      "metadata": {
        "colab": {
          "base_uri": "https://localhost:8080/"
        },
        "id": "iG2YtF3nhjuc",
        "outputId": "57f7cfd6-86df-4e88-8947-01c0e91dac4e"
      },
      "source": [
        "X = df.drop('Class', axis=1)\n",
        "y = df['Class']\n",
        "\n",
        "X.shape, y.shape"
      ],
      "execution_count": 95,
      "outputs": [
        {
          "output_type": "execute_result",
          "data": {
            "text/plain": [
              "((201, 9), (201,))"
            ]
          },
          "metadata": {
            "tags": []
          },
          "execution_count": 95
        }
      ]
    },
    {
      "cell_type": "code",
      "metadata": {
        "colab": {
          "base_uri": "https://localhost:8080/"
        },
        "id": "cPBKiItHo-Yz",
        "outputId": "a81f1e7b-98ea-4f19-a9d2-f37d8af044be"
      },
      "source": [
        "df.isna().sum()"
      ],
      "execution_count": 96,
      "outputs": [
        {
          "output_type": "execute_result",
          "data": {
            "text/plain": [
              "Class          0\n",
              "age            0\n",
              "menopause      0\n",
              "tumor-size     0\n",
              "inv-nodes      0\n",
              "node-caps      0\n",
              "deg-malig      0\n",
              "breast         0\n",
              "breast-quad    0\n",
              "irradiat       0\n",
              "dtype: int64"
            ]
          },
          "metadata": {
            "tags": []
          },
          "execution_count": 96
        }
      ]
    },
    {
      "cell_type": "code",
      "metadata": {
        "id": "oFaFvH2Ilmnr"
      },
      "source": [
        "from sklearn.model_selection import cross_val_score\n",
        "from sklearn.preprocessing import OneHotEncoder\n"
      ],
      "execution_count": 97,
      "outputs": []
    },
    {
      "cell_type": "code",
      "metadata": {
        "id": "1_l-NQD_j5gL"
      },
      "source": [
        "from sklearn.compose import make_column_transformer"
      ],
      "execution_count": 98,
      "outputs": []
    },
    {
      "cell_type": "code",
      "metadata": {
        "id": "q_bkfji7j5jC"
      },
      "source": [
        "# column_trans = make_column_transformer(\n",
        "#     (OneHotEncoder(), ['menopause', 'node-caps', 'breast', 'breast-quad', 'irradiat', 'tumor-size', 'inv-nodes']),\n",
        "#     remainder='passthrough'\n",
        ")"
      ],
      "execution_count": 79,
      "outputs": []
    },
    {
      "cell_type": "code",
      "metadata": {
        "colab": {
          "base_uri": "https://localhost:8080/"
        },
        "id": "FRRjWZTmj5mF",
        "outputId": "0a150cc3-637c-49f1-f2f2-2eed6de9d879"
      },
      "source": [
        "# column_trans.fit_transform(X)"
      ],
      "execution_count": null,
      "outputs": [
        {
          "output_type": "execute_result",
          "data": {
            "text/plain": [
              "array([[ 0. ,  0. ,  1. , ...,  0. , 45.5,  2. ],\n",
              "       [ 0. ,  0. ,  1. , ...,  0. , 45.5,  2. ],\n",
              "       [ 1. ,  0. ,  0. , ...,  0. , 65.5,  2. ],\n",
              "       ...,\n",
              "       [ 1. ,  0. ,  0. , ...,  1. , 55.5,  3. ],\n",
              "       [ 0. ,  0. ,  1. , ...,  0. , 35.5,  3. ],\n",
              "       [ 1. ,  0. ,  0. , ...,  0. , 65.5,  1. ]])"
            ]
          },
          "metadata": {
            "tags": []
          },
          "execution_count": 18
        }
      ]
    },
    {
      "cell_type": "code",
      "metadata": {
        "colab": {
          "base_uri": "https://localhost:8080/"
        },
        "id": "hDEPLhIoeFhI",
        "outputId": "880bc101-1989-4fe7-d73e-034b5a40a479"
      },
      "source": [
        "X_train, X_test, y_train, y_test = train_test_split(X, y, test_size=0.2, random_state=0)\n",
        "\n",
        "X_train.shape, X_test.shape, y_train.shape, y_test.shape"
      ],
      "execution_count": 99,
      "outputs": [
        {
          "output_type": "execute_result",
          "data": {
            "text/plain": [
              "((160, 9), (41, 9), (160,), (41,))"
            ]
          },
          "metadata": {
            "tags": []
          },
          "execution_count": 99
        }
      ]
    },
    {
      "cell_type": "code",
      "metadata": {
        "id": "q4FyV9XAj5oy"
      },
      "source": [
        "from sklearn.pipeline import make_pipeline"
      ],
      "execution_count": 100,
      "outputs": []
    },
    {
      "cell_type": "code",
      "metadata": {
        "id": "d0jj_5dDnAmX"
      },
      "source": [
        "rf = RandomForestClassifier()"
      ],
      "execution_count": 101,
      "outputs": []
    },
    {
      "cell_type": "code",
      "metadata": {
        "id": "jT8prwck6KGx"
      },
      "source": [
        "pipe_rf = make_pipeline(StandardScaler(), rf)"
      ],
      "execution_count": 102,
      "outputs": []
    },
    {
      "cell_type": "code",
      "metadata": {
        "colab": {
          "base_uri": "https://localhost:8080/"
        },
        "id": "4BxfNcgx6Uv5",
        "outputId": "7813bca9-47c7-4c6c-fbc9-c6d1caefdd97"
      },
      "source": [
        "pipe_rf.fit(X_train, y_train)"
      ],
      "execution_count": 103,
      "outputs": [
        {
          "output_type": "execute_result",
          "data": {
            "text/plain": [
              "Pipeline(memory=None,\n",
              "         steps=[('standardscaler',\n",
              "                 StandardScaler(copy=True, with_mean=True, with_std=True)),\n",
              "                ('randomforestclassifier',\n",
              "                 RandomForestClassifier(bootstrap=True, ccp_alpha=0.0,\n",
              "                                        class_weight=None, criterion='gini',\n",
              "                                        max_depth=None, max_features='auto',\n",
              "                                        max_leaf_nodes=None, max_samples=None,\n",
              "                                        min_impurity_decrease=0.0,\n",
              "                                        min_impurity_split=None,\n",
              "                                        min_samples_leaf=1, min_samples_split=2,\n",
              "                                        min_weight_fraction_leaf=0.0,\n",
              "                                        n_estimators=100, n_jobs=None,\n",
              "                                        oob_score=False, random_state=None,\n",
              "                                        verbose=0, warm_start=False))],\n",
              "         verbose=False)"
            ]
          },
          "metadata": {
            "tags": []
          },
          "execution_count": 103
        }
      ]
    },
    {
      "cell_type": "code",
      "metadata": {
        "id": "CFBt9_a8j5rm"
      },
      "source": [
        "#pipe = make_pipeline(column_trans, rf)"
      ],
      "execution_count": null,
      "outputs": []
    },
    {
      "cell_type": "code",
      "metadata": {
        "colab": {
          "base_uri": "https://localhost:8080/"
        },
        "id": "WqObSrg56dUJ",
        "outputId": "92f9b575-956a-4b00-e60c-9a83a230bb8e"
      },
      "source": [
        "pipe_rf.predict(X_test)"
      ],
      "execution_count": 104,
      "outputs": [
        {
          "output_type": "execute_result",
          "data": {
            "text/plain": [
              "array([0, 0, 0, 0, 1, 0, 0, 0, 0, 0, 0, 0, 1, 0, 0, 0, 0, 0, 0, 0, 0, 0,\n",
              "       0, 0, 0, 0, 0, 0, 0, 0, 0, 0, 0, 1, 0, 0, 0, 0, 0, 0, 0])"
            ]
          },
          "metadata": {
            "tags": []
          },
          "execution_count": 104
        }
      ]
    },
    {
      "cell_type": "code",
      "metadata": {
        "colab": {
          "base_uri": "https://localhost:8080/"
        },
        "id": "eSPH81Zs68Zq",
        "outputId": "5939fc8f-fe03-47b0-a9f3-1a5247d1fcf6"
      },
      "source": [
        "pipe_rf.score(X_test, y_test)"
      ],
      "execution_count": 107,
      "outputs": [
        {
          "output_type": "execute_result",
          "data": {
            "text/plain": [
              "0.7560975609756098"
            ]
          },
          "metadata": {
            "tags": []
          },
          "execution_count": 107
        }
      ]
    },
    {
      "cell_type": "code",
      "metadata": {
        "colab": {
          "base_uri": "https://localhost:8080/"
        },
        "id": "BzNKkzGlj5uf",
        "outputId": "cadcbd00-c8d6-4687-fef6-57e55a2f3c35"
      },
      "source": [
        "cross_val_score(pipe_rf, X_train, y_train, cv=5, scoring='accuracy').mean()"
      ],
      "execution_count": 105,
      "outputs": [
        {
          "output_type": "execute_result",
          "data": {
            "text/plain": [
              "0.78125"
            ]
          },
          "metadata": {
            "tags": []
          },
          "execution_count": 105
        }
      ]
    },
    {
      "cell_type": "code",
      "metadata": {
        "colab": {
          "base_uri": "https://localhost:8080/"
        },
        "id": "bNRjOprV3BEC",
        "outputId": "e82cf388-7551-4024-c384-9aed5d55ce37"
      },
      "source": [
        "y_test"
      ],
      "execution_count": 106,
      "outputs": [
        {
          "output_type": "execute_result",
          "data": {
            "text/plain": [
              "24     0\n",
              "228    1\n",
              "135    0\n",
              "120    0\n",
              "240    1\n",
              "249    1\n",
              "5      0\n",
              "195    0\n",
              "12     0\n",
              "201    1\n",
              "74     0\n",
              "165    0\n",
              "245    1\n",
              "204    1\n",
              "96     0\n",
              "7      0\n",
              "42     0\n",
              "172    0\n",
              "47     0\n",
              "88     0\n",
              "250    1\n",
              "193    0\n",
              "55     0\n",
              "213    1\n",
              "73     0\n",
              "161    0\n",
              "242    1\n",
              "252    1\n",
              "159    0\n",
              "54     0\n",
              "21     0\n",
              "68     0\n",
              "199    0\n",
              "140    0\n",
              "29     0\n",
              "261    1\n",
              "170    0\n",
              "4      0\n",
              "101    0\n",
              "134    0\n",
              "177    0\n",
              "Name: Class, dtype: int64"
            ]
          },
          "metadata": {
            "tags": []
          },
          "execution_count": 106
        }
      ]
    },
    {
      "cell_type": "code",
      "metadata": {
        "id": "EBgPAFR6242M",
        "colab": {
          "base_uri": "https://localhost:8080/"
        },
        "outputId": "9e070af2-1983-414a-c1db-08b163b5d870"
      },
      "source": [
        "ex1 =X_test.iloc[0].tolist()\n",
        "ex1"
      ],
      "execution_count": 112,
      "outputs": [
        {
          "output_type": "execute_result",
          "data": {
            "text/plain": [
              "[45.5, 0.0, 27.0, 2.0, 0.0, 2.0, 0.0, 1.0, 0.0]"
            ]
          },
          "metadata": {
            "tags": []
          },
          "execution_count": 112
        }
      ]
    },
    {
      "cell_type": "code",
      "metadata": {
        "colab": {
          "base_uri": "https://localhost:8080/"
        },
        "id": "e1fpPzdyeKjB",
        "outputId": "50bcdef1-bf92-48ca-86bd-e489b5c5d62b"
      },
      "source": [
        "sample1 = np.array(ex1).reshape(1, -1)\n",
        "sample1"
      ],
      "execution_count": 113,
      "outputs": [
        {
          "output_type": "execute_result",
          "data": {
            "text/plain": [
              "array([[45.5,  0. , 27. ,  2. ,  0. ,  2. ,  0. ,  1. ,  0. ]])"
            ]
          },
          "metadata": {
            "tags": []
          },
          "execution_count": 113
        }
      ]
    },
    {
      "cell_type": "code",
      "metadata": {
        "colab": {
          "base_uri": "https://localhost:8080/"
        },
        "id": "kRWTtDmx765c",
        "outputId": "e61effb8-5be8-4fa6-c200-3c5ae1689a8b"
      },
      "source": [
        "pipe_rf.predict(sample1)"
      ],
      "execution_count": 114,
      "outputs": [
        {
          "output_type": "execute_result",
          "data": {
            "text/plain": [
              "array([0])"
            ]
          },
          "metadata": {
            "tags": []
          },
          "execution_count": 114
        }
      ]
    },
    {
      "cell_type": "code",
      "metadata": {
        "colab": {
          "base_uri": "https://localhost:8080/"
        },
        "id": "3-RqYbuW768p",
        "outputId": "52e64e71-9820-491b-eba6-3d5328c12b99"
      },
      "source": [
        "ex2 =X_test.iloc[12].tolist()\n",
        "sample2 = np.array(ex2).reshape(1, -1)\n",
        "pipe_rf.predict(sample2)"
      ],
      "execution_count": 115,
      "outputs": [
        {
          "output_type": "execute_result",
          "data": {
            "text/plain": [
              "array([1])"
            ]
          },
          "metadata": {
            "tags": []
          },
          "execution_count": 115
        }
      ]
    },
    {
      "cell_type": "code",
      "metadata": {
        "colab": {
          "base_uri": "https://localhost:8080/"
        },
        "id": "j_A2be_O8cUx",
        "outputId": "bca7b829-5fb5-4147-82f3-ba2fbfb71272"
      },
      "source": [
        "sample2"
      ],
      "execution_count": 116,
      "outputs": [
        {
          "output_type": "execute_result",
          "data": {
            "text/plain": [
              "array([[35.5,  0. , 17. ,  6. ,  1. ,  3. ,  0. ,  0. ,  1. ]])"
            ]
          },
          "metadata": {
            "tags": []
          },
          "execution_count": 116
        }
      ]
    },
    {
      "cell_type": "code",
      "metadata": {
        "colab": {
          "base_uri": "https://localhost:8080/"
        },
        "id": "48j_PQO-euQh",
        "outputId": "d19a6fc6-cd23-43ec-ec12-1aba7cd4eb09"
      },
      "source": [
        "pip install SHAP\n"
      ],
      "execution_count": 118,
      "outputs": [
        {
          "output_type": "stream",
          "text": [
            "Collecting SHAP\n",
            "\u001b[?25l  Downloading https://files.pythonhosted.org/packages/b9/f4/c5b95cddae15be80f8e58b25edceca105aa83c0b8c86a1edad24a6af80d3/shap-0.39.0.tar.gz (356kB)\n",
            "\r\u001b[K     |█                               | 10kB 17.2MB/s eta 0:00:01\r\u001b[K     |█▉                              | 20kB 12.3MB/s eta 0:00:01\r\u001b[K     |██▊                             | 30kB 9.3MB/s eta 0:00:01\r\u001b[K     |███▊                            | 40kB 6.9MB/s eta 0:00:01\r\u001b[K     |████▋                           | 51kB 4.4MB/s eta 0:00:01\r\u001b[K     |█████▌                          | 61kB 4.9MB/s eta 0:00:01\r\u001b[K     |██████▍                         | 71kB 5.3MB/s eta 0:00:01\r\u001b[K     |███████▍                        | 81kB 5.4MB/s eta 0:00:01\r\u001b[K     |████████▎                       | 92kB 5.5MB/s eta 0:00:01\r\u001b[K     |█████████▏                      | 102kB 5.5MB/s eta 0:00:01\r\u001b[K     |██████████▏                     | 112kB 5.5MB/s eta 0:00:01\r\u001b[K     |███████████                     | 122kB 5.5MB/s eta 0:00:01\r\u001b[K     |████████████                    | 133kB 5.5MB/s eta 0:00:01\r\u001b[K     |████████████▉                   | 143kB 5.5MB/s eta 0:00:01\r\u001b[K     |█████████████▉                  | 153kB 5.5MB/s eta 0:00:01\r\u001b[K     |██████████████▊                 | 163kB 5.5MB/s eta 0:00:01\r\u001b[K     |███████████████▋                | 174kB 5.5MB/s eta 0:00:01\r\u001b[K     |████████████████▋               | 184kB 5.5MB/s eta 0:00:01\r\u001b[K     |█████████████████▌              | 194kB 5.5MB/s eta 0:00:01\r\u001b[K     |██████████████████▍             | 204kB 5.5MB/s eta 0:00:01\r\u001b[K     |███████████████████▎            | 215kB 5.5MB/s eta 0:00:01\r\u001b[K     |████████████████████▎           | 225kB 5.5MB/s eta 0:00:01\r\u001b[K     |█████████████████████▏          | 235kB 5.5MB/s eta 0:00:01\r\u001b[K     |██████████████████████          | 245kB 5.5MB/s eta 0:00:01\r\u001b[K     |███████████████████████         | 256kB 5.5MB/s eta 0:00:01\r\u001b[K     |████████████████████████        | 266kB 5.5MB/s eta 0:00:01\r\u001b[K     |████████████████████████▉       | 276kB 5.5MB/s eta 0:00:01\r\u001b[K     |█████████████████████████▊      | 286kB 5.5MB/s eta 0:00:01\r\u001b[K     |██████████████████████████▊     | 296kB 5.5MB/s eta 0:00:01\r\u001b[K     |███████████████████████████▋    | 307kB 5.5MB/s eta 0:00:01\r\u001b[K     |████████████████████████████▌   | 317kB 5.5MB/s eta 0:00:01\r\u001b[K     |█████████████████████████████▍  | 327kB 5.5MB/s eta 0:00:01\r\u001b[K     |██████████████████████████████▍ | 337kB 5.5MB/s eta 0:00:01\r\u001b[K     |███████████████████████████████▎| 348kB 5.5MB/s eta 0:00:01\r\u001b[K     |████████████████████████████████| 358kB 5.5MB/s \n",
            "\u001b[?25hRequirement already satisfied: numpy in /usr/local/lib/python3.7/dist-packages (from SHAP) (1.19.5)\n",
            "Requirement already satisfied: scipy in /usr/local/lib/python3.7/dist-packages (from SHAP) (1.4.1)\n",
            "Requirement already satisfied: scikit-learn in /usr/local/lib/python3.7/dist-packages (from SHAP) (0.22.2.post1)\n",
            "Requirement already satisfied: pandas in /usr/local/lib/python3.7/dist-packages (from SHAP) (1.1.5)\n",
            "Requirement already satisfied: tqdm>4.25.0 in /usr/local/lib/python3.7/dist-packages (from SHAP) (4.41.1)\n",
            "Collecting slicer==0.0.7\n",
            "  Downloading https://files.pythonhosted.org/packages/78/c2/b3f55dfdb8af9812fdb9baf70cacf3b9e82e505b2bd4324d588888b81202/slicer-0.0.7-py3-none-any.whl\n",
            "Requirement already satisfied: numba in /usr/local/lib/python3.7/dist-packages (from SHAP) (0.51.2)\n",
            "Requirement already satisfied: cloudpickle in /usr/local/lib/python3.7/dist-packages (from SHAP) (1.3.0)\n",
            "Requirement already satisfied: joblib>=0.11 in /usr/local/lib/python3.7/dist-packages (from scikit-learn->SHAP) (1.0.1)\n",
            "Requirement already satisfied: pytz>=2017.2 in /usr/local/lib/python3.7/dist-packages (from pandas->SHAP) (2018.9)\n",
            "Requirement already satisfied: python-dateutil>=2.7.3 in /usr/local/lib/python3.7/dist-packages (from pandas->SHAP) (2.8.1)\n",
            "Requirement already satisfied: setuptools in /usr/local/lib/python3.7/dist-packages (from numba->SHAP) (54.2.0)\n",
            "Requirement already satisfied: llvmlite<0.35,>=0.34.0.dev0 in /usr/local/lib/python3.7/dist-packages (from numba->SHAP) (0.34.0)\n",
            "Requirement already satisfied: six>=1.5 in /usr/local/lib/python3.7/dist-packages (from python-dateutil>=2.7.3->pandas->SHAP) (1.15.0)\n",
            "Building wheels for collected packages: SHAP\n",
            "  Building wheel for SHAP (setup.py) ... \u001b[?25l\u001b[?25hdone\n",
            "  Created wheel for SHAP: filename=shap-0.39.0-cp37-cp37m-linux_x86_64.whl size=491621 sha256=77ecaadb3f04db62317a0ef3c773ed768433ef107f91add1c31445c9d25ade14\n",
            "  Stored in directory: /root/.cache/pip/wheels/15/27/f5/a8ab9da52fd159aae6477b5ede6eaaec69fd130fa0fa59f283\n",
            "Successfully built SHAP\n",
            "Installing collected packages: slicer, SHAP\n",
            "Successfully installed SHAP-0.39.0 slicer-0.0.7\n"
          ],
          "name": "stdout"
        }
      ]
    },
    {
      "cell_type": "code",
      "metadata": {
        "id": "UxDAt4KVlSZF",
        "colab": {
          "base_uri": "https://localhost:8080/"
        },
        "outputId": "40d9192c-febf-4244-cfc1-a5e762551f6c"
      },
      "source": [
        "\n",
        "rf = RandomForestClassifier()\n",
        "rf.fit(X_train, y_train)"
      ],
      "execution_count": 119,
      "outputs": [
        {
          "output_type": "execute_result",
          "data": {
            "text/plain": [
              "RandomForestClassifier(bootstrap=True, ccp_alpha=0.0, class_weight=None,\n",
              "                       criterion='gini', max_depth=None, max_features='auto',\n",
              "                       max_leaf_nodes=None, max_samples=None,\n",
              "                       min_impurity_decrease=0.0, min_impurity_split=None,\n",
              "                       min_samples_leaf=1, min_samples_split=2,\n",
              "                       min_weight_fraction_leaf=0.0, n_estimators=100,\n",
              "                       n_jobs=None, oob_score=False, random_state=None,\n",
              "                       verbose=0, warm_start=False)"
            ]
          },
          "metadata": {
            "tags": []
          },
          "execution_count": 119
        }
      ]
    },
    {
      "cell_type": "code",
      "metadata": {
        "colab": {
          "base_uri": "https://localhost:8080/",
          "height": 314
        },
        "id": "BqodhBs2A2aj",
        "outputId": "f21bfd9d-9b43-4248-9a02-d867397339dd"
      },
      "source": [
        "feature_importances = pd.DataFrame(rf.feature_importances_, index =X.columns,  columns=['importance']).sort_values('importance', ascending=False)\n",
        "feature_importances"
      ],
      "execution_count": 139,
      "outputs": [
        {
          "output_type": "execute_result",
          "data": {
            "text/html": [
              "<div>\n",
              "<style scoped>\n",
              "    .dataframe tbody tr th:only-of-type {\n",
              "        vertical-align: middle;\n",
              "    }\n",
              "\n",
              "    .dataframe tbody tr th {\n",
              "        vertical-align: top;\n",
              "    }\n",
              "\n",
              "    .dataframe thead th {\n",
              "        text-align: right;\n",
              "    }\n",
              "</style>\n",
              "<table border=\"1\" class=\"dataframe\">\n",
              "  <thead>\n",
              "    <tr style=\"text-align: right;\">\n",
              "      <th></th>\n",
              "      <th>importance</th>\n",
              "    </tr>\n",
              "  </thead>\n",
              "  <tbody>\n",
              "    <tr>\n",
              "      <th>tumor-size</th>\n",
              "      <td>0.203219</td>\n",
              "    </tr>\n",
              "    <tr>\n",
              "      <th>breast-quad</th>\n",
              "      <td>0.167800</td>\n",
              "    </tr>\n",
              "    <tr>\n",
              "      <th>deg-malig</th>\n",
              "      <td>0.126073</td>\n",
              "    </tr>\n",
              "    <tr>\n",
              "      <th>age</th>\n",
              "      <td>0.124263</td>\n",
              "    </tr>\n",
              "    <tr>\n",
              "      <th>inv-nodes</th>\n",
              "      <td>0.105848</td>\n",
              "    </tr>\n",
              "    <tr>\n",
              "      <th>breast</th>\n",
              "      <td>0.086878</td>\n",
              "    </tr>\n",
              "    <tr>\n",
              "      <th>menopause</th>\n",
              "      <td>0.066035</td>\n",
              "    </tr>\n",
              "    <tr>\n",
              "      <th>irradiat</th>\n",
              "      <td>0.065260</td>\n",
              "    </tr>\n",
              "    <tr>\n",
              "      <th>node-caps</th>\n",
              "      <td>0.054624</td>\n",
              "    </tr>\n",
              "  </tbody>\n",
              "</table>\n",
              "</div>"
            ],
            "text/plain": [
              "             importance\n",
              "tumor-size     0.203219\n",
              "breast-quad    0.167800\n",
              "deg-malig      0.126073\n",
              "age            0.124263\n",
              "inv-nodes      0.105848\n",
              "breast         0.086878\n",
              "menopause      0.066035\n",
              "irradiat       0.065260\n",
              "node-caps      0.054624"
            ]
          },
          "metadata": {
            "tags": []
          },
          "execution_count": 139
        }
      ]
    },
    {
      "cell_type": "code",
      "metadata": {
        "colab": {
          "base_uri": "https://localhost:8080/",
          "height": 282
        },
        "id": "TZJ-4Dx8BEte",
        "outputId": "8649ea8c-5acc-4739-cb62-1ef611656958"
      },
      "source": [
        "feature_importances.sort_values('importance', ascending=True).plot(kind='barh')"
      ],
      "execution_count": 142,
      "outputs": [
        {
          "output_type": "execute_result",
          "data": {
            "text/plain": [
              "<matplotlib.axes._subplots.AxesSubplot at 0x7fc2c23af790>"
            ]
          },
          "metadata": {
            "tags": []
          },
          "execution_count": 142
        },
        {
          "output_type": "display_data",
          "data": {
            "image/png": "[encoded data removed]",
            "text/plain": [
              "<Figure size 432x288 with 1 Axes>"
            ]
          },
          "metadata": {
            "tags": []
          }
        }
      ]
    },
    {
      "cell_type": "code",
      "metadata": {
        "id": "ew-8SNJiCIAO"
      },
      "source": [
        "from sklearn.metrics import roc_auc_score, roc_curve"
      ],
      "execution_count": 156,
      "outputs": []
    },
    {
      "cell_type": "code",
      "metadata": {
        "id": "c0O84XiBIZb1"
      },
      "source": [
        "probs_rf = rf.predict_proba(X_test)[:, 1]\n",
        "auc_rf = roc_auc_score(y_test, probs_rf)"
      ],
      "execution_count": 162,
      "outputs": []
    },
    {
      "cell_type": "code",
      "metadata": {
        "id": "KFKqaefUCH6k"
      },
      "source": [
        "def plot_roc_curve(fpr, tpr):  \n",
        "    plt.plot(fpr, tpr, color='red', label=f'AUC (Random Forests) = {auc_rf:.2f}')\n",
        "    plt.plot([0, 1], [0, 1], color='darkblue', linestyle='--', label='baseline')\n",
        "    plt.xlabel('False Positive Rate')\n",
        "    plt.ylabel('True Positive Rate')\n",
        "    plt.title('Receiver Operating Characteristic (ROC) Curve')\n",
        "    plt.legend()\n",
        "    plt.show()"
      ],
      "execution_count": 174,
      "outputs": []
    },
    {
      "cell_type": "code",
      "metadata": {
        "colab": {
          "base_uri": "https://localhost:8080/",
          "height": 299
        },
        "id": "LYQdUPQvCH9d",
        "outputId": "bc41ffaa-900a-408d-b89d-8cd29bcf4dba"
      },
      "source": [
        "probs = rf.predict_proba(X_test)  \n",
        "probs = probs[:, 1]  \n",
        "fpr, tpr, thresholds = roc_curve(y_test, probs) \n",
        "plot_roc_curve(fpr, tpr)"
      ],
      "execution_count": 175,
      "outputs": [
        {
          "output_type": "display_data",
          "data": {
            "image/png": "[encoded data removed]",
            "text/plain": [
              "<Figure size 432x288 with 1 Axes>"
            ]
          },
          "metadata": {
            "tags": []
          }
        }
      ]
    },
    {
      "cell_type": "code",
      "metadata": {
        "id": "4ilwgus6fSCh"
      },
      "source": [
        "import shap\n",
        "explainer = shap.TreeExplainer(rf)\n",
        "shap_values = explainer.shap_values(X_test)"
      ],
      "execution_count": 120,
      "outputs": []
    },
    {
      "cell_type": "code",
      "metadata": {
        "colab": {
          "base_uri": "https://localhost:8080/",
          "height": 342
        },
        "id": "pFEPctK8ona4",
        "outputId": "d9e4cf4f-9ae7-4c21-f022-c50eddcc35ea"
      },
      "source": [
        "shap.summary_plot(shap_values, X_test, plot_type=\"bar\")"
      ],
      "execution_count": 121,
      "outputs": [
        {
          "output_type": "display_data",
          "data": {
            "image/png": "[encoded data removed]",
            "text/plain": [
              "<Figure size 576x367.2 with 1 Axes>"
            ]
          },
          "metadata": {
            "tags": []
          }
        }
      ]
    },
    {
      "cell_type": "code",
      "metadata": {
        "id": "U7FPXDoPggB3",
        "colab": {
          "base_uri": "https://localhost:8080/",
          "height": 342
        },
        "outputId": "04b890fd-7f57-4178-871d-53ab3fe2a01f"
      },
      "source": [
        "f = plt.figure()\n",
        "shap.summary_plot(shap_values, X_test)\n",
        "f.savefig(\"/summary_plot1.png\", bbox_inches='tight', dpi=600)"
      ],
      "execution_count": 122,
      "outputs": [
        {
          "output_type": "display_data",
          "data": {
            "image/png": "[encoded data removed]",
            "text/plain": [
              "<Figure size 576x367.2 with 1 Axes>"
            ]
          },
          "metadata": {
            "tags": []
          }
        }
      ]
    },
    {
      "cell_type": "code",
      "metadata": {
        "id": "2KXRXJMju2l8",
        "colab": {
          "base_uri": "https://localhost:8080/"
        },
        "outputId": "705da6a1-4992-41d4-b429-2d3d0aa5d672"
      },
      "source": [
        "from imblearn.over_sampling import SMOTE\n",
        "sm = SMOTE(random_state=0)\n",
        "X_train_res, y_train_res = sm.fit_sample(X_train, np.ravel(y_train))\n",
        "X_test_res, y_test_res = sm.fit_sample(X_test, np.ravel(y_test))"
      ],
      "execution_count": 211,
      "outputs": [
        {
          "output_type": "stream",
          "text": [
            "Function safe_indexing is deprecated; safe_indexing is deprecated in version 0.22 and will be removed in version 0.24.\n",
            "Function safe_indexing is deprecated; safe_indexing is deprecated in version 0.22 and will be removed in version 0.24.\n"
          ],
          "name": "stderr"
        }
      ]
    },
    {
      "cell_type": "code",
      "metadata": {
        "colab": {
          "base_uri": "https://localhost:8080/"
        },
        "id": "yiLMJYXF-jLq",
        "outputId": "7437d629-2be0-43b5-a1a0-4877d8606606"
      },
      "source": [
        "\n",
        "print(\"Before OverSampling, counts of Recurrent Class '1': \",y_train.value_counts()[0])\n",
        "print(\"Before OverSampling, counts of No-Recurrent Class '0': \\n\", y_train.value_counts()[1])"
      ],
      "execution_count": 124,
      "outputs": [
        {
          "output_type": "stream",
          "text": [
            "Before OverSampling, counts of Recurrent Class '1':  121\n",
            "Before OverSampling, counts of No-Recurrent Class '0': \n",
            " 39\n"
          ],
          "name": "stdout"
        }
      ]
    },
    {
      "cell_type": "code",
      "metadata": {
        "colab": {
          "base_uri": "https://localhost:8080/"
        },
        "id": "iJTR4yHP-eVb",
        "outputId": "926a13da-e339-4898-c037-9838468580a6"
      },
      "source": [
        "print('After OverSampling, the shape of features_X: {}'.format(X_train_res.shape))\n",
        "print('After OverSampling, the shape of Output_y: {} \\n'.format(y_train_res.shape))\n",
        "\n",
        "print(\"After OverSampling, counts of Recurrent Class '1': {}\".format(sum(y_train_res==1)))\n",
        "print(\"After OverSampling, counts of Non-Recurrent Class '0': {}\".format(sum(y_train_res==0)))"
      ],
      "execution_count": 125,
      "outputs": [
        {
          "output_type": "stream",
          "text": [
            "After OverSampling, the shape of features_X: (242, 9)\n",
            "After OverSampling, the shape of Output_y: (242,) \n",
            "\n",
            "After OverSampling, counts of Recurrent Class '1': 121\n",
            "After OverSampling, counts of Non-Recurrent Class '0': 121\n"
          ],
          "name": "stdout"
        }
      ]
    },
    {
      "cell_type": "code",
      "metadata": {
        "id": "HU1oT5g0-1U2"
      },
      "source": [
        "pipe_rf_oversampling = pipe_rf.fit(X_train_res, y_train_res)"
      ],
      "execution_count": 126,
      "outputs": []
    },
    {
      "cell_type": "code",
      "metadata": {
        "colab": {
          "base_uri": "https://localhost:8080/"
        },
        "id": "miQhBCzF_JQF",
        "outputId": "e837264b-c7b2-4cf6-8992-2921e5d9a019"
      },
      "source": [
        "pipe_rf_oversampling.score(X_test, y_test)"
      ],
      "execution_count": 127,
      "outputs": [
        {
          "output_type": "execute_result",
          "data": {
            "text/plain": [
              "0.7317073170731707"
            ]
          },
          "metadata": {
            "tags": []
          },
          "execution_count": 127
        }
      ]
    },
    {
      "cell_type": "code",
      "metadata": {
        "colab": {
          "base_uri": "https://localhost:8080/"
        },
        "id": "6XfaYLXN_N8P",
        "outputId": "3b8c6ddf-39cd-4d2e-c72c-170382df788e"
      },
      "source": [
        "cross_val_score(pipe_rf, X_train_res, y_train_res, cv=5, scoring='accuracy').mean()"
      ],
      "execution_count": 128,
      "outputs": [
        {
          "output_type": "execute_result",
          "data": {
            "text/plain": [
              "0.8357142857142856"
            ]
          },
          "metadata": {
            "tags": []
          },
          "execution_count": 128
        }
      ]
    },
    {
      "cell_type": "code",
      "metadata": {
        "id": "FQrPNeoJ_YKv"
      },
      "source": [
        "from xgboost.sklearn import XGBClassifier\n",
        "from collections import  Counter\n",
        "from sklearn.model_selection import RepeatedStratifiedKFold, GridSearchCV\n",
        "\n",
        "model = XGBClassifier(scale_pos_weight=3)"
      ],
      "execution_count": 197,
      "outputs": []
    },
    {
      "cell_type": "code",
      "metadata": {
        "id": "QLvRcsTpKyM3"
      },
      "source": [
        "counter = Counter(y_train)"
      ],
      "execution_count": 187,
      "outputs": []
    },
    {
      "cell_type": "code",
      "metadata": {
        "colab": {
          "base_uri": "https://localhost:8080/"
        },
        "id": "VKAbVribLXPI",
        "outputId": "ed7b6a83-03cf-44a8-8da4-efc1318229dd"
      },
      "source": [
        "\n",
        "counter\n",
        "estimate = counter[0]/counter[1]\n",
        "\n",
        "print('Estimate: ', estimate)"
      ],
      "execution_count": 188,
      "outputs": [
        {
          "output_type": "stream",
          "text": [
            "Estimate:  3.1025641025641026\n"
          ],
          "name": "stdout"
        }
      ]
    },
    {
      "cell_type": "code",
      "metadata": {
        "id": "Zn_A2SmHLYNI"
      },
      "source": [
        "cv = RepeatedStratifiedKFold(n_splits=10, n_repeats=3, random_state=1)\n",
        "# evaluate model\n",
        "scores = cross_val_score(model, X_train, y_train, scoring='roc_auc', cv=cv, n_jobs=-1)"
      ],
      "execution_count": 192,
      "outputs": []
    },
    {
      "cell_type": "code",
      "metadata": {
        "colab": {
          "base_uri": "https://localhost:8080/"
        },
        "id": "YV57ANJANQwF",
        "outputId": "f725ef87-39c8-42c3-c526-be0bcead8f0e"
      },
      "source": [
        "print('Mean ROC AUC: %.5f' % np.mean(scores))"
      ],
      "execution_count": 194,
      "outputs": [
        {
          "output_type": "stream",
          "text": [
            "Mean ROC AUC: 0.65232\n"
          ],
          "name": "stdout"
        }
      ]
    },
    {
      "cell_type": "code",
      "metadata": {
        "id": "GqbL2NQYNUah"
      },
      "source": [
        "...\n",
        "# define grid\n",
        "weights = [1, 3, 5, 10, 50, 99, 100, 1000]\n",
        "param_grid = dict(scale_pos_weight=weights)\n",
        "\n"
      ],
      "execution_count": 195,
      "outputs": []
    },
    {
      "cell_type": "code",
      "metadata": {
        "id": "oR2kMNh9N0GG"
      },
      "source": [
        "# define evaluation procedure\n",
        "cv = RepeatedStratifiedKFold(n_splits=10, n_repeats=3, random_state=1)\n",
        "# define grid search\n",
        "grid = GridSearchCV(estimator=model, param_grid=param_grid, n_jobs=-1, cv=cv, scoring='roc_auc')\n",
        "\n",
        "grid_result = grid.fit(X_train, y_train)"
      ],
      "execution_count": 200,
      "outputs": []
    },
    {
      "cell_type": "code",
      "metadata": {
        "id": "LvnclysKPIp3"
      },
      "source": [
        ""
      ],
      "execution_count": null,
      "outputs": []
    },
    {
      "cell_type": "code",
      "metadata": {
        "colab": {
          "base_uri": "https://localhost:8080/"
        },
        "id": "5r41XXS8N-E-",
        "outputId": "aa6350fa-1ca1-4d43-8212-7e67cc67a7a3"
      },
      "source": [
        "\n",
        "# report the best configuration\n",
        "print(\"Best: %f using %s\" % (grid_result.best_score_, grid_result.best_params_))\n",
        "# report all configurations\n",
        "means = grid_result.cv_results_['mean_test_score']\n",
        "stds = grid_result.cv_results_['std_test_score']\n",
        "params = grid_result.cv_results_['params']\n",
        "for mean, stdev, param in zip(means, stds, params):\n",
        "    print(\"%f (%f) with: %r\" % (mean, stdev, param))"
      ],
      "execution_count": 201,
      "outputs": [
        {
          "output_type": "stream",
          "text": [
            "Best: 0.689984 using {'scale_pos_weight': 1}\n",
            "0.689984 (0.116815) with: {'scale_pos_weight': 1}\n",
            "0.652324 (0.134904) with: {'scale_pos_weight': 3}\n",
            "0.659268 (0.129099) with: {'scale_pos_weight': 5}\n",
            "0.667067 (0.123359) with: {'scale_pos_weight': 10}\n",
            "0.659028 (0.132871) with: {'scale_pos_weight': 50}\n",
            "0.659188 (0.125890) with: {'scale_pos_weight': 99}\n",
            "0.661939 (0.130861) with: {'scale_pos_weight': 100}\n",
            "0.656624 (0.124697) with: {'scale_pos_weight': 1000}\n"
          ],
          "name": "stdout"
        }
      ]
    },
    {
      "cell_type": "code",
      "metadata": {
        "colab": {
          "base_uri": "https://localhost:8080/"
        },
        "id": "nqoArsoVOljB",
        "outputId": "f2db1cd5-d643-483d-8ed9-702673f72730"
      },
      "source": [
        "xgb = XGBClassifier(scale_pos_weight=1)\n",
        "scores1 = cross_val_score(xgb, X_train_res, y_train_res, scoring='roc_auc', cv=cv, n_jobs=-1)\n",
        "print('Mean ROC AUC: %.5f' % np.mean(scores1))"
      ],
      "execution_count": 202,
      "outputs": [
        {
          "output_type": "stream",
          "text": [
            "Mean ROC AUC: 0.90919\n"
          ],
          "name": "stdout"
        }
      ]
    },
    {
      "cell_type": "code",
      "metadata": {
        "id": "CCoTUCrgPJq1"
      },
      "source": [
        "grid = GridSearchCV(estimator=xgb, param_grid=param_grid, n_jobs=-1, cv=cv, scoring='roc_auc')\n",
        "\n",
        "result = grid.fit(X_train_res, y_train_res)"
      ],
      "execution_count": 228,
      "outputs": []
    },
    {
      "cell_type": "code",
      "metadata": {
        "colab": {
          "base_uri": "https://localhost:8080/"
        },
        "id": "h3T0-NPdPJuL",
        "outputId": "61588c1a-e135-4404-ad87-65f7092ac20b"
      },
      "source": [
        "# report the best configuration\n",
        "print(\"Best: %f using %s\" % (result.best_score_, result.best_params_))\n",
        "# report all configurations\n",
        "means = result.cv_results_['mean_test_score']\n",
        "stds = result.cv_results_['std_test_score']\n",
        "params = result.cv_results_['params']\n",
        "for mean, stdev, param in zip(means, stds, params):\n",
        "    print(\"%f (%f) with: %r\" % (mean, stdev, param))"
      ],
      "execution_count": 229,
      "outputs": [
        {
          "output_type": "stream",
          "text": [
            "Best: 0.909188 using {'scale_pos_weight': 1}\n",
            "0.909188 (0.065264) with: {'scale_pos_weight': 1}\n",
            "0.902422 (0.075116) with: {'scale_pos_weight': 3}\n",
            "0.898789 (0.080007) with: {'scale_pos_weight': 5}\n",
            "0.896118 (0.079212) with: {'scale_pos_weight': 10}\n",
            "0.896457 (0.073352) with: {'scale_pos_weight': 50}\n",
            "0.896795 (0.070242) with: {'scale_pos_weight': 99}\n",
            "0.895121 (0.069139) with: {'scale_pos_weight': 100}\n",
            "0.888221 (0.073465) with: {'scale_pos_weight': 1000}\n"
          ],
          "name": "stdout"
        }
      ]
    },
    {
      "cell_type": "code",
      "metadata": {
        "colab": {
          "base_uri": "https://localhost:8080/"
        },
        "id": "hoEMRBFYPJxV",
        "outputId": "9405e8e9-875f-40fd-f3b8-d955c1a3bae7"
      },
      "source": [
        "xgb.fit(X_train_res, y_train_res)\n",
        "xgb.predict(X_test_res)"
      ],
      "execution_count": 212,
      "outputs": [
        {
          "output_type": "execute_result",
          "data": {
            "text/plain": [
              "array([0, 0, 0, 0, 1, 0, 0, 0, 0, 0, 0, 1, 1, 0, 0, 0, 0, 0, 0, 0, 0, 0,\n",
              "       0, 0, 0, 0, 1, 0, 0, 0, 0, 0, 0, 0, 0, 0, 0, 0, 0, 0, 0, 1, 1, 1,\n",
              "       0, 0, 0, 0, 1, 1, 1, 1, 1, 1, 1, 1, 1, 1, 1, 0])"
            ]
          },
          "metadata": {
            "tags": []
          },
          "execution_count": 212
        }
      ]
    },
    {
      "cell_type": "code",
      "metadata": {
        "colab": {
          "base_uri": "https://localhost:8080/"
        },
        "id": "SG6BIhftPJz2",
        "outputId": "3a5d564b-e82e-4f20-cde1-b6be5a2ee0d5"
      },
      "source": [
        "xgb.base_score"
      ],
      "execution_count": 213,
      "outputs": [
        {
          "output_type": "execute_result",
          "data": {
            "text/plain": [
              "0.5"
            ]
          },
          "metadata": {
            "tags": []
          },
          "execution_count": 213
        }
      ]
    },
    {
      "cell_type": "code",
      "metadata": {
        "colab": {
          "base_uri": "https://localhost:8080/"
        },
        "id": "wllE1_kVREpo",
        "outputId": "1c95cb09-24cc-4921-af0f-ba90905cdda0"
      },
      "source": [
        "xgb.get_params"
      ],
      "execution_count": 217,
      "outputs": [
        {
          "output_type": "execute_result",
          "data": {
            "text/plain": [
              "<bound method XGBModel.get_params of XGBClassifier(base_score=0.5, booster='gbtree', colsample_bylevel=1,\n",
              "              colsample_bynode=1, colsample_bytree=1, gamma=0,\n",
              "              learning_rate=0.1, max_delta_step=0, max_depth=3,\n",
              "              min_child_weight=1, missing=None, n_estimators=100, n_jobs=1,\n",
              "              nthread=None, objective='binary:logistic', random_state=0,\n",
              "              reg_alpha=0, reg_lambda=1, scale_pos_weight=1, seed=None,\n",
              "              silent=None, subsample=1, verbosity=1)>"
            ]
          },
          "metadata": {
            "tags": []
          },
          "execution_count": 217
        }
      ]
    },
    {
      "cell_type": "code",
      "metadata": {
        "id": "oet85PCHRI6x"
      },
      "source": [
        "pipe_xgb = make_pipeline(StandardScaler(), xgb)"
      ],
      "execution_count": 220,
      "outputs": []
    },
    {
      "cell_type": "code",
      "metadata": {
        "colab": {
          "base_uri": "https://localhost:8080/"
        },
        "id": "NAM3MOulRz52",
        "outputId": "fa8c5a82-9606-43ee-f41e-83a422ca15b0"
      },
      "source": [
        "pipe_xgb.fit(X_train_res, y_train_res)"
      ],
      "execution_count": 223,
      "outputs": [
        {
          "output_type": "execute_result",
          "data": {
            "text/plain": [
              "Pipeline(memory=None,\n",
              "         steps=[('standardscaler',\n",
              "                 StandardScaler(copy=True, with_mean=True, with_std=True)),\n",
              "                ('xgbclassifier',\n",
              "                 XGBClassifier(base_score=0.5, booster='gbtree',\n",
              "                               colsample_bylevel=1, colsample_bynode=1,\n",
              "                               colsample_bytree=1, gamma=0, learning_rate=0.1,\n",
              "                               max_delta_step=0, max_depth=3,\n",
              "                               min_child_weight=1, missing=None,\n",
              "                               n_estimators=100, n_jobs=1, nthread=None,\n",
              "                               objective='binary:logistic', random_state=0,\n",
              "                               reg_alpha=0, reg_lambda=1, scale_pos_weight=1,\n",
              "                               seed=None, silent=None, subsample=1,\n",
              "                               verbosity=1))],\n",
              "         verbose=False)"
            ]
          },
          "metadata": {
            "tags": []
          },
          "execution_count": 223
        }
      ]
    },
    {
      "cell_type": "code",
      "metadata": {
        "colab": {
          "base_uri": "https://localhost:8080/"
        },
        "id": "7K15nTI3R5tw",
        "outputId": "2dd7bebf-bc97-4be4-b491-11b362f278fc"
      },
      "source": [
        "pipe_xgb.score(X_test, y_test)"
      ],
      "execution_count": 230,
      "outputs": [
        {
          "output_type": "execute_result",
          "data": {
            "text/plain": [
              "0.7804878048780488"
            ]
          },
          "metadata": {
            "tags": []
          },
          "execution_count": 230
        }
      ]
    },
    {
      "cell_type": "code",
      "metadata": {
        "colab": {
          "base_uri": "https://localhost:8080/"
        },
        "id": "rvBSyvj4SNEQ",
        "outputId": "7279c3ac-e438-4449-9187-64c1a6d71faa"
      },
      "source": [
        "pipe_xgb.predict(X_test)"
      ],
      "execution_count": 231,
      "outputs": [
        {
          "output_type": "execute_result",
          "data": {
            "text/plain": [
              "array([0, 0, 0, 0, 1, 0, 0, 0, 0, 0, 0, 1, 1, 0, 0, 0, 0, 0, 0, 0, 0, 0,\n",
              "       0, 0, 0, 0, 1, 0, 0, 0, 0, 0, 0, 0, 0, 0, 0, 0, 0, 0, 0])"
            ]
          },
          "metadata": {
            "tags": []
          },
          "execution_count": 231
        }
      ]
    },
    {
      "cell_type": "code",
      "metadata": {
        "colab": {
          "base_uri": "https://localhost:8080/"
        },
        "id": "NA4p54YLSVBA",
        "outputId": "2d29f377-7877-47d8-ab6b-362105babf6e"
      },
      "source": [
        "scores2 = cross_val_score(rf, X_train_res, y_train_res, scoring='roc_auc', cv=cv, n_jobs=-1)\n",
        "print('Mean ROC AUC: %.5f' % np.mean(scores2))"
      ],
      "execution_count": 233,
      "outputs": [
        {
          "output_type": "stream",
          "text": [
            "Mean ROC AUC: 0.91368\n"
          ],
          "name": "stdout"
        }
      ]
    },
    {
      "cell_type": "code",
      "metadata": {
        "id": "CZUdWHWNTqm_"
      },
      "source": [
        "grid = {'n_estimators': [100, 200, 300, 400, 500], 'criterion': ['gini', 'entropy'], 'max_leaf_nodes': [int, None], 'bootstrap': [True, False] }\n",
        "cv = RepeatedStratifiedKFold(n_splits=10, n_repeats=3, random_state=1)\n",
        "# define search\n",
        "search = GridSearchCV(rf, grid, scoring='accuracy', cv=cv, n_jobs=-1)\n",
        "\n",
        "# fit the search\n",
        "rf_results = search.fit(X_train_res, y_train_res)\n",
        "\n",
        "# summarize\n"
      ],
      "execution_count": 236,
      "outputs": []
    },
    {
      "cell_type": "code",
      "metadata": {
        "colab": {
          "base_uri": "https://localhost:8080/"
        },
        "id": "D_TJYfG7UAz-",
        "outputId": "3b3c2658-de2d-4f3f-8124-48d2c3e01ad3"
      },
      "source": [
        "print('The best estimator of the random forest model: ', rf_results.best_estimator_)\n",
        "print()\n",
        "print('-'*100)\n",
        "print('The best index of the random forest model: ', rf_results.best_index_)\n",
        "print()\n",
        "print('-'*100)\n",
        "print('The best parameter of the random forest model: ', rf_results.best_params_)\n",
        "print()\n",
        "print('-'*100)\n",
        "print('The best score of the random forest model: ', rf_results.best_score_)\n"
      ],
      "execution_count": 237,
      "outputs": [
        {
          "output_type": "stream",
          "text": [
            "The best estimator of the random forest model:  RandomForestClassifier(bootstrap=True, ccp_alpha=0.0, class_weight=None,\n",
            "                       criterion='entropy', max_depth=None, max_features='auto',\n",
            "                       max_leaf_nodes=None, max_samples=None,\n",
            "                       min_impurity_decrease=0.0, min_impurity_split=None,\n",
            "                       min_samples_leaf=1, min_samples_split=2,\n",
            "                       min_weight_fraction_leaf=0.0, n_estimators=200,\n",
            "                       n_jobs=None, oob_score=False, random_state=None,\n",
            "                       verbose=0, warm_start=False)\n",
            "\n",
            "----------------------------------------------------------------------------------------------------\n",
            "The best index of the random forest model:  16\n",
            "\n",
            "----------------------------------------------------------------------------------------------------\n",
            "The best parameter of the random forest model:  {'bootstrap': True, 'criterion': 'entropy', 'max_leaf_nodes': None, 'n_estimators': 200}\n",
            "\n",
            "----------------------------------------------------------------------------------------------------\n",
            "The best score of the random forest model:  0.8498333333333332\n"
          ],
          "name": "stdout"
        }
      ]
    },
    {
      "cell_type": "code",
      "metadata": {
        "id": "mP-KBauiWDCS"
      },
      "source": [
        "from sklearn.tree import DecisionTreeClassifier\n",
        "\n",
        "dt = DecisionTreeClassifier(max_depth=3)\n",
        "dt.fit(X_train_res, y_train_res)\n",
        "dt_pred = dt.predict(X_test_res)"
      ],
      "execution_count": 246,
      "outputs": []
    },
    {
      "cell_type": "code",
      "metadata": {
        "colab": {
          "base_uri": "https://localhost:8080/"
        },
        "id": "fxy2-H9KWDFu",
        "outputId": "b92dbeef-3574-43b6-8d43-db9b6baffbda"
      },
      "source": [
        "#Define method to evaluate model\n",
        "cv = RepeatedStratifiedKFold(n_splits=10, n_repeats=3, random_state=1)\n",
        "\n",
        "#evaluate model\n",
        "scores = cross_val_score(dt, X_train_res, y_train_res, scoring='accuracy', cv=cv, n_jobs=-1)\n",
        "print(np.mean(scores))  "
      ],
      "execution_count": 239,
      "outputs": [
        {
          "output_type": "stream",
          "text": [
            "0.7920555555555556\n"
          ],
          "name": "stdout"
        }
      ]
    },
    {
      "cell_type": "code",
      "metadata": {
        "id": "TQyd6tvTWDI8"
      },
      "source": [
        "\n",
        "# define grid\n",
        "grid = {'splitter': ['random', 'best'], 'criterion': ['gini', 'entropy'], 'max_leaf_nodes': [int, None], 'max_features': ['auto', 'sqrt', 'log2']}\n",
        "\n",
        "# define search\n",
        "search = GridSearchCV(dt, grid, scoring='accuracy', cv=cv, n_jobs=-1)\n",
        "\n",
        "# fit the search\n",
        "dt_results = search.fit(X_train_res, y_train_res)\n",
        "\n"
      ],
      "execution_count": 240,
      "outputs": []
    },
    {
      "cell_type": "code",
      "metadata": {
        "colab": {
          "base_uri": "https://localhost:8080/"
        },
        "id": "e_zJlzGnWDLM",
        "outputId": "9ecea728-a946-4cf2-ae08-271dd56a29c1"
      },
      "source": [
        "print('The best estimator of the decision tree model: ', dt_results.best_estimator_)\n",
        "print()\n",
        "print('-'*100)\n",
        "print('The best index of the decision tree model: ', dt_results.best_index_)\n",
        "print()\n",
        "print('-'*100)\n",
        "print('The best parameter of the decision tree model: ', dt_results.best_params_)\n",
        "print()\n",
        "print('-'*100)\n",
        "print('The best score of the decision tree model: ', dt_results.best_score_)"
      ],
      "execution_count": 241,
      "outputs": [
        {
          "output_type": "stream",
          "text": [
            "The best estimator of the decision tree model:  DecisionTreeClassifier(ccp_alpha=0.0, class_weight=None, criterion='gini',\n",
            "                       max_depth=None, max_features='sqrt', max_leaf_nodes=None,\n",
            "                       min_impurity_decrease=0.0, min_impurity_split=None,\n",
            "                       min_samples_leaf=1, min_samples_split=2,\n",
            "                       min_weight_fraction_leaf=0.0, presort='deprecated',\n",
            "                       random_state=None, splitter='best')\n",
            "\n",
            "----------------------------------------------------------------------------------------------------\n",
            "The best index of the decision tree model:  7\n",
            "\n",
            "----------------------------------------------------------------------------------------------------\n",
            "The best parameter of the decision tree model:  {'criterion': 'gini', 'max_features': 'sqrt', 'max_leaf_nodes': None, 'splitter': 'best'}\n",
            "\n",
            "----------------------------------------------------------------------------------------------------\n",
            "The best score of the decision tree model:  0.791888888888889\n"
          ],
          "name": "stdout"
        }
      ]
    },
    {
      "cell_type": "code",
      "metadata": {
        "id": "QeBPKTGUWDOK"
      },
      "source": [
        "from sklearn.tree import plot_tree\n"
      ],
      "execution_count": 242,
      "outputs": []
    },
    {
      "cell_type": "code",
      "metadata": {
        "colab": {
          "base_uri": "https://localhost:8080/",
          "height": 676
        },
        "id": "pFGgr44zWDQU",
        "outputId": "76f17f40-0f2a-4852-8f5b-0e71a591cd86"
      },
      "source": [
        "plt.figure(figsize=(25, 10))\n",
        "class_names = ['no_recurrence', 'recurrence']\n",
        "plot_tree(dt,feature_names=X.columns, class_names= class_names, filled=True, rounded=True, fontsize=14 )"
      ],
      "execution_count": 248,
      "outputs": [
        {
          "output_type": "execute_result",
          "data": {
            "text/plain": [
              "[Text(590.1923076923077, 475.65000000000003, 'inv-nodes <= 2.05\\ngini = 0.5\\nsamples = 242\\nvalue = [121, 121]\\nclass = no_recurrence'),\n",
              " Text(214.6153846153846, 339.75, 'tumor-size <= 14.5\\ngini = 0.426\\nsamples = 156\\nvalue = [108, 48]\\nclass = no_recurrence'),\n",
              " Text(107.3076923076923, 203.85000000000002, 'gini = 0.0\\nsamples = 32\\nvalue = [32, 0]\\nclass = no_recurrence'),\n",
              " Text(321.9230769230769, 203.85000000000002, 'menopause <= 0.802\\ngini = 0.475\\nsamples = 124\\nvalue = [76, 48]\\nclass = no_recurrence'),\n",
              " Text(214.6153846153846, 67.94999999999999, 'gini = 0.499\\nsamples = 75\\nvalue = [36, 39]\\nclass = recurrence'),\n",
              " Text(429.2307692307692, 67.94999999999999, 'gini = 0.3\\nsamples = 49\\nvalue = [40, 9]\\nclass = no_recurrence'),\n",
              " Text(965.7692307692307, 339.75, 'breast <= 0.989\\ngini = 0.257\\nsamples = 86\\nvalue = [13, 73]\\nclass = recurrence'),\n",
              " Text(751.1538461538462, 203.85000000000002, 'breast-quad <= 3.424\\ngini = 0.094\\nsamples = 61\\nvalue = [3, 58]\\nclass = recurrence'),\n",
              " Text(643.8461538461538, 67.94999999999999, 'gini = 0.064\\nsamples = 60\\nvalue = [2, 58]\\nclass = recurrence'),\n",
              " Text(858.4615384615385, 67.94999999999999, 'gini = 0.0\\nsamples = 1\\nvalue = [1, 0]\\nclass = no_recurrence'),\n",
              " Text(1180.3846153846155, 203.85000000000002, 'irradiat <= 0.662\\ngini = 0.48\\nsamples = 25\\nvalue = [10, 15]\\nclass = recurrence'),\n",
              " Text(1073.076923076923, 67.94999999999999, 'gini = 0.305\\nsamples = 16\\nvalue = [3, 13]\\nclass = recurrence'),\n",
              " Text(1287.6923076923076, 67.94999999999999, 'gini = 0.346\\nsamples = 9\\nvalue = [7, 2]\\nclass = no_recurrence')]"
            ]
          },
          "metadata": {
            "tags": []
          },
          "execution_count": 248
        },
        {
          "output_type": "display_data",
          "data": {
            "image/png": "[encoded data removed]",
            "text/plain": [
              "<Figure size 1800x720 with 1 Axes>"
            ]
          },
          "metadata": {
            "tags": []
          }
        }
      ]
    },
    {
      "cell_type": "code",
      "metadata": {
        "id": "JXVsZjPOXewZ"
      },
      "source": [
        ""
      ],
      "execution_count": null,
      "outputs": []
    }
  ]
}